{
 "cells": [
  {
   "cell_type": "markdown",
   "id": "83ca8298",
   "metadata": {},
   "source": [
    "### 01 파이썬 시작하기"
   ]
  },
  {
   "cell_type": "code",
   "execution_count": 2,
   "id": "6cc8aebf",
   "metadata": {},
   "outputs": [
    {
     "name": "stdout",
     "output_type": "stream",
     "text": [
      "hello world\n"
     ]
    }
   ],
   "source": [
    "#001\n",
    "print('hello world')"
   ]
  },
  {
   "cell_type": "code",
   "execution_count": 3,
   "id": "6e410845",
   "metadata": {},
   "outputs": [
    {
     "name": "stdout",
     "output_type": "stream",
     "text": [
      "mary's cosmetic\n"
     ]
    }
   ],
   "source": [
    "#002\n",
    "print(\"mary's cosmetic\")"
   ]
  },
  {
   "cell_type": "code",
   "execution_count": 4,
   "id": "529e7523",
   "metadata": {},
   "outputs": [
    {
     "name": "stdout",
     "output_type": "stream",
     "text": [
      "신씨가 소리질렀다.\"도둑이야.\"\n"
     ]
    }
   ],
   "source": [
    "#003\n",
    "print('신씨가 소리질렀다.\"도둑이야.\"')"
   ]
  },
  {
   "cell_type": "code",
   "execution_count": 8,
   "id": "9810fd5f",
   "metadata": {},
   "outputs": [
    {
     "name": "stdout",
     "output_type": "stream",
     "text": [
      "C:\\Windows\n"
     ]
    }
   ],
   "source": [
    "#004\n",
    "print(\"C:\\Windows\")"
   ]
  },
  {
   "cell_type": "code",
   "execution_count": 11,
   "id": "7d413302",
   "metadata": {},
   "outputs": [
    {
     "name": "stdout",
     "output_type": "stream",
     "text": [
      "안녕하세요.\n",
      "만나서\t\t반갑습니다.\n"
     ]
    }
   ],
   "source": [
    "#005\n",
    "print(\"안녕하세요.\\n만나서\\t\\t반갑습니다.\") #\\n 은 줄바꿈, \\t 탭의 역할을 합니다."
   ]
  },
  {
   "cell_type": "code",
   "execution_count": 14,
   "id": "e33c7277",
   "metadata": {},
   "outputs": [
    {
     "name": "stdout",
     "output_type": "stream",
     "text": [
      "오늘은 일요일\n"
     ]
    }
   ],
   "source": [
    "#006\n",
    "print (\"오늘은\", \"일요일\")#오늘은 다음에 공백이 하나 있고 일요일이 출력됩니다."
   ]
  },
  {
   "cell_type": "code",
   "execution_count": 18,
   "id": "83691baf",
   "metadata": {},
   "outputs": [
    {
     "name": "stdout",
     "output_type": "stream",
     "text": [
      "naver;kakao;samsung\n"
     ]
    }
   ],
   "source": [
    "#007\n",
    "print(\"naver\", \"kakao\", \"samsung\", sep=\";\")"
   ]
  },
  {
   "cell_type": "code",
   "execution_count": 19,
   "id": "37c9bd68",
   "metadata": {},
   "outputs": [
    {
     "name": "stdout",
     "output_type": "stream",
     "text": [
      "naver/kakao/samsung\n"
     ]
    }
   ],
   "source": [
    "#008\n",
    "print(\"naver\", \"kakao\", \"samsung\", sep=\"/\")"
   ]
  },
  {
   "cell_type": "code",
   "execution_count": 22,
   "id": "d53d16af",
   "metadata": {},
   "outputs": [
    {
     "name": "stdout",
     "output_type": "stream",
     "text": [
      "firstsecond\n"
     ]
    }
   ],
   "source": [
    "#009\n",
    "print(\"first\", end=\"\"); print(\"second\")"
   ]
  },
  {
   "cell_type": "code",
   "execution_count": 23,
   "id": "c1cff2ab",
   "metadata": {
    "scrolled": true
   },
   "outputs": [
    {
     "name": "stdout",
     "output_type": "stream",
     "text": [
      "1.6666666666666667\n"
     ]
    }
   ],
   "source": [
    "#010\n",
    "print(5/3)"
   ]
  },
  {
   "cell_type": "markdown",
   "id": "9c1d8d48",
   "metadata": {},
   "source": [
    "### 02 파이썬 변수"
   ]
  },
  {
   "cell_type": "code",
   "execution_count": 25,
   "id": "a0dc63e9",
   "metadata": {},
   "outputs": [
    {
     "name": "stdout",
     "output_type": "stream",
     "text": [
      "500000\n"
     ]
    }
   ],
   "source": [
    "#011\n",
    "삼성전자=50000\n",
    "총평가금액=삼성전자*10\n",
    "print(총평가금액)"
   ]
  },
  {
   "cell_type": "code",
   "execution_count": 29,
   "id": "ac9c02a9",
   "metadata": {},
   "outputs": [
    {
     "name": "stdout",
     "output_type": "stream",
     "text": [
      "298000000000000 <class 'int'>\n",
      "50000 <class 'int'>\n",
      "15.79 <class 'float'>\n"
     ]
    }
   ],
   "source": [
    "#012\n",
    "시가총액=298000000000000\n",
    "현재가=50000\n",
    "per=15.79\n",
    "print(시가총액, type(시가총액))\n",
    "print(현재가, type(현재가))\n",
    "print(per, type(per))"
   ]
  },
  {
   "cell_type": "code",
   "execution_count": 37,
   "id": "a7c90a86",
   "metadata": {},
   "outputs": [
    {
     "name": "stdout",
     "output_type": "stream",
     "text": [
      "hello! python\n"
     ]
    }
   ],
   "source": [
    "#013\n",
    "s = \"hello\"\n",
    "t = \"python\"\n",
    "print(s+'!',t)"
   ]
  },
  {
   "cell_type": "code",
   "execution_count": 40,
   "id": "2fd9d98c",
   "metadata": {},
   "outputs": [
    {
     "name": "stdout",
     "output_type": "stream",
     "text": [
      "8\n"
     ]
    }
   ],
   "source": [
    "#014\n",
    "print(2+2*3)"
   ]
  },
  {
   "cell_type": "code",
   "execution_count": 45,
   "id": "7394711b",
   "metadata": {},
   "outputs": [
    {
     "name": "stdout",
     "output_type": "stream",
     "text": [
      "<class 'str'>\n"
     ]
    }
   ],
   "source": [
    "#015\n",
    "a=\"132\"\n",
    "print(type(a))\n"
   ]
  },
  {
   "cell_type": "code",
   "execution_count": 55,
   "id": "9fdcf760",
   "metadata": {},
   "outputs": [
    {
     "name": "stdout",
     "output_type": "stream",
     "text": [
      "720 <class 'int'>\n"
     ]
    }
   ],
   "source": [
    "#016\n",
    "num_str = \"720\"\n",
    "num_int = int(num_str)\n",
    "print(num_int, type(num_int))\n"
   ]
  },
  {
   "cell_type": "code",
   "execution_count": 59,
   "id": "42624e6e",
   "metadata": {},
   "outputs": [
    {
     "name": "stdout",
     "output_type": "stream",
     "text": [
      "100 <class 'str'>\n"
     ]
    }
   ],
   "source": [
    "#017\n",
    "num = 100\n",
    "result = str(num)\n",
    "print(result, type(result))"
   ]
  },
  {
   "cell_type": "code",
   "execution_count": 61,
   "id": "fd5c6e2a",
   "metadata": {},
   "outputs": [
    {
     "name": "stdout",
     "output_type": "stream",
     "text": [
      "100.0 <class 'float'>\n"
     ]
    }
   ],
   "source": [
    "#018\n",
    "data = 100\n",
    "data = float(data)\n",
    "print(data, type(data))"
   ]
  },
  {
   "cell_type": "code",
   "execution_count": 64,
   "id": "5aa0d120",
   "metadata": {},
   "outputs": [
    {
     "name": "stdout",
     "output_type": "stream",
     "text": [
      "2017\n",
      "2018\n",
      "2019\n"
     ]
    }
   ],
   "source": [
    "#019\n",
    "year = 2020\n",
    "print(int(year)-3)\n",
    "print(int(year)-2)\n",
    "print(int(year)-1)"
   ]
  },
  {
   "cell_type": "code",
   "execution_count": 66,
   "id": "31beb0c3",
   "metadata": {},
   "outputs": [
    {
     "name": "stdout",
     "output_type": "stream",
     "text": [
      "1749024\n"
     ]
    }
   ],
   "source": [
    "#020\n",
    "월=48584\n",
    "총금액 = 월 * 36\n",
    "print(총금액)"
   ]
  },
  {
   "cell_type": "code",
   "execution_count": null,
   "id": "5d70ae77",
   "metadata": {},
   "outputs": [],
   "source": [
    "#021"
   ]
  },
  {
   "cell_type": "code",
   "execution_count": null,
   "id": "4f9ff829",
   "metadata": {},
   "outputs": [],
   "source": [
    "#022"
   ]
  },
  {
   "cell_type": "code",
   "execution_count": null,
   "id": "3ed93557",
   "metadata": {},
   "outputs": [],
   "source": [
    "#023"
   ]
  },
  {
   "cell_type": "code",
   "execution_count": null,
   "id": "4237f0f6",
   "metadata": {},
   "outputs": [],
   "source": [
    "#024"
   ]
  },
  {
   "cell_type": "code",
   "execution_count": null,
   "id": "07c2814d",
   "metadata": {},
   "outputs": [],
   "source": [
    "#025"
   ]
  },
  {
   "cell_type": "code",
   "execution_count": null,
   "id": "073a6e3a",
   "metadata": {},
   "outputs": [],
   "source": [
    "#026"
   ]
  },
  {
   "cell_type": "code",
   "execution_count": null,
   "id": "5f6bd7e9",
   "metadata": {},
   "outputs": [],
   "source": [
    "#027"
   ]
  },
  {
   "cell_type": "code",
   "execution_count": null,
   "id": "cd14ad9f",
   "metadata": {},
   "outputs": [],
   "source": [
    "#028"
   ]
  },
  {
   "cell_type": "code",
   "execution_count": null,
   "id": "78fe5b11",
   "metadata": {},
   "outputs": [],
   "source": [
    "#029"
   ]
  },
  {
   "cell_type": "code",
   "execution_count": null,
   "id": "8cd0448c",
   "metadata": {},
   "outputs": [],
   "source": [
    "#030"
   ]
  },
  {
   "cell_type": "code",
   "execution_count": null,
   "id": "1d3704c3",
   "metadata": {},
   "outputs": [],
   "source": [
    "#031"
   ]
  },
  {
   "cell_type": "code",
   "execution_count": null,
   "id": "1be1b3ea",
   "metadata": {},
   "outputs": [],
   "source": [
    "#032"
   ]
  },
  {
   "cell_type": "code",
   "execution_count": null,
   "id": "7c16bb35",
   "metadata": {},
   "outputs": [],
   "source": [
    "#033"
   ]
  },
  {
   "cell_type": "code",
   "execution_count": null,
   "id": "861402f0",
   "metadata": {},
   "outputs": [],
   "source": [
    "#034"
   ]
  },
  {
   "cell_type": "code",
   "execution_count": null,
   "id": "83f4cbb4",
   "metadata": {},
   "outputs": [],
   "source": [
    "#035"
   ]
  },
  {
   "cell_type": "code",
   "execution_count": null,
   "id": "e22b3dd5",
   "metadata": {},
   "outputs": [],
   "source": [
    "#036"
   ]
  },
  {
   "cell_type": "code",
   "execution_count": null,
   "id": "3eaee79d",
   "metadata": {},
   "outputs": [],
   "source": [
    "#037"
   ]
  },
  {
   "cell_type": "code",
   "execution_count": null,
   "id": "3e769814",
   "metadata": {},
   "outputs": [],
   "source": [
    "#038"
   ]
  }
 ],
 "metadata": {
  "kernelspec": {
   "display_name": "Python 3 (ipykernel)",
   "language": "python",
   "name": "python3"
  },
  "language_info": {
   "codemirror_mode": {
    "name": "ipython",
    "version": 3
   },
   "file_extension": ".py",
   "mimetype": "text/x-python",
   "name": "python",
   "nbconvert_exporter": "python",
   "pygments_lexer": "ipython3",
   "version": "3.11.5"
  }
 },
 "nbformat": 4,
 "nbformat_minor": 5
}
