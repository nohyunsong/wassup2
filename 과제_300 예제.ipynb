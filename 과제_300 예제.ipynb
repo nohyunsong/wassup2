{
 "cells": [
  {
   "cell_type": "code",
   "execution_count": 2,
   "id": "3b649648",
   "metadata": {},
   "outputs": [
    {
     "name": "stdout",
     "output_type": "stream",
     "text": [
      "hello world\n"
     ]
    }
   ],
   "source": [
    "#001\n",
    "print('hello world')"
   ]
  },
  {
   "cell_type": "code",
   "execution_count": 3,
   "id": "14f02a73",
   "metadata": {},
   "outputs": [
    {
     "name": "stdout",
     "output_type": "stream",
     "text": [
      "mary's cosmetic\n"
     ]
    }
   ],
   "source": [
    "#002\n",
    "print(\"mary's cosmetic\")"
   ]
  },
  {
   "cell_type": "code",
   "execution_count": 4,
   "id": "75e3973f",
   "metadata": {},
   "outputs": [
    {
     "name": "stdout",
     "output_type": "stream",
     "text": [
      "신씨가 소리질렀다.\"도둑이야.\"\n"
     ]
    }
   ],
   "source": [
    "#003\n",
    "print('신씨가 소리질렀다.\"도둑이야.\"')"
   ]
  },
  {
   "cell_type": "code",
   "execution_count": 8,
   "id": "88e54a54",
   "metadata": {},
   "outputs": [
    {
     "name": "stdout",
     "output_type": "stream",
     "text": [
      "C:\\Windows\n"
     ]
    }
   ],
   "source": [
    "#004\n",
    "print(\"C:\\Windows\")"
   ]
  },
  {
   "cell_type": "code",
   "execution_count": 11,
   "id": "5b3829bf",
   "metadata": {},
   "outputs": [
    {
     "name": "stdout",
     "output_type": "stream",
     "text": [
      "안녕하세요.\n",
      "만나서\t\t반갑습니다.\n"
     ]
    }
   ],
   "source": [
    "#005\n",
    "print(\"안녕하세요.\\n만나서\\t\\t반갑습니다.\")"
   ]
  },
  {
   "cell_type": "code",
   "execution_count": 13,
   "id": "da689276",
   "metadata": {},
   "outputs": [
    {
     "name": "stdout",
     "output_type": "stream",
     "text": [
      "오늘은,일요일\n"
     ]
    }
   ],
   "source": [
    "#006\n",
    "print(''\"오늘은\"','\"일요일\")"
   ]
  },
  {
   "cell_type": "code",
   "execution_count": null,
   "id": "02fe410f",
   "metadata": {},
   "outputs": [],
   "source": [
    "#007"
   ]
  },
  {
   "cell_type": "code",
   "execution_count": null,
   "id": "545eaedc",
   "metadata": {},
   "outputs": [],
   "source": [
    "#008"
   ]
  },
  {
   "cell_type": "code",
   "execution_count": null,
   "id": "58232286",
   "metadata": {},
   "outputs": [],
   "source": [
    "#009"
   ]
  },
  {
   "cell_type": "code",
   "execution_count": null,
   "id": "6816dac3",
   "metadata": {},
   "outputs": [],
   "source": [
    "#010"
   ]
  },
  {
   "cell_type": "code",
   "execution_count": null,
   "id": "309c21d9",
   "metadata": {},
   "outputs": [],
   "source": [
    "#011"
   ]
  },
  {
   "cell_type": "code",
   "execution_count": null,
   "id": "260f9638",
   "metadata": {},
   "outputs": [],
   "source": [
    "#012"
   ]
  },
  {
   "cell_type": "code",
   "execution_count": null,
   "id": "fcaa42ad",
   "metadata": {},
   "outputs": [],
   "source": [
    "#013"
   ]
  },
  {
   "cell_type": "code",
   "execution_count": null,
   "id": "87057b46",
   "metadata": {},
   "outputs": [],
   "source": [
    "#014"
   ]
  },
  {
   "cell_type": "code",
   "execution_count": null,
   "id": "14cc8f5d",
   "metadata": {},
   "outputs": [],
   "source": [
    "#015"
   ]
  },
  {
   "cell_type": "code",
   "execution_count": null,
   "id": "1f943ed4",
   "metadata": {},
   "outputs": [],
   "source": [
    "#016"
   ]
  },
  {
   "cell_type": "code",
   "execution_count": null,
   "id": "f9b1f8da",
   "metadata": {},
   "outputs": [],
   "source": [
    "#017"
   ]
  },
  {
   "cell_type": "code",
   "execution_count": null,
   "id": "28bb5328",
   "metadata": {},
   "outputs": [],
   "source": [
    "#018"
   ]
  },
  {
   "cell_type": "code",
   "execution_count": null,
   "id": "6c2fe065",
   "metadata": {},
   "outputs": [],
   "source": [
    "#019"
   ]
  },
  {
   "cell_type": "code",
   "execution_count": null,
   "id": "9fa76d2c",
   "metadata": {},
   "outputs": [],
   "source": [
    "#020"
   ]
  },
  {
   "cell_type": "code",
   "execution_count": null,
   "id": "743a6a7f",
   "metadata": {},
   "outputs": [],
   "source": [
    "#021"
   ]
  },
  {
   "cell_type": "code",
   "execution_count": null,
   "id": "d3aa58a8",
   "metadata": {},
   "outputs": [],
   "source": [
    "#022"
   ]
  },
  {
   "cell_type": "code",
   "execution_count": null,
   "id": "b8ffa0f6",
   "metadata": {},
   "outputs": [],
   "source": [
    "#023"
   ]
  },
  {
   "cell_type": "code",
   "execution_count": null,
   "id": "0e23e1b0",
   "metadata": {},
   "outputs": [],
   "source": [
    "#024"
   ]
  },
  {
   "cell_type": "code",
   "execution_count": null,
   "id": "025d670c",
   "metadata": {},
   "outputs": [],
   "source": [
    "#025"
   ]
  },
  {
   "cell_type": "code",
   "execution_count": null,
   "id": "225a6f2e",
   "metadata": {},
   "outputs": [],
   "source": [
    "#026"
   ]
  },
  {
   "cell_type": "code",
   "execution_count": null,
   "id": "3e1df878",
   "metadata": {},
   "outputs": [],
   "source": [
    "#027"
   ]
  },
  {
   "cell_type": "code",
   "execution_count": null,
   "id": "793725ba",
   "metadata": {},
   "outputs": [],
   "source": [
    "#028"
   ]
  },
  {
   "cell_type": "code",
   "execution_count": null,
   "id": "2232add2",
   "metadata": {},
   "outputs": [],
   "source": [
    "#029"
   ]
  },
  {
   "cell_type": "code",
   "execution_count": null,
   "id": "afa35ce4",
   "metadata": {},
   "outputs": [],
   "source": [
    "#030"
   ]
  },
  {
   "cell_type": "code",
   "execution_count": null,
   "id": "5cf58182",
   "metadata": {},
   "outputs": [],
   "source": [
    "#031"
   ]
  },
  {
   "cell_type": "code",
   "execution_count": null,
   "id": "f52c5db9",
   "metadata": {},
   "outputs": [],
   "source": [
    "#032"
   ]
  },
  {
   "cell_type": "code",
   "execution_count": null,
   "id": "e95aeea2",
   "metadata": {},
   "outputs": [],
   "source": [
    "#033"
   ]
  },
  {
   "cell_type": "code",
   "execution_count": null,
   "id": "acf5dafe",
   "metadata": {},
   "outputs": [],
   "source": [
    "#034"
   ]
  },
  {
   "cell_type": "code",
   "execution_count": null,
   "id": "4ac12d14",
   "metadata": {},
   "outputs": [],
   "source": [
    "#035"
   ]
  },
  {
   "cell_type": "code",
   "execution_count": null,
   "id": "68b24f79",
   "metadata": {},
   "outputs": [],
   "source": [
    "#036"
   ]
  },
  {
   "cell_type": "code",
   "execution_count": null,
   "id": "e8b33416",
   "metadata": {},
   "outputs": [],
   "source": [
    "#037"
   ]
  },
  {
   "cell_type": "code",
   "execution_count": null,
   "id": "34f3d32f",
   "metadata": {},
   "outputs": [],
   "source": [
    "#038"
   ]
  }
 ],
 "metadata": {
  "kernelspec": {
   "display_name": "Python 3 (ipykernel)",
   "language": "python",
   "name": "python3"
  },
  "language_info": {
   "codemirror_mode": {
    "name": "ipython",
    "version": 3
   },
   "file_extension": ".py",
   "mimetype": "text/x-python",
   "name": "python",
   "nbconvert_exporter": "python",
   "pygments_lexer": "ipython3",
   "version": "3.11.5"
  }
 },
 "nbformat": 4,
 "nbformat_minor": 5
}
