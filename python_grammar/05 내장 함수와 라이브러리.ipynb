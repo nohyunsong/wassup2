{
 "cells": [
  {
   "cell_type": "markdown",
   "id": "47c889fd",
   "metadata": {},
   "source": [
    "# 내장 함수"
   ]
  },
  {
   "cell_type": "markdown",
   "id": "0958cee9",
   "metadata": {},
   "source": [
    "- abs"
   ]
  },
  {
   "cell_type": "code",
   "execution_count": 3,
   "id": "6ee4e76c",
   "metadata": {},
   "outputs": [
    {
     "data": {
      "text/plain": [
       "3"
      ]
     },
     "execution_count": 3,
     "metadata": {},
     "output_type": "execute_result"
    }
   ],
   "source": [
    "abs(3)"
   ]
  },
  {
   "cell_type": "code",
   "execution_count": 2,
   "id": "a762c296",
   "metadata": {},
   "outputs": [
    {
     "data": {
      "text/plain": [
       "1.2"
      ]
     },
     "execution_count": 2,
     "metadata": {},
     "output_type": "execute_result"
    }
   ],
   "source": [
    "abs(-1.2)"
   ]
  },
  {
   "cell_type": "markdown",
   "id": "5b474977",
   "metadata": {},
   "source": [
    "- all"
   ]
  },
  {
   "cell_type": "code",
   "execution_count": 4,
   "id": "0a273e2a",
   "metadata": {},
   "outputs": [
    {
     "data": {
      "text/plain": [
       "True"
      ]
     },
     "execution_count": 4,
     "metadata": {},
     "output_type": "execute_result"
    }
   ],
   "source": [
    "all([1, 2, 3])"
   ]
  },
  {
   "cell_type": "code",
   "execution_count": 5,
   "id": "ff398e50",
   "metadata": {},
   "outputs": [
    {
     "data": {
      "text/plain": [
       "False"
      ]
     },
     "execution_count": 5,
     "metadata": {},
     "output_type": "execute_result"
    }
   ],
   "source": [
    "all([1, 2, 3, 0])"
   ]
  },
  {
   "cell_type": "code",
   "execution_count": 6,
   "id": "beb853ef",
   "metadata": {},
   "outputs": [
    {
     "data": {
      "text/plain": [
       "True"
      ]
     },
     "execution_count": 6,
     "metadata": {},
     "output_type": "execute_result"
    }
   ],
   "source": [
    "all([])"
   ]
  },
  {
   "cell_type": "markdown",
   "id": "dd0b6e4e",
   "metadata": {},
   "source": [
    "- any"
   ]
  },
  {
   "cell_type": "code",
   "execution_count": 7,
   "id": "97556040",
   "metadata": {},
   "outputs": [
    {
     "data": {
      "text/plain": [
       "True"
      ]
     },
     "execution_count": 7,
     "metadata": {},
     "output_type": "execute_result"
    }
   ],
   "source": [
    "any([1, 2, 3, 0])"
   ]
  },
  {
   "cell_type": "code",
   "execution_count": 8,
   "id": "22ca6dbe",
   "metadata": {},
   "outputs": [
    {
     "data": {
      "text/plain": [
       "False"
      ]
     },
     "execution_count": 8,
     "metadata": {},
     "output_type": "execute_result"
    }
   ],
   "source": [
    "any([0, \"\"])"
   ]
  },
  {
   "cell_type": "code",
   "execution_count": 9,
   "id": "920bbb38",
   "metadata": {},
   "outputs": [
    {
     "data": {
      "text/plain": [
       "False"
      ]
     },
     "execution_count": 9,
     "metadata": {},
     "output_type": "execute_result"
    }
   ],
   "source": [
    "any([])"
   ]
  },
  {
   "cell_type": "markdown",
   "id": "b7ded3db",
   "metadata": {},
   "source": [
    "- chr: chr(i)는 유니코드 숫자 값을 입력"
   ]
  },
  {
   "cell_type": "code",
   "execution_count": 10,
   "id": "08530175",
   "metadata": {},
   "outputs": [
    {
     "data": {
      "text/plain": [
       "'a'"
      ]
     },
     "execution_count": 10,
     "metadata": {},
     "output_type": "execute_result"
    }
   ],
   "source": [
    "chr(97)"
   ]
  },
  {
   "cell_type": "code",
   "execution_count": 11,
   "id": "877d3964",
   "metadata": {},
   "outputs": [
    {
     "data": {
      "text/plain": [
       "'가'"
      ]
     },
     "execution_count": 11,
     "metadata": {},
     "output_type": "execute_result"
    }
   ],
   "source": [
    "chr(44032)"
   ]
  },
  {
   "cell_type": "markdown",
   "id": "b2b3c7a9",
   "metadata": {},
   "source": [
    "- dir"
   ]
  },
  {
   "cell_type": "code",
   "execution_count": 12,
   "id": "e9bc3850",
   "metadata": {},
   "outputs": [
    {
     "data": {
      "text/plain": [
       "['__add__',\n",
       " '__class__',\n",
       " '__class_getitem__',\n",
       " '__contains__',\n",
       " '__delattr__',\n",
       " '__delitem__',\n",
       " '__dir__',\n",
       " '__doc__',\n",
       " '__eq__',\n",
       " '__format__',\n",
       " '__ge__',\n",
       " '__getattribute__',\n",
       " '__getitem__',\n",
       " '__getstate__',\n",
       " '__gt__',\n",
       " '__hash__',\n",
       " '__iadd__',\n",
       " '__imul__',\n",
       " '__init__',\n",
       " '__init_subclass__',\n",
       " '__iter__',\n",
       " '__le__',\n",
       " '__len__',\n",
       " '__lt__',\n",
       " '__mul__',\n",
       " '__ne__',\n",
       " '__new__',\n",
       " '__reduce__',\n",
       " '__reduce_ex__',\n",
       " '__repr__',\n",
       " '__reversed__',\n",
       " '__rmul__',\n",
       " '__setattr__',\n",
       " '__setitem__',\n",
       " '__sizeof__',\n",
       " '__str__',\n",
       " '__subclasshook__',\n",
       " 'append',\n",
       " 'clear',\n",
       " 'copy',\n",
       " 'count',\n",
       " 'extend',\n",
       " 'index',\n",
       " 'insert',\n",
       " 'pop',\n",
       " 'remove',\n",
       " 'reverse',\n",
       " 'sort']"
      ]
     },
     "execution_count": 12,
     "metadata": {},
     "output_type": "execute_result"
    }
   ],
   "source": [
    "dir([1, 2, 3])"
   ]
  },
  {
   "cell_type": "code",
   "execution_count": 13,
   "id": "5949bc63",
   "metadata": {},
   "outputs": [
    {
     "data": {
      "text/plain": [
       "['__class__',\n",
       " '__class_getitem__',\n",
       " '__contains__',\n",
       " '__delattr__',\n",
       " '__delitem__',\n",
       " '__dir__',\n",
       " '__doc__',\n",
       " '__eq__',\n",
       " '__format__',\n",
       " '__ge__',\n",
       " '__getattribute__',\n",
       " '__getitem__',\n",
       " '__getstate__',\n",
       " '__gt__',\n",
       " '__hash__',\n",
       " '__init__',\n",
       " '__init_subclass__',\n",
       " '__ior__',\n",
       " '__iter__',\n",
       " '__le__',\n",
       " '__len__',\n",
       " '__lt__',\n",
       " '__ne__',\n",
       " '__new__',\n",
       " '__or__',\n",
       " '__reduce__',\n",
       " '__reduce_ex__',\n",
       " '__repr__',\n",
       " '__reversed__',\n",
       " '__ror__',\n",
       " '__setattr__',\n",
       " '__setitem__',\n",
       " '__sizeof__',\n",
       " '__str__',\n",
       " '__subclasshook__',\n",
       " 'clear',\n",
       " 'copy',\n",
       " 'fromkeys',\n",
       " 'get',\n",
       " 'items',\n",
       " 'keys',\n",
       " 'pop',\n",
       " 'popitem',\n",
       " 'setdefault',\n",
       " 'update',\n",
       " 'values']"
      ]
     },
     "execution_count": 13,
     "metadata": {},
     "output_type": "execute_result"
    }
   ],
   "source": [
    "dir({'1':'a'})"
   ]
  },
  {
   "cell_type": "markdown",
   "id": "cea5a90f",
   "metadata": {},
   "source": [
    "- divmod: divmod(a, b)는 2개의 숫자 a, b를 입력으로 받는다. 그리고 a를 b로 나눈 몫과 나머지를 튜플로 리턴한다."
   ]
  },
  {
   "cell_type": "code",
   "execution_count": 14,
   "id": "3c190591",
   "metadata": {},
   "outputs": [
    {
     "data": {
      "text/plain": [
       "(2, 1)"
      ]
     },
     "execution_count": 14,
     "metadata": {},
     "output_type": "execute_result"
    }
   ],
   "source": [
    "divmod(7, 3)"
   ]
  },
  {
   "cell_type": "markdown",
   "id": "555c2d17",
   "metadata": {},
   "source": [
    "#### * enumerate"
   ]
  },
  {
   "cell_type": "code",
   "execution_count": 15,
   "id": "d8e477cb",
   "metadata": {},
   "outputs": [
    {
     "name": "stdout",
     "output_type": "stream",
     "text": [
      "0 body\n",
      "1 foo\n",
      "2 bar\n"
     ]
    }
   ],
   "source": [
    ">>> for i, name in enumerate(['body', 'foo', 'bar']):\n",
    "...     print(i, name)"
   ]
  },
  {
   "cell_type": "markdown",
   "id": "2ddfe75c",
   "metadata": {},
   "source": [
    "#### * filter"
   ]
  },
  {
   "cell_type": "code",
   "execution_count": 20,
   "id": "d1df9476",
   "metadata": {},
   "outputs": [
    {
     "name": "stdout",
     "output_type": "stream",
     "text": [
      "[1, 2, 6]\n"
     ]
    }
   ],
   "source": [
    "def positive(l): \n",
    "    result = [] \n",
    "    for i in l: \n",
    "        if i > 0: \n",
    "            result.append(i) \n",
    "    return result\n",
    "\n",
    "print(positive([1,-3,2,0,-5,6]))"
   ]
  },
  {
   "cell_type": "code",
   "execution_count": 18,
   "id": "3ac79453",
   "metadata": {},
   "outputs": [
    {
     "name": "stdout",
     "output_type": "stream",
     "text": [
      "[1, 2, 6]\n"
     ]
    }
   ],
   "source": [
    "# filter1.py\n",
    "def positive(x):\n",
    "    return x > 0\n",
    "\n",
    "print(list(filter(positive, [1, -3, 2, 0, -5, 6])))"
   ]
  },
  {
   "cell_type": "code",
   "execution_count": 19,
   "id": "6603ba0b",
   "metadata": {},
   "outputs": [
    {
     "data": {
      "text/plain": [
       "[1, 2, 6]"
      ]
     },
     "execution_count": 19,
     "metadata": {},
     "output_type": "execute_result"
    }
   ],
   "source": [
    "list(filter(lambda x: x > 0, [1, -3, 2, 0, -5, 6]))"
   ]
  },
  {
   "cell_type": "markdown",
   "id": "3f1888d3",
   "metadata": {},
   "source": [
    "#### * map"
   ]
  },
  {
   "cell_type": "code",
   "execution_count": 24,
   "id": "1e8b8e46",
   "metadata": {},
   "outputs": [
    {
     "name": "stdout",
     "output_type": "stream",
     "text": [
      "[2, 4, 6, 8]\n"
     ]
    }
   ],
   "source": [
    "# two_times.py\n",
    "def two_times(numberList):\n",
    "    result = []\n",
    "    for number in numberList:\n",
    "        result.append(number*2)\n",
    "    return result\n",
    "\n",
    "result = two_times([1, 2, 3, 4])\n",
    "print(result)"
   ]
  },
  {
   "cell_type": "code",
   "execution_count": 25,
   "id": "1a72a005",
   "metadata": {},
   "outputs": [
    {
     "data": {
      "text/plain": [
       "[2, 4, 6, 8]"
      ]
     },
     "execution_count": 25,
     "metadata": {},
     "output_type": "execute_result"
    }
   ],
   "source": [
    ">>> def two_times(x): \n",
    "...     return x*2\n",
    "...\n",
    ">>> list(map(two_times, [1, 2, 3, 4]))\n",
    "[2, 4, 6, 8]"
   ]
  },
  {
   "cell_type": "code",
   "execution_count": 26,
   "id": "060c8ee4",
   "metadata": {},
   "outputs": [
    {
     "data": {
      "text/plain": [
       "[2, 4, 6, 8]"
      ]
     },
     "execution_count": 26,
     "metadata": {},
     "output_type": "execute_result"
    }
   ],
   "source": [
    ">>> list(map(lambda a: a*2, [1, 2, 3, 4]))\n",
    "[2, 4, 6, 8]"
   ]
  },
  {
   "cell_type": "markdown",
   "id": "fc26e118",
   "metadata": {},
   "source": [
    "- int"
   ]
  },
  {
   "cell_type": "code",
   "execution_count": 21,
   "id": "9c8c3c04",
   "metadata": {},
   "outputs": [
    {
     "data": {
      "text/plain": [
       "3"
      ]
     },
     "execution_count": 21,
     "metadata": {},
     "output_type": "execute_result"
    }
   ],
   "source": [
    "int('3')"
   ]
  },
  {
   "cell_type": "markdown",
   "id": "a8d105b1",
   "metadata": {},
   "source": [
    "- isinstance"
   ]
  },
  {
   "cell_type": "code",
   "execution_count": 23,
   "id": "d07f6c00",
   "metadata": {},
   "outputs": [
    {
     "data": {
      "text/plain": [
       "True"
      ]
     },
     "execution_count": 23,
     "metadata": {},
     "output_type": "execute_result"
    }
   ],
   "source": [
    "class Person: pass\n",
    ">>> a = Person()\n",
    ">>> isinstance(a, Person)"
   ]
  },
  {
   "cell_type": "markdown",
   "id": "bb93a359",
   "metadata": {},
   "source": [
    "- max"
   ]
  },
  {
   "cell_type": "code",
   "execution_count": 27,
   "id": "445528ca",
   "metadata": {},
   "outputs": [
    {
     "data": {
      "text/plain": [
       "3"
      ]
     },
     "execution_count": 27,
     "metadata": {},
     "output_type": "execute_result"
    }
   ],
   "source": [
    "max([1, 2, 3])"
   ]
  },
  {
   "cell_type": "markdown",
   "id": "38cf4273",
   "metadata": {},
   "source": [
    "- min"
   ]
  },
  {
   "cell_type": "code",
   "execution_count": 28,
   "id": "a60e8f8b",
   "metadata": {},
   "outputs": [
    {
     "data": {
      "text/plain": [
       "1"
      ]
     },
     "execution_count": 28,
     "metadata": {},
     "output_type": "execute_result"
    }
   ],
   "source": [
    "min([1, 2, 3])"
   ]
  },
  {
   "cell_type": "markdown",
   "id": "4189cffe",
   "metadata": {},
   "source": [
    "- pow : pow(x, y)는 x를 y제곱한 결괏값을 리턴하는 함수이다."
   ]
  },
  {
   "cell_type": "code",
   "execution_count": 29,
   "id": "f4e04321",
   "metadata": {},
   "outputs": [
    {
     "data": {
      "text/plain": [
       "16"
      ]
     },
     "execution_count": 29,
     "metadata": {},
     "output_type": "execute_result"
    }
   ],
   "source": [
    "pow(2, 4)"
   ]
  },
  {
   "cell_type": "markdown",
   "id": "16158363",
   "metadata": {},
   "source": [
    "- range"
   ]
  },
  {
   "cell_type": "code",
   "execution_count": 30,
   "id": "a2e8188d",
   "metadata": {},
   "outputs": [
    {
     "data": {
      "text/plain": [
       "[0, 1, 2, 3, 4]"
      ]
     },
     "execution_count": 30,
     "metadata": {},
     "output_type": "execute_result"
    }
   ],
   "source": [
    "list(range(5))"
   ]
  },
  {
   "cell_type": "code",
   "execution_count": 31,
   "id": "265e756c",
   "metadata": {},
   "outputs": [
    {
     "data": {
      "text/plain": [
       "[5, 6, 7, 8, 9]"
      ]
     },
     "execution_count": 31,
     "metadata": {},
     "output_type": "execute_result"
    }
   ],
   "source": [
    "list(range(5, 10))"
   ]
  },
  {
   "cell_type": "code",
   "execution_count": 32,
   "id": "ced33ea1",
   "metadata": {},
   "outputs": [
    {
     "data": {
      "text/plain": [
       "[1, 3, 5, 7, 9]"
      ]
     },
     "execution_count": 32,
     "metadata": {},
     "output_type": "execute_result"
    }
   ],
   "source": [
    "list(range(1, 10, 2))"
   ]
  },
  {
   "cell_type": "code",
   "execution_count": 33,
   "id": "10c9dea9",
   "metadata": {},
   "outputs": [
    {
     "data": {
      "text/plain": [
       "[0, -1, -2, -3, -4, -5, -6, -7, -8, -9]"
      ]
     },
     "execution_count": 33,
     "metadata": {},
     "output_type": "execute_result"
    }
   ],
   "source": [
    "list(range(0, -10, -1))"
   ]
  },
  {
   "cell_type": "markdown",
   "id": "27756188",
   "metadata": {},
   "source": [
    "- round : 숫자를 입력받아 반올림해 리턴하는 함수"
   ]
  },
  {
   "cell_type": "code",
   "execution_count": 34,
   "id": "11037f20",
   "metadata": {},
   "outputs": [
    {
     "data": {
      "text/plain": [
       "5"
      ]
     },
     "execution_count": 34,
     "metadata": {},
     "output_type": "execute_result"
    }
   ],
   "source": [
    "round(4.6)"
   ]
  },
  {
   "cell_type": "code",
   "execution_count": 36,
   "id": "e5560ea6",
   "metadata": {},
   "outputs": [
    {
     "data": {
      "text/plain": [
       "5.68"
      ]
     },
     "execution_count": 36,
     "metadata": {},
     "output_type": "execute_result"
    }
   ],
   "source": [
    "round(5.678, 2)"
   ]
  },
  {
   "cell_type": "markdown",
   "id": "b1a27c6c",
   "metadata": {},
   "source": [
    "- sorted : 입력 데이터를 정렬한 후 그 결과를 리스트로 리턴하는 함수이다."
   ]
  },
  {
   "cell_type": "code",
   "execution_count": 37,
   "id": "051c836a",
   "metadata": {
    "scrolled": true
   },
   "outputs": [
    {
     "data": {
      "text/plain": [
       "[1, 2, 3]"
      ]
     },
     "execution_count": 37,
     "metadata": {},
     "output_type": "execute_result"
    }
   ],
   "source": [
    "sorted([3, 1, 2])"
   ]
  },
  {
   "cell_type": "code",
   "execution_count": 38,
   "id": "f26810ef",
   "metadata": {},
   "outputs": [
    {
     "data": {
      "text/plain": [
       "['a', 'b', 'c']"
      ]
     },
     "execution_count": 38,
     "metadata": {},
     "output_type": "execute_result"
    }
   ],
   "source": [
    "sorted(['a', 'c', 'b'])"
   ]
  },
  {
   "cell_type": "markdown",
   "id": "11723ec0",
   "metadata": {},
   "source": [
    "- sum : 데이터의 합을 리턴하는 함수이다."
   ]
  },
  {
   "cell_type": "code",
   "execution_count": 39,
   "id": "83256fd1",
   "metadata": {},
   "outputs": [
    {
     "data": {
      "text/plain": [
       "6"
      ]
     },
     "execution_count": 39,
     "metadata": {},
     "output_type": "execute_result"
    }
   ],
   "source": [
    "sum([1,2,3])"
   ]
  },
  {
   "cell_type": "markdown",
   "id": "5147f8e3",
   "metadata": {},
   "source": [
    "#### * zip : 동일한 개수로 이루어진 데이터들을 묶어서 리턴하는 함수이다."
   ]
  },
  {
   "cell_type": "code",
   "execution_count": 40,
   "id": "844b6ade",
   "metadata": {},
   "outputs": [
    {
     "data": {
      "text/plain": [
       "[(1, 4), (2, 5), (3, 6)]"
      ]
     },
     "execution_count": 40,
     "metadata": {},
     "output_type": "execute_result"
    }
   ],
   "source": [
    "list(zip([1, 2, 3], [4, 5, 6]))"
   ]
  },
  {
   "cell_type": "code",
   "execution_count": 42,
   "id": "1c4b0652",
   "metadata": {},
   "outputs": [
    {
     "data": {
      "text/plain": [
       "[(1, 4, 7), (2, 5, 8), (3, 6, 9)]"
      ]
     },
     "execution_count": 42,
     "metadata": {},
     "output_type": "execute_result"
    }
   ],
   "source": [
    "list(zip([1, 2, 3], [4, 5, 6], [7, 8, 9]))"
   ]
  },
  {
   "cell_type": "code",
   "execution_count": 43,
   "id": "5f4aab6c",
   "metadata": {},
   "outputs": [
    {
     "data": {
      "text/plain": [
       "[('a', 'd'), ('b', 'e'), ('c', 'f')]"
      ]
     },
     "execution_count": 43,
     "metadata": {},
     "output_type": "execute_result"
    }
   ],
   "source": [
    "list(zip(\"abc\", \"def\"))"
   ]
  },
  {
   "cell_type": "markdown",
   "id": "83b5ee06",
   "metadata": {},
   "source": [
    "# 표준 라이브러리"
   ]
  },
  {
   "cell_type": "markdown",
   "id": "3b2daaeb",
   "metadata": {},
   "source": [
    "### datetime.date"
   ]
  },
  {
   "cell_type": "code",
   "execution_count": 45,
   "id": "0df4dc3a",
   "metadata": {},
   "outputs": [],
   "source": [
    "import datetime"
   ]
  },
  {
   "cell_type": "code",
   "execution_count": 47,
   "id": "15e4b1ff",
   "metadata": {},
   "outputs": [
    {
     "data": {
      "text/plain": [
       "datetime.date(2024, 3, 12)"
      ]
     },
     "execution_count": 47,
     "metadata": {},
     "output_type": "execute_result"
    }
   ],
   "source": [
    "day1 = datetime.date(2024, 3, 12)\n",
    "day1"
   ]
  },
  {
   "cell_type": "code",
   "execution_count": 48,
   "id": "7d93832d",
   "metadata": {},
   "outputs": [
    {
     "data": {
      "text/plain": [
       "datetime.date(2024, 1, 22)"
      ]
     },
     "execution_count": 48,
     "metadata": {},
     "output_type": "execute_result"
    }
   ],
   "source": [
    "day2 = datetime.date(2024, 1, 22)\n",
    "day2"
   ]
  },
  {
   "cell_type": "code",
   "execution_count": 52,
   "id": "45bd76b1",
   "metadata": {},
   "outputs": [
    {
     "data": {
      "text/plain": [
       "50"
      ]
     },
     "execution_count": 52,
     "metadata": {},
     "output_type": "execute_result"
    }
   ],
   "source": [
    "diff = day1-day2\n",
    "diff.days"
   ]
  },
  {
   "cell_type": "code",
   "execution_count": 83,
   "id": "47102516",
   "metadata": {},
   "outputs": [
    {
     "data": {
      "text/plain": [
       "0"
      ]
     },
     "execution_count": 83,
     "metadata": {},
     "output_type": "execute_result"
    }
   ],
   "source": [
    "day = datetime.date(2024, 1, 22)\n",
    "day.weekday() ###0부터 월요일"
   ]
  },
  {
   "cell_type": "markdown",
   "id": "83df1fbe",
   "metadata": {},
   "source": [
    "### time"
   ]
  },
  {
   "cell_type": "code",
   "execution_count": 54,
   "id": "cde7fbf1",
   "metadata": {},
   "outputs": [
    {
     "data": {
      "text/plain": [
       "1710209768.8910422"
      ]
     },
     "execution_count": 54,
     "metadata": {},
     "output_type": "execute_result"
    }
   ],
   "source": [
    "import time\n",
    "time.time()"
   ]
  },
  {
   "cell_type": "code",
   "execution_count": 55,
   "id": "e58af1a1",
   "metadata": {},
   "outputs": [
    {
     "data": {
      "text/plain": [
       "time.struct_time(tm_year=2024, tm_mon=3, tm_mday=12, tm_hour=11, tm_min=17, tm_sec=10, tm_wday=1, tm_yday=72, tm_isdst=0)"
      ]
     },
     "execution_count": 55,
     "metadata": {},
     "output_type": "execute_result"
    }
   ],
   "source": [
    "#time>localtime\n",
    "time.localtime(time.time())"
   ]
  },
  {
   "cell_type": "code",
   "execution_count": 63,
   "id": "852b0d82",
   "metadata": {},
   "outputs": [
    {
     "data": {
      "text/plain": [
       "'Tue Mar 12 11:23:01 2024'"
      ]
     },
     "execution_count": 63,
     "metadata": {},
     "output_type": "execute_result"
    }
   ],
   "source": [
    "#time.asctime\n",
    "time.asctime(time.localtime(time.time()))"
   ]
  },
  {
   "cell_type": "code",
   "execution_count": 64,
   "id": "c7e41ab6",
   "metadata": {},
   "outputs": [
    {
     "data": {
      "text/plain": [
       "'Tue Mar 12 11:23:10 2024'"
      ]
     },
     "execution_count": 64,
     "metadata": {},
     "output_type": "execute_result"
    }
   ],
   "source": [
    "#time.ctime\n",
    "time.ctime()"
   ]
  },
  {
   "cell_type": "code",
   "execution_count": 65,
   "id": "ad1ab642",
   "metadata": {},
   "outputs": [],
   "source": [
    "#time.strftime\n",
    "import time"
   ]
  },
  {
   "cell_type": "code",
   "execution_count": 66,
   "id": "4a5ad662",
   "metadata": {},
   "outputs": [
    {
     "data": {
      "text/plain": [
       "'03/12/24'"
      ]
     },
     "execution_count": 66,
     "metadata": {},
     "output_type": "execute_result"
    }
   ],
   "source": [
    "time.strftime('%x', time.localtime(time.time()))"
   ]
  },
  {
   "cell_type": "code",
   "execution_count": 67,
   "id": "be80f5db",
   "metadata": {},
   "outputs": [
    {
     "data": {
      "text/plain": [
       "'Tue Mar 12 11:23:30 2024'"
      ]
     },
     "execution_count": 67,
     "metadata": {},
     "output_type": "execute_result"
    }
   ],
   "source": [
    "time.strftime('%c', time.localtime(time.time()))"
   ]
  },
  {
   "cell_type": "code",
   "execution_count": 69,
   "id": "30a7de78",
   "metadata": {},
   "outputs": [
    {
     "name": "stdout",
     "output_type": "stream",
     "text": [
      "0\n",
      "1\n",
      "2\n",
      "3\n",
      "4\n",
      "5\n",
      "6\n",
      "7\n",
      "8\n",
      "9\n"
     ]
    }
   ],
   "source": [
    "#time.sleep\n",
    "\n",
    "import time\n",
    "for i in range(10):\n",
    "    print(i)\n",
    "    time.sleep(1)"
   ]
  },
  {
   "cell_type": "markdown",
   "id": "e51ba506",
   "metadata": {},
   "source": [
    "### random"
   ]
  },
  {
   "cell_type": "code",
   "execution_count": 70,
   "id": "3f64af15",
   "metadata": {},
   "outputs": [],
   "source": [
    "import random"
   ]
  },
  {
   "cell_type": "code",
   "execution_count": 71,
   "id": "91dc95aa",
   "metadata": {},
   "outputs": [
    {
     "data": {
      "text/plain": [
       "0.43729939089849457"
      ]
     },
     "execution_count": 71,
     "metadata": {},
     "output_type": "execute_result"
    }
   ],
   "source": [
    "random.random()"
   ]
  },
  {
   "cell_type": "code",
   "execution_count": 72,
   "id": "68db0bc7",
   "metadata": {},
   "outputs": [
    {
     "data": {
      "text/plain": [
       "3"
      ]
     },
     "execution_count": 72,
     "metadata": {},
     "output_type": "execute_result"
    }
   ],
   "source": [
    "random.randint(1, 10)"
   ]
  },
  {
   "cell_type": "code",
   "execution_count": 76,
   "id": "92b9ae25",
   "metadata": {
    "scrolled": true
   },
   "outputs": [
    {
     "data": {
      "text/plain": [
       "46"
      ]
     },
     "execution_count": 76,
     "metadata": {},
     "output_type": "execute_result"
    }
   ],
   "source": [
    "random.randint(1, 55)"
   ]
  },
  {
   "cell_type": "code",
   "execution_count": 77,
   "id": "ebea9d53",
   "metadata": {},
   "outputs": [
    {
     "data": {
      "text/plain": [
       "[2, 1, 3, 5, 4]"
      ]
     },
     "execution_count": 77,
     "metadata": {},
     "output_type": "execute_result"
    }
   ],
   "source": [
    "data = [1, 2, 3, 4, 5]\n",
    "random.sample(data, len(data))"
   ]
  },
  {
   "cell_type": "markdown",
   "id": "721e139b",
   "metadata": {},
   "source": [
    "### glob\n",
    "디렉터리에 있는 파일들을 리스트로 만들기 - glob(pathname)"
   ]
  },
  {
   "cell_type": "code",
   "execution_count": 78,
   "id": "93d4e19c",
   "metadata": {},
   "outputs": [],
   "source": [
    "import glob"
   ]
  },
  {
   "cell_type": "code",
   "execution_count": 81,
   "id": "ab83013f",
   "metadata": {},
   "outputs": [
    {
     "data": {
      "text/plain": [
       "['C:\\\\workspace\\\\wassup2\\\\wassup2\\\\python_grammar\\\\00_마크다운.ipynb',\n",
       " 'C:\\\\workspace\\\\wassup2\\\\wassup2\\\\python_grammar\\\\01_자료형과 변수.ipynb',\n",
       " 'C:\\\\workspace\\\\wassup2\\\\wassup2\\\\python_grammar\\\\02_제어문.ipynb',\n",
       " 'C:\\\\workspace\\\\wassup2\\\\wassup2\\\\python_grammar\\\\03 함수와 입출력.ipynb',\n",
       " 'C:\\\\workspace\\\\wassup2\\\\wassup2\\\\python_grammar\\\\04 클래스와 예외처리.ipynb',\n",
       " 'C:\\\\workspace\\\\wassup2\\\\wassup2\\\\python_grammar\\\\05 내장 함수와 라이브러리.ipynb']"
      ]
     },
     "execution_count": 81,
     "metadata": {},
     "output_type": "execute_result"
    }
   ],
   "source": [
    "glob.glob(\"C:\\\\workspace\\\\wassup2\\\\wassup2\\\\python_grammar\\*ipynb\")"
   ]
  },
  {
   "cell_type": "code",
   "execution_count": 82,
   "id": "b87c3e45",
   "metadata": {},
   "outputs": [
    {
     "name": "stdout",
     "output_type": "stream",
     "text": [
      "00_마크다운\n",
      "01_자료형과 변수\n",
      "02_제어문\n",
      "03 함수와 입출력\n",
      "04 클래스와 예외처리\n",
      "05 내장 함수와 라이브러리\n"
     ]
    }
   ],
   "source": [
    "filepath = glob.glob(\"C:\\\\workspace\\\\wassup2\\\\wassup2\\\\python_grammar\\*ipynb\")\n",
    "for file in filepath:\n",
    "    print(file.split('\\\\')[-1].split('.')[0])"
   ]
  },
  {
   "cell_type": "markdown",
   "id": "049e493a",
   "metadata": {},
   "source": [
    "### os"
   ]
  },
  {
   "cell_type": "code",
   "execution_count": 3,
   "id": "743e25b7",
   "metadata": {},
   "outputs": [
    {
     "data": {
      "text/plain": [
       "environ{'ALLUSERSPROFILE': 'C:\\\\ProgramData',\n",
       "        'APPDATA': 'C:\\\\Users\\\\EST\\\\AppData\\\\Roaming',\n",
       "        'COMMONPROGRAMFILES': 'C:\\\\Program Files\\\\Common Files',\n",
       "        'COMMONPROGRAMFILES(X86)': 'C:\\\\Program Files (x86)\\\\Common Files',\n",
       "        'COMMONPROGRAMW6432': 'C:\\\\Program Files\\\\Common Files',\n",
       "        'COMPUTERNAME': 'DESKTOP-HTHC2FK',\n",
       "        'COMSPEC': 'C:\\\\Windows\\\\system32\\\\cmd.exe',\n",
       "        'DRIVERDATA': 'C:\\\\Windows\\\\System32\\\\Drivers\\\\DriverData',\n",
       "        'HOMEDRIVE': 'C:',\n",
       "        'HOMEPATH': '\\\\Users\\\\EST',\n",
       "        'LOCALAPPDATA': 'C:\\\\Users\\\\EST\\\\AppData\\\\Local',\n",
       "        'LOGONSERVER': '\\\\\\\\DESKTOP-HTHC2FK',\n",
       "        'NUMBER_OF_PROCESSORS': '8',\n",
       "        'ONEDRIVE': 'C:\\\\Users\\\\EST\\\\OneDrive',\n",
       "        'ONEDRIVECONSUMER': 'C:\\\\Users\\\\EST\\\\OneDrive',\n",
       "        'OS': 'Windows_NT',\n",
       "        'PATH': 'C:\\\\Program Files\\\\MySQL\\\\MySQL Server 8.0\\\\bin;C:\\\\Windows\\\\system32;C:\\\\Windows;C:\\\\Windows\\\\System32\\\\Wbem;C:\\\\Windows\\\\System32\\\\WindowsPowerShell\\\\v1.0\\\\;C:\\\\Windows\\\\System32\\\\OpenSSH\\\\;C:\\\\Program Files\\\\Git\\\\cmd;C:\\\\Users\\\\EST\\\\anaconda3;C:\\\\Users\\\\EST\\\\anaconda3\\\\Library\\\\mingw-w64\\\\bin;C:\\\\Users\\\\EST\\\\anaconda3\\\\Library\\\\usr\\\\bin;C:\\\\Users\\\\EST\\\\anaconda3\\\\Library\\\\bin;C:\\\\Users\\\\EST\\\\anaconda3\\\\Scripts;C:\\\\Users\\\\EST\\\\AppData\\\\Local\\\\Microsoft\\\\WindowsApps',\n",
       "        'PATHEXT': '.COM;.EXE;.BAT;.CMD;.VBS;.VBE;.JS;.JSE;.WSF;.WSH;.MSC',\n",
       "        'PROCESSOR_ARCHITECTURE': 'AMD64',\n",
       "        'PROCESSOR_IDENTIFIER': 'Intel64 Family 6 Model 140 Stepping 1, GenuineIntel',\n",
       "        'PROCESSOR_LEVEL': '6',\n",
       "        'PROCESSOR_REVISION': '8c01',\n",
       "        'PROGRAMDATA': 'C:\\\\ProgramData',\n",
       "        'PROGRAMFILES': 'C:\\\\Program Files',\n",
       "        'PROGRAMFILES(X86)': 'C:\\\\Program Files (x86)',\n",
       "        'PROGRAMW6432': 'C:\\\\Program Files',\n",
       "        'PROMPT': '$P$G',\n",
       "        'PSMODULEPATH': 'C:\\\\Program Files\\\\WindowsPowerShell\\\\Modules;C:\\\\Windows\\\\system32\\\\WindowsPowerShell\\\\v1.0\\\\Modules',\n",
       "        'PUBLIC': 'C:\\\\Users\\\\Public',\n",
       "        'SESSIONNAME': 'Console',\n",
       "        'SYSTEMDRIVE': 'C:',\n",
       "        'SYSTEMROOT': 'C:\\\\Windows',\n",
       "        'TEMP': 'C:\\\\Users\\\\EST\\\\AppData\\\\Local\\\\Temp',\n",
       "        'TMP': 'C:\\\\Users\\\\EST\\\\AppData\\\\Local\\\\Temp',\n",
       "        'USERDOMAIN': 'DESKTOP-HTHC2FK',\n",
       "        'USERDOMAIN_ROAMINGPROFILE': 'DESKTOP-HTHC2FK',\n",
       "        'USERNAME': 'EST',\n",
       "        'USERPROFILE': 'C:\\\\Users\\\\EST',\n",
       "        'WINDIR': 'C:\\\\Windows',\n",
       "        'PYDEVD_USE_FRAME_EVAL': 'NO',\n",
       "        'JPY_INTERRUPT_EVENT': '4004',\n",
       "        'IPY_INTERRUPT_EVENT': '4004',\n",
       "        'JPY_PARENT_PID': '3808',\n",
       "        'TERM': 'xterm-color',\n",
       "        'CLICOLOR': '1',\n",
       "        'FORCE_COLOR': '1',\n",
       "        'CLICOLOR_FORCE': '1',\n",
       "        'PAGER': 'cat',\n",
       "        'GIT_PAGER': 'cat',\n",
       "        'MPLBACKEND': 'module://matplotlib_inline.backend_inline'}"
      ]
     },
     "execution_count": 3,
     "metadata": {},
     "output_type": "execute_result"
    }
   ],
   "source": [
    "#내 시스템의 환경 변숫값을 알고 싶을 때 - os.environ\n",
    "\n",
    "import os\n",
    "os.environ"
   ]
  },
  {
   "cell_type": "markdown",
   "id": "c453c996",
   "metadata": {},
   "source": [
    "### json\n",
    "json은 JSON 데이터를 쉽게 처리하고자 사용하는 모듈"
   ]
  },
  {
   "cell_type": "code",
   "execution_count": 13,
   "id": "a2eab9f9",
   "metadata": {},
   "outputs": [
    {
     "data": {
      "text/plain": [
       "(dict, {'name': '홍길동', 'birth': '0525', 'age': 30})"
      ]
     },
     "execution_count": 13,
     "metadata": {},
     "output_type": "execute_result"
    }
   ],
   "source": [
    "import json\n",
    "with open('myinfo.json', encoding=\"utf-8\") as f:\n",
    "    data = json.load(f)\n",
    "type(data), data"
   ]
  },
  {
   "cell_type": "code",
   "execution_count": 14,
   "id": "dc9771ab",
   "metadata": {},
   "outputs": [],
   "source": [
    "import json\n",
    "data = {'name': '유관순', 'birth': '0301', 'age': 30}\n",
    "with open('myinfo.json', 'w') as f:\n",
    "    json.dump(data, f)"
   ]
  },
  {
   "cell_type": "code",
   "execution_count": 17,
   "id": "3cd4ed99",
   "metadata": {},
   "outputs": [
    {
     "data": {
      "text/plain": [
       "'{\"name\": \"홍길동\", \"birth\": \"0525\", \"age\": 30}'"
      ]
     },
     "execution_count": 17,
     "metadata": {},
     "output_type": "execute_result"
    }
   ],
   "source": [
    "d = {\"name\":\"홍길동\", \"birth\":\"0525\", \"age\": 30}\n",
    "json_data = json.dumps(d, ensure_ascii=False)\n",
    "json_data"
   ]
  },
  {
   "cell_type": "markdown",
   "id": "d31a2249",
   "metadata": {},
   "source": [
    "### urllib\n",
    "urllib은 URL을 읽고 분석할 때 사용하는 모듈이다."
   ]
  },
  {
   "cell_type": "code",
   "execution_count": 18,
   "id": "b3e0d31f",
   "metadata": {},
   "outputs": [],
   "source": [
    "import urllib.request\n",
    "\n",
    "def get_wikidocs(page):\n",
    "    resource = 'https://wikidocs.net/{}'.format(page)\n",
    "    with urllib.request.urlopen(resource) as s:\n",
    "        with open('wikidocs_%s.html' % page, 'wb') as f:\n",
    "            f.write(s.read())"
   ]
  },
  {
   "cell_type": "code",
   "execution_count": 19,
   "id": "85485819",
   "metadata": {},
   "outputs": [],
   "source": [
    "get_wikidocs(33)"
   ]
  },
  {
   "cell_type": "markdown",
   "id": "8f4f95e7",
   "metadata": {},
   "source": [
    "## 외부라이브러리"
   ]
  },
  {
   "cell_type": "markdown",
   "id": "f6858cd0",
   "metadata": {},
   "source": [
    "### Faker"
   ]
  },
  {
   "cell_type": "code",
   "execution_count": 21,
   "id": "36c39d66",
   "metadata": {},
   "outputs": [
    {
     "name": "stdout",
     "output_type": "stream",
     "text": [
      "Collecting SomePackage\n",
      "  Downloading somepackage-1.2.3.tar.gz (8.6 kB)\n",
      "  Preparing metadata (setup.py): started\n",
      "  Preparing metadata (setup.py): finished with status 'done'\n",
      "Building wheels for collected packages: SomePackage\n",
      "  Building wheel for SomePackage (setup.py): started\n",
      "  Building wheel for SomePackage (setup.py): finished with status 'done'\n",
      "  Created wheel for SomePackage: filename=somepackage-1.2.3-py3-none-any.whl size=9304 sha256=2e00d9b1d809de41305d1ce22af8d46f5aae2690def310c96afbdc1c2fba20eb\n",
      "  Stored in directory: c:\\users\\est\\appdata\\local\\pip\\cache\\wheels\\b3\\cf\\38\\80a2152a47dc17e0a4bf3698b0493622d2f46bddb3c882eede\n",
      "Successfully built SomePackage\n",
      "Installing collected packages: SomePackage\n",
      "Successfully installed SomePackage-1.2.3\n",
      "Note: you may need to restart the kernel to use updated packages.\n"
     ]
    }
   ],
   "source": [
    "pip install SomePackage "
   ]
  },
  {
   "cell_type": "code",
   "execution_count": 22,
   "id": "2e6d94de",
   "metadata": {},
   "outputs": [
    {
     "name": "stdout",
     "output_type": "stream",
     "text": [
      "Package                           Version\n",
      "--------------------------------- ---------------\n",
      "aiobotocore                       2.5.0\n",
      "aiofiles                          22.1.0\n",
      "aiohttp                           3.8.5\n",
      "aioitertools                      0.7.1\n",
      "aiosignal                         1.2.0\n",
      "aiosqlite                         0.18.0\n",
      "alabaster                         0.7.12\n",
      "anaconda-anon-usage               0.4.2\n",
      "anaconda-catalogs                 0.2.0\n",
      "anaconda-client                   1.12.1\n",
      "anaconda-cloud-auth               0.1.3\n",
      "anaconda-navigator                2.5.2\n",
      "anaconda-project                  0.11.1\n",
      "anyio                             3.5.0\n",
      "appdirs                           1.4.4\n",
      "argon2-cffi                       21.3.0\n",
      "argon2-cffi-bindings              21.2.0\n",
      "arrow                             1.2.3\n",
      "astroid                           2.14.2\n",
      "astropy                           5.1\n",
      "asttokens                         2.0.5\n",
      "async-timeout                     4.0.2\n",
      "atomicwrites                      1.4.0\n",
      "attrs                             22.1.0\n",
      "Automat                           20.2.0\n",
      "autopep8                          1.6.0\n",
      "Babel                             2.11.0\n",
      "backcall                          0.2.0\n",
      "backports.functools-lru-cache     1.6.4\n",
      "backports.tempfile                1.0\n",
      "backports.weakref                 1.0.post1\n",
      "bcrypt                            3.2.0\n",
      "beautifulsoup4                    4.12.2\n",
      "binaryornot                       0.4.4\n",
      "black                             0.0\n",
      "bleach                            4.1.0\n",
      "bokeh                             3.2.1\n",
      "boltons                           23.0.0\n",
      "botocore                          1.29.76\n",
      "Bottleneck                        1.3.5\n",
      "brotlipy                          0.7.0\n",
      "certifi                           2024.2.2\n",
      "cffi                              1.15.1\n",
      "chardet                           4.0.0\n",
      "charset-normalizer                2.0.4\n",
      "click                             8.0.4\n",
      "cloudpickle                       2.2.1\n",
      "clyent                            1.2.2\n",
      "colorama                          0.4.6\n",
      "colorcet                          3.0.1\n",
      "comm                              0.1.2\n",
      "conda                             23.7.4\n",
      "conda-build                       3.26.1\n",
      "conda-content-trust               0.2.0\n",
      "conda_index                       0.3.0\n",
      "conda-libmamba-solver             23.7.0\n",
      "conda-pack                        0.6.0\n",
      "conda-package-handling            2.2.0\n",
      "conda_package_streaming           0.9.0\n",
      "conda-repo-cli                    1.0.75\n",
      "conda-token                       0.4.0\n",
      "conda-verify                      3.4.2\n",
      "constantly                        15.1.0\n",
      "contourpy                         1.0.5\n",
      "cookiecutter                      1.7.3\n",
      "cryptography                      41.0.3\n",
      "cssselect                         1.1.0\n",
      "cycler                            0.11.0\n",
      "cytoolz                           0.12.0\n",
      "daal4py                           2023.1.1\n",
      "dask                              2023.6.0\n",
      "datasets                          2.12.0\n",
      "datashader                        0.15.2\n",
      "datashape                         0.5.4\n",
      "debugpy                           1.6.7\n",
      "decorator                         5.1.1\n",
      "defusedxml                        0.7.1\n",
      "diff-match-patch                  20200713\n",
      "dill                              0.3.6\n",
      "distributed                       2023.6.0\n",
      "docstring-to-markdown             0.11\n",
      "docutils                          0.18.1\n",
      "entrypoints                       0.4\n",
      "et-xmlfile                        1.1.0\n",
      "executing                         0.8.3\n",
      "Faker                             24.1.0\n",
      "fastjsonschema                    2.16.2\n",
      "filelock                          3.9.0\n",
      "flake8                            6.0.0\n",
      "Flask                             2.2.2\n",
      "fonttools                         4.25.0\n",
      "frozenlist                        1.3.3\n",
      "fsspec                            2023.4.0\n",
      "future                            0.18.3\n",
      "gensim                            4.3.0\n",
      "glob2                             0.7\n",
      "greenlet                          2.0.1\n",
      "h5py                              3.9.0\n",
      "HeapDict                          1.0.1\n",
      "holoviews                         1.17.1\n",
      "huggingface-hub                   0.15.1\n",
      "hvplot                            0.8.4\n",
      "hyperlink                         21.0.0\n",
      "idna                              3.4\n",
      "imagecodecs                       2023.1.23\n",
      "imageio                           2.26.0\n",
      "imagesize                         1.4.1\n",
      "imbalanced-learn                  0.10.1\n",
      "importlib-metadata                6.0.0\n",
      "incremental                       21.3.0\n",
      "inflection                        0.5.1\n",
      "iniconfig                         1.1.1\n",
      "intake                            0.6.8\n",
      "intervaltree                      3.1.0\n",
      "ipykernel                         6.25.0\n",
      "ipython                           8.15.0\n",
      "ipython-genutils                  0.2.0\n",
      "ipywidgets                        8.0.4\n",
      "isort                             5.9.3\n",
      "itemadapter                       0.3.0\n",
      "itemloaders                       1.0.4\n",
      "itsdangerous                      2.0.1\n",
      "jaraco.classes                    3.2.1\n",
      "jedi                              0.18.1\n",
      "jellyfish                         1.0.1\n",
      "Jinja2                            3.1.2\n",
      "jinja2-time                       0.2.0\n",
      "jmespath                          0.10.0\n",
      "joblib                            1.2.0\n",
      "json5                             0.9.6\n",
      "jsonpatch                         1.32\n",
      "jsonpointer                       2.1\n",
      "jsonschema                        4.17.3\n",
      "jupyter                           1.0.0\n",
      "jupyter_client                    7.4.9\n",
      "jupyter-console                   6.6.3\n",
      "jupyter-contrib-core              0.4.2\n",
      "jupyter-contrib-nbextensions      0.7.0\n",
      "jupyter_core                      5.3.0\n",
      "jupyter-events                    0.6.3\n",
      "jupyter-highlight-selected-word   0.2.0\n",
      "jupyter-nbextensions-configurator 0.6.3\n",
      "jupyter-server                    1.23.4\n",
      "jupyter_server_fileid             0.9.0\n",
      "jupyter_server_ydoc               0.8.0\n",
      "jupyter-ydoc                      0.2.4\n",
      "jupyterlab                        3.6.3\n",
      "jupyterlab-pygments               0.1.2\n",
      "jupyterlab_server                 2.22.0\n",
      "jupyterlab-widgets                3.0.5\n",
      "kaleido                           0.2.1\n",
      "keyring                           23.13.1\n",
      "kiwisolver                        1.4.4\n",
      "lazy_loader                       0.2\n",
      "lazy-object-proxy                 1.6.0\n",
      "libarchive-c                      2.9\n",
      "libmambapy                        1.5.1\n",
      "linkify-it-py                     2.0.0\n",
      "llvmlite                          0.40.0\n",
      "lmdb                              1.4.1\n",
      "locket                            1.0.0\n",
      "lxml                              4.9.3\n",
      "lz4                               4.3.2\n",
      "Markdown                          3.4.1\n",
      "markdown-it-py                    2.2.0\n",
      "MarkupSafe                        2.1.1\n",
      "matplotlib                        3.7.2\n",
      "matplotlib-inline                 0.1.6\n",
      "mccabe                            0.7.0\n",
      "mdit-py-plugins                   0.3.0\n",
      "mdurl                             0.1.0\n",
      "menuinst                          1.4.19\n",
      "mistune                           0.8.4\n",
      "mkl-fft                           1.3.8\n",
      "mkl-random                        1.2.4\n",
      "mkl-service                       2.4.0\n",
      "more-itertools                    8.12.0\n",
      "mpmath                            1.3.0\n",
      "msgpack                           1.0.3\n",
      "multidict                         6.0.2\n",
      "multipledispatch                  0.6.0\n",
      "multiprocess                      0.70.14\n",
      "munkres                           1.1.4\n",
      "mypy-extensions                   1.0.0\n",
      "navigator-updater                 0.4.0\n",
      "nbclassic                         0.5.5\n",
      "nbclient                          0.5.13\n",
      "nbconvert                         6.5.4\n",
      "nbformat                          5.9.2\n",
      "nest-asyncio                      1.5.6\n",
      "networkx                          3.1\n",
      "nltk                              3.8.1\n",
      "notebook                          6.5.4\n",
      "notebook_shim                     0.2.2\n",
      "numba                             0.57.1\n",
      "numexpr                           2.8.4\n",
      "numpy                             1.24.3\n",
      "numpydoc                          1.5.0\n",
      "openpyxl                          3.0.10\n",
      "packaging                         23.1\n",
      "pandas                            2.0.3\n",
      "pandocfilters                     1.5.0\n",
      "panel                             1.2.3\n",
      "param                             1.13.0\n",
      "paramiko                          2.8.1\n",
      "parsel                            1.6.0\n",
      "parso                             0.8.3\n",
      "partd                             1.4.0\n",
      "pathlib                           1.0.1\n",
      "pathspec                          0.10.3\n",
      "patsy                             0.5.3\n",
      "pep8                              1.7.1\n",
      "pexpect                           4.8.0\n",
      "pickleshare                       0.7.5\n",
      "pillow                            10.2.0\n",
      "pip                               23.2.1\n",
      "pkce                              1.0.3\n",
      "pkginfo                           1.9.6\n",
      "platformdirs                      3.10.0\n",
      "plotly                            5.9.0\n",
      "pluggy                            1.0.0\n",
      "ply                               3.11\n",
      "poyo                              0.5.0\n",
      "prometheus-client                 0.14.1\n",
      "prompt-toolkit                    3.0.36\n",
      "Protego                           0.1.16\n",
      "psutil                            5.9.0\n",
      "ptyprocess                        0.7.0\n",
      "pure-eval                         0.2.2\n",
      "py-cpuinfo                        8.0.0\n",
      "pyarrow                           11.0.0\n",
      "pyasn1                            0.4.8\n",
      "pyasn1-modules                    0.2.8\n",
      "pycodestyle                       2.10.0\n",
      "pycosat                           0.6.4\n",
      "pycparser                         2.21\n",
      "pyct                              0.5.0\n",
      "pycurl                            7.45.2\n",
      "pydantic                          1.10.8\n",
      "PyDispatcher                      2.0.5\n",
      "pydocstyle                        6.3.0\n",
      "pyerfa                            2.0.0\n",
      "pyflakes                          3.0.1\n",
      "Pygments                          2.15.1\n",
      "PyJWT                             2.4.0\n",
      "pylint                            2.16.2\n",
      "pylint-venv                       2.3.0\n",
      "pyls-spyder                       0.4.0\n",
      "PyNaCl                            1.5.0\n",
      "pyodbc                            4.0.34\n",
      "pyOpenSSL                         23.2.0\n",
      "pyparsing                         3.0.9\n",
      "PyQt5                             5.15.7\n",
      "PyQt5-sip                         12.11.0\n",
      "PyQtWebEngine                     5.15.4\n",
      "pyrsistent                        0.18.0\n",
      "PySocks                           1.7.1\n",
      "pytest                            7.4.0\n",
      "python-dateutil                   2.8.2\n",
      "python-dotenv                     0.21.0\n",
      "python-json-logger                2.0.7\n",
      "python-lsp-black                  1.2.1\n",
      "python-lsp-jsonrpc                1.0.0\n",
      "python-lsp-server                 1.7.2\n",
      "python-slugify                    5.0.2\n",
      "python-snappy                     0.6.1\n",
      "pytoolconfig                      1.2.5\n",
      "pytz                              2023.3.post1\n",
      "pyviz-comms                       2.3.0\n",
      "PyWavelets                        1.4.1\n",
      "pywin32                           305.1\n",
      "pywin32-ctypes                    0.2.0\n",
      "pywinpty                          2.0.10\n",
      "PyYAML                            6.0\n",
      "pyzmq                             23.2.0\n",
      "QDarkStyle                        3.0.2\n",
      "qstylizer                         0.2.2\n",
      "QtAwesome                         1.2.2\n",
      "qtconsole                         5.4.2\n",
      "QtPy                              2.2.0\n",
      "queuelib                          1.5.0\n",
      "regex                             2022.7.9\n",
      "requests                          2.31.0\n",
      "requests-file                     1.5.1\n",
      "requests-toolbelt                 1.0.0\n",
      "responses                         0.13.3\n",
      "rfc3339-validator                 0.1.4\n",
      "rfc3986-validator                 0.1.1\n",
      "rope                              1.7.0\n",
      "Rtree                             1.0.1\n",
      "ruamel.yaml                       0.17.21\n",
      "ruamel-yaml-conda                 0.17.21\n",
      "s3fs                              2023.4.0\n",
      "safetensors                       0.3.2\n",
      "scikit-image                      0.20.0\n",
      "scikit-learn                      1.3.0\n",
      "scikit-learn-intelex              20230426.121932\n",
      "scipy                             1.11.1\n",
      "Scrapy                            2.8.0\n",
      "seaborn                           0.12.2\n",
      "Send2Trash                        1.8.0\n",
      "service-identity                  18.1.0\n",
      "setuptools                        68.0.0\n",
      "sip                               6.6.2\n",
      "six                               1.16.0\n",
      "smart-open                        5.2.1\n",
      "sniffio                           1.2.0\n",
      "snowballstemmer                   2.2.0\n",
      "somepackage                       1.2.3\n",
      "sortedcontainers                  2.4.0\n",
      "soupsieve                         2.4\n",
      "Sphinx                            5.0.2\n",
      "sphinxcontrib-applehelp           1.0.2\n",
      "sphinxcontrib-devhelp             1.0.2\n",
      "sphinxcontrib-htmlhelp            2.0.0\n",
      "sphinxcontrib-jsmath              1.0.1\n",
      "sphinxcontrib-qthelp              1.0.3\n",
      "sphinxcontrib-serializinghtml     1.1.5\n",
      "spyder                            5.4.3\n",
      "spyder-kernels                    2.4.4\n",
      "SQLAlchemy                        1.4.39\n",
      "stack-data                        0.2.0\n",
      "statsmodels                       0.14.0\n",
      "sympy                             1.11.1\n",
      "tables                            3.8.0\n",
      "tabulate                          0.8.10\n",
      "TBB                               0.2\n",
      "tblib                             1.7.0\n",
      "tenacity                          8.2.2\n",
      "terminado                         0.17.1\n",
      "text-unidecode                    1.3\n",
      "textdistance                      4.2.1\n",
      "threadpoolctl                     2.2.0\n",
      "three-merge                       0.1.1\n",
      "tifffile                          2023.4.12\n",
      "tinycss2                          1.2.1\n",
      "tldextract                        3.2.0\n",
      "tokenizers                        0.13.2\n",
      "toml                              0.10.2\n",
      "tomlkit                           0.11.1\n",
      "toolz                             0.12.0\n",
      "tornado                           6.3.2\n",
      "tqdm                              4.65.0\n",
      "traitlets                         5.7.1\n",
      "transformers                      4.32.1\n",
      "Twisted                           22.10.0\n",
      "twisted-iocpsupport               1.0.2\n",
      "typing_extensions                 4.7.1\n",
      "tzdata                            2023.3\n",
      "uc-micro-py                       1.0.1\n",
      "ujson                             5.4.0\n",
      "Unidecode                         1.2.0\n",
      "urllib3                           1.26.16\n",
      "w3lib                             1.21.0\n",
      "watchdog                          2.1.6\n",
      "wcwidth                           0.2.5\n",
      "webencodings                      0.5.1\n",
      "websocket-client                  0.58.0\n",
      "Werkzeug                          2.2.3\n",
      "whatthepatch                      1.0.2\n",
      "wheel                             0.38.4\n",
      "widgetsnbextension                4.0.5\n",
      "win-inet-pton                     1.1.0\n",
      "wrapt                             1.14.1\n",
      "xarray                            2023.6.0\n",
      "xlwings                           0.29.1\n",
      "xxhash                            2.0.2\n",
      "xyzservices                       2022.9.0\n",
      "y-py                              0.5.9\n",
      "yapf                              0.31.0\n",
      "yarl                              1.8.1\n",
      "ypy-websocket                     0.8.2\n",
      "zict                              2.2.0\n",
      "zipp                              3.11.0\n",
      "zope.interface                    5.4.0\n",
      "zstandard                         0.19.0\n",
      "Note: you may need to restart the kernel to use updated packages.\n"
     ]
    }
   ],
   "source": [
    "pip list"
   ]
  },
  {
   "cell_type": "code",
   "execution_count": 20,
   "id": "b52871b5",
   "metadata": {},
   "outputs": [
    {
     "name": "stdout",
     "output_type": "stream",
     "text": [
      "Collecting Faker\n",
      "  Obtaining dependency information for Faker from https://files.pythonhosted.org/packages/c5/ad/87c165d63be249db767227109d35e22cde75c9c941d69edc1b175f4928f0/Faker-24.1.0-py3-none-any.whl.metadata\n",
      "  Downloading Faker-24.1.0-py3-none-any.whl.metadata (15 kB)\n",
      "Requirement already satisfied: python-dateutil>=2.4 in c:\\users\\est\\anaconda3\\lib\\site-packages (from Faker) (2.8.2)\n",
      "Requirement already satisfied: six>=1.5 in c:\\users\\est\\anaconda3\\lib\\site-packages (from python-dateutil>=2.4->Faker) (1.16.0)\n",
      "Downloading Faker-24.1.0-py3-none-any.whl (1.8 MB)\n",
      "   ---------------------------------------- 0.0/1.8 MB ? eta -:--:--\n",
      "   - -------------------------------------- 0.1/1.8 MB 2.0 MB/s eta 0:00:01\n",
      "   ------------------- -------------------- 0.9/1.8 MB 11.0 MB/s eta 0:00:01\n",
      "   ---------------------------------------- 1.8/1.8 MB 14.0 MB/s eta 0:00:00\n",
      "Installing collected packages: Faker\n",
      "Successfully installed Faker-24.1.0\n",
      "Note: you may need to restart the kernel to use updated packages.\n"
     ]
    }
   ],
   "source": [
    "pip install Faker"
   ]
  },
  {
   "cell_type": "code",
   "execution_count": 23,
   "id": "9adb863b",
   "metadata": {},
   "outputs": [],
   "source": [
    "from faker import Faker\n",
    "fake = Faker()"
   ]
  },
  {
   "cell_type": "code",
   "execution_count": 24,
   "id": "11d41a6f",
   "metadata": {},
   "outputs": [
    {
     "data": {
      "text/plain": [
       "'Scott Allison'"
      ]
     },
     "execution_count": 24,
     "metadata": {},
     "output_type": "execute_result"
    }
   ],
   "source": [
    "fake.name()"
   ]
  },
  {
   "cell_type": "code",
   "execution_count": 27,
   "id": "7124e39a",
   "metadata": {},
   "outputs": [
    {
     "data": {
      "text/plain": [
       "'김성민'"
      ]
     },
     "execution_count": 27,
     "metadata": {},
     "output_type": "execute_result"
    }
   ],
   "source": [
    "fake = Faker('ko-KR')\n",
    "fake.name()"
   ]
  },
  {
   "cell_type": "code",
   "execution_count": 28,
   "id": "e9fcf680",
   "metadata": {},
   "outputs": [
    {
     "data": {
      "text/plain": [
       "'강원도 부여군 도산대501가 (옥순손읍)'"
      ]
     },
     "execution_count": 28,
     "metadata": {},
     "output_type": "execute_result"
    }
   ],
   "source": [
    "fake.address()"
   ]
  },
  {
   "cell_type": "code",
   "execution_count": 30,
   "id": "0202232e",
   "metadata": {},
   "outputs": [
    {
     "data": {
      "text/plain": [
       "[('엄영미', '인천광역시 서초구 삼성가'),\n",
       " ('김예준', '부산광역시 강남구 가락거리'),\n",
       " ('구승현', '경상북도 부여군 도산대로'),\n",
       " ('오유진', '경상남도 양구군 가락184길 (정순윤동)'),\n",
       " ('노현주', '대전광역시 남구 언주8거리'),\n",
       " ('김영순', '경기도 용인시 수지구 서초중앙8길 (현우홍읍)'),\n",
       " ('안정숙', '부산광역시 양천구 도산대로 (주원곽읍)'),\n",
       " ('이하윤', '충청남도 가평군 선릉가 (영순성면)'),\n",
       " ('김정희', '전라남도 남양주시 영동대9길'),\n",
       " ('김정남', '대전광역시 강동구 석촌호수9길 (지현김박동)'),\n",
       " ('박도윤', '세종특별자치시 광진구 백제고분94로'),\n",
       " ('박성현', '대전광역시 송파구 학동7가'),\n",
       " ('한준서', '세종특별자치시 강서구 개포7로'),\n",
       " ('서하은', '세종특별자치시 북구 역삼63거리'),\n",
       " ('김서준', '경기도 성남시 분당구 서초대거리'),\n",
       " ('손영자', '경상북도 의왕시 반포대길'),\n",
       " ('김성현', '충청북도 군포시 언주길'),\n",
       " ('김아름', '울산광역시 금천구 백제고분길 (정자김마을)'),\n",
       " ('김지원', '인천광역시 남구 강남대803로 (진우장마을)'),\n",
       " ('박미경', '대전광역시 성북구 도산대729거리 (현숙박동)'),\n",
       " ('손정남', '부산광역시 양천구 압구정43로'),\n",
       " ('백상훈', '전라북도 평택시 개포거리 (정순김마을)'),\n",
       " ('황현숙', '경상북도 공주시 학동거리 (준영손동)'),\n",
       " ('권영미', '강원도 화성시 양재천길'),\n",
       " ('박현정', '전라남도 의정부시 반포대로'),\n",
       " ('이지원', '경상북도 오산시 언주거리'),\n",
       " ('이예지', '충청남도 횡성군 개포2길'),\n",
       " ('최영수', '대구광역시 동구 서초대거리 (영희심면)'),\n",
       " ('이정훈', '충청북도 양평군 잠실502길 (재현박최마을)'),\n",
       " ('김현지', '부산광역시 강서구 영동대6가')]"
      ]
     },
     "execution_count": 30,
     "metadata": {},
     "output_type": "execute_result"
    }
   ],
   "source": [
    "test_data = [(fake.name(), fake.address()) for i in range(30)]\n",
    "test_data"
   ]
  },
  {
   "cell_type": "code",
   "execution_count": null,
   "id": "960b34fb",
   "metadata": {},
   "outputs": [],
   "source": []
  }
 ],
 "metadata": {
  "kernelspec": {
   "display_name": "Python 3 (ipykernel)",
   "language": "python",
   "name": "python3"
  },
  "language_info": {
   "codemirror_mode": {
    "name": "ipython",
    "version": 3
   },
   "file_extension": ".py",
   "mimetype": "text/x-python",
   "name": "python",
   "nbconvert_exporter": "python",
   "pygments_lexer": "ipython3",
   "version": "3.11.5"
  }
 },
 "nbformat": 4,
 "nbformat_minor": 5
}
