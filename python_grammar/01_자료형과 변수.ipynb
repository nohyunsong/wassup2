{
 "cells": [
  {
   "cell_type": "markdown",
   "id": "b1a04090",
   "metadata": {},
   "source": [
    "# 01 숫자형"
   ]
  },
  {
   "cell_type": "markdown",
   "id": "abe69c7b",
   "metadata": {},
   "source": [
    "### 정수형"
   ]
  },
  {
   "cell_type": "code",
   "execution_count": 2,
   "id": "97fcd014",
   "metadata": {},
   "outputs": [],
   "source": [
    "a=123\n",
    "a=-178\n",
    "a=0"
   ]
  },
  {
   "cell_type": "markdown",
   "id": "c22b21d6",
   "metadata": {},
   "source": [
    "### 실수형"
   ]
  },
  {
   "cell_type": "code",
   "execution_count": 3,
   "id": "714755db",
   "metadata": {},
   "outputs": [],
   "source": [
    "a=1.2\n",
    "a=-3.45"
   ]
  },
  {
   "cell_type": "markdown",
   "id": "ae337fee",
   "metadata": {},
   "source": [
    "### 8진수"
   ]
  },
  {
   "cell_type": "code",
   "execution_count": 4,
   "id": "e2d85638",
   "metadata": {},
   "outputs": [
    {
     "name": "stdout",
     "output_type": "stream",
     "text": [
      "127\n"
     ]
    }
   ],
   "source": [
    "a=0o177\n",
    "print(a)"
   ]
  },
  {
   "cell_type": "markdown",
   "id": "5d23cff3",
   "metadata": {},
   "source": [
    "### 16진수"
   ]
  },
  {
   "cell_type": "code",
   "execution_count": 5,
   "id": "a665a61d",
   "metadata": {},
   "outputs": [
    {
     "name": "stdout",
     "output_type": "stream",
     "text": [
      "2748\n"
     ]
    }
   ],
   "source": [
    "a=0x8ff\n",
    "b=0xabc\n",
    "print(b)"
   ]
  },
  {
   "cell_type": "markdown",
   "id": "119e2efa",
   "metadata": {},
   "source": [
    "### 사칙연산"
   ]
  },
  {
   "cell_type": "code",
   "execution_count": 1,
   "id": "729fdf5f",
   "metadata": {},
   "outputs": [
    {
     "data": {
      "text/plain": [
       "7"
      ]
     },
     "execution_count": 1,
     "metadata": {},
     "output_type": "execute_result"
    }
   ],
   "source": [
    "a=3\n",
    "b=4\n",
    "a+b"
   ]
  },
  {
   "cell_type": "code",
   "execution_count": 2,
   "id": "55c7814a",
   "metadata": {},
   "outputs": [
    {
     "data": {
      "text/plain": [
       "-1"
      ]
     },
     "execution_count": 2,
     "metadata": {},
     "output_type": "execute_result"
    }
   ],
   "source": [
    "a-b"
   ]
  },
  {
   "cell_type": "code",
   "execution_count": 3,
   "id": "d6059ddb",
   "metadata": {},
   "outputs": [
    {
     "data": {
      "text/plain": [
       "12"
      ]
     },
     "execution_count": 3,
     "metadata": {},
     "output_type": "execute_result"
    }
   ],
   "source": [
    "a*b"
   ]
  },
  {
   "cell_type": "code",
   "execution_count": 4,
   "id": "1c2c49e5",
   "metadata": {},
   "outputs": [
    {
     "data": {
      "text/plain": [
       "0.75"
      ]
     },
     "execution_count": 4,
     "metadata": {},
     "output_type": "execute_result"
    }
   ],
   "source": [
    "a/b"
   ]
  },
  {
   "cell_type": "markdown",
   "id": "92a43946",
   "metadata": {},
   "source": [
    "### x의 y제곱을 나타내는 ** 연산자 (x=a, y=b)"
   ]
  },
  {
   "cell_type": "code",
   "execution_count": 10,
   "id": "f2354c01",
   "metadata": {},
   "outputs": [
    {
     "data": {
      "text/plain": [
       "81"
      ]
     },
     "execution_count": 10,
     "metadata": {},
     "output_type": "execute_result"
    }
   ],
   "source": [
    "a=3\n",
    "b=4\n",
    "a**b"
   ]
  },
  {
   "cell_type": "markdown",
   "id": "7f0a559a",
   "metadata": {},
   "source": [
    "### 나눗셈 후 나머지를 리턴하는 % 연산자\n",
    "<img src=\"https://wikidocs.net/images/page/12/02_1_mod1.png\" align=\"left\"></img>"
   ]
  },
  {
   "cell_type": "code",
   "execution_count": 11,
   "id": "9d32cd18",
   "metadata": {},
   "outputs": [
    {
     "data": {
      "text/plain": [
       "3"
      ]
     },
     "execution_count": 11,
     "metadata": {},
     "output_type": "execute_result"
    }
   ],
   "source": [
    "3%7"
   ]
  },
  {
   "cell_type": "code",
   "execution_count": 8,
   "id": "153d0067",
   "metadata": {},
   "outputs": [
    {
     "data": {
      "text/plain": [
       "1"
      ]
     },
     "execution_count": 8,
     "metadata": {},
     "output_type": "execute_result"
    }
   ],
   "source": [
    "7%3"
   ]
  },
  {
   "cell_type": "markdown",
   "id": "dfe361b8",
   "metadata": {},
   "source": [
    "### 나눗셈 후 몫을 리턴하는 // 연산자\n",
    "<img src=\"https://wikidocs.net/images/page/12/02_1_mod2.png\" align=\"left\"></img>"
   ]
  },
  {
   "cell_type": "code",
   "execution_count": 23,
   "id": "5985c9cf",
   "metadata": {},
   "outputs": [
    {
     "data": {
      "text/plain": [
       "1.75"
      ]
     },
     "execution_count": 23,
     "metadata": {},
     "output_type": "execute_result"
    }
   ],
   "source": [
    "7/4"
   ]
  },
  {
   "cell_type": "code",
   "execution_count": 24,
   "id": "b7a7824c",
   "metadata": {},
   "outputs": [
    {
     "data": {
      "text/plain": [
       "1"
      ]
     },
     "execution_count": 24,
     "metadata": {},
     "output_type": "execute_result"
    }
   ],
   "source": [
    "7//4"
   ]
  },
  {
   "cell_type": "markdown",
   "id": "92f3e98d",
   "metadata": {},
   "source": [
    "1.75에서 몫에 해당하는 정숫값 1만 리턴하는 것을 확인할 수 있다."
   ]
  },
  {
   "cell_type": "markdown",
   "id": "20af04f8",
   "metadata": {},
   "source": [
    "----"
   ]
  },
  {
   "cell_type": "markdown",
   "id": "14ae2b50",
   "metadata": {},
   "source": [
    "# 02 문자열 자료형"
   ]
  },
  {
   "cell_type": "code",
   "execution_count": 11,
   "id": "40ad6218",
   "metadata": {},
   "outputs": [
    {
     "data": {
      "text/plain": [
       "'hello world'"
      ]
     },
     "execution_count": 11,
     "metadata": {},
     "output_type": "execute_result"
    }
   ],
   "source": [
    "\"hello world\""
   ]
  },
  {
   "cell_type": "markdown",
   "id": "666a4014",
   "metadata": {},
   "source": [
    "\"a\" >> 'a'"
   ]
  },
  {
   "cell_type": "code",
   "execution_count": 12,
   "id": "a76d045d",
   "metadata": {},
   "outputs": [
    {
     "data": {
      "text/plain": [
       "'hello world'"
      ]
     },
     "execution_count": 12,
     "metadata": {},
     "output_type": "execute_result"
    }
   ],
   "source": [
    "'hello world'"
   ]
  },
  {
   "cell_type": "markdown",
   "id": "61c77f7b",
   "metadata": {},
   "source": [
    "'a >> 'a'"
   ]
  },
  {
   "cell_type": "markdown",
   "id": "492ebd77",
   "metadata": {},
   "source": [
    "### 문자열 안에 작은따옴표나 큰따옴표를 포함시키고 싶을 때"
   ]
  },
  {
   "cell_type": "code",
   "execution_count": 13,
   "id": "0e19f9a6",
   "metadata": {},
   "outputs": [
    {
     "data": {
      "text/plain": [
       "\"Python's favorite food is perl\""
      ]
     },
     "execution_count": 13,
     "metadata": {},
     "output_type": "execute_result"
    }
   ],
   "source": [
    "\"Python's favorite food is perl\""
   ]
  },
  {
   "cell_type": "markdown",
   "id": "91eb544c",
   "metadata": {},
   "source": [
    "\"a's\" >> \"a's\""
   ]
  },
  {
   "cell_type": "code",
   "execution_count": 18,
   "id": "41fc7b6d",
   "metadata": {},
   "outputs": [
    {
     "data": {
      "text/plain": [
       "'\"Python is very easy.\" he says.'"
      ]
     },
     "execution_count": 18,
     "metadata": {},
     "output_type": "execute_result"
    }
   ],
   "source": [
    "'\"Python is very easy.\" he says.'"
   ]
  },
  {
   "cell_type": "markdown",
   "id": "cdd412ee",
   "metadata": {},
   "source": [
    "' \"abc\" ' >> ' \"abc\" '"
   ]
  },
  {
   "cell_type": "code",
   "execution_count": 19,
   "id": "2d7da864",
   "metadata": {},
   "outputs": [
    {
     "data": {
      "text/plain": [
       "\"Python's favorite food is perl\""
      ]
     },
     "execution_count": 19,
     "metadata": {},
     "output_type": "execute_result"
    }
   ],
   "source": [
    "'Python\\'s favorite food is perl'"
   ]
  },
  {
   "cell_type": "markdown",
   "id": "6bc59a32",
   "metadata": {},
   "source": [
    "'a\\'s' >> \"a's\""
   ]
  },
  {
   "cell_type": "code",
   "execution_count": 2,
   "id": "4d175575",
   "metadata": {},
   "outputs": [
    {
     "data": {
      "text/plain": [
       "'\"Python is very easy.\" he says.'"
      ]
     },
     "execution_count": 2,
     "metadata": {},
     "output_type": "execute_result"
    }
   ],
   "source": [
    "\"\\\"Python is very easy.\\\" he says.\""
   ]
  },
  {
   "cell_type": "markdown",
   "id": "c385cf39",
   "metadata": {},
   "source": [
    "\"\\\"abc.\\\"defg\" >> '\"abc.\"defg'"
   ]
  },
  {
   "cell_type": "markdown",
   "id": "d0facbc4",
   "metadata": {},
   "source": [
    "### 줄바꿈"
   ]
  },
  {
   "cell_type": "code",
   "execution_count": 8,
   "id": "c33b24fb",
   "metadata": {},
   "outputs": [
    {
     "data": {
      "text/plain": [
       "'Life is too short\\nYou need python'"
      ]
     },
     "execution_count": 8,
     "metadata": {},
     "output_type": "execute_result"
    }
   ],
   "source": [
    "\"Life is too short\\nYou need python\""
   ]
  },
  {
   "cell_type": "code",
   "execution_count": 5,
   "id": "b0f415d6",
   "metadata": {},
   "outputs": [],
   "source": [
    "#1. 줄을 바꾸기 위한 이스케이프 코드 \\n 삽입하기\n",
    "multiline = \"Life is too short\\nYou need python\""
   ]
  },
  {
   "cell_type": "code",
   "execution_count": 6,
   "id": "e57f2ced",
   "metadata": {},
   "outputs": [
    {
     "name": "stdout",
     "output_type": "stream",
     "text": [
      "Life is too short\n",
      "You need python\n"
     ]
    }
   ],
   "source": [
    "print(multiline)"
   ]
  },
  {
   "cell_type": "code",
   "execution_count": 7,
   "id": "fe1322fa",
   "metadata": {},
   "outputs": [],
   "source": [
    "#2. 연속된 작은따옴표 3개 또는 큰따옴표 3개 사용하기\n",
    "multiline = '''\n",
    "Life is too short\n",
    "You need python\n",
    "'''"
   ]
  },
  {
   "cell_type": "code",
   "execution_count": 8,
   "id": "cfb20916",
   "metadata": {},
   "outputs": [
    {
     "data": {
      "text/plain": [
       "'\\nLife is too short\\nYou need python\\n'"
      ]
     },
     "execution_count": 8,
     "metadata": {},
     "output_type": "execute_result"
    }
   ],
   "source": [
    "multiline"
   ]
  },
  {
   "cell_type": "code",
   "execution_count": 9,
   "id": "766dda92",
   "metadata": {},
   "outputs": [
    {
     "name": "stdout",
     "output_type": "stream",
     "text": [
      "\n",
      "Life is too short\n",
      "You need python\n",
      "\n"
     ]
    }
   ],
   "source": [
    "print(multiline)"
   ]
  },
  {
   "cell_type": "markdown",
   "id": "f9b934b3",
   "metadata": {},
   "source": [
    "### 문자열 연산하기"
   ]
  },
  {
   "cell_type": "code",
   "execution_count": 12,
   "id": "5e16fb0e",
   "metadata": {},
   "outputs": [
    {
     "data": {
      "text/plain": [
       "'Python is fun!'"
      ]
     },
     "execution_count": 12,
     "metadata": {},
     "output_type": "execute_result"
    }
   ],
   "source": [
    "#문자열 더해서 연결하기\n",
    "\n",
    "head = \"Python\"\n",
    "tail = \" is fun!\"\n",
    "head + tail"
   ]
  },
  {
   "cell_type": "code",
   "execution_count": 13,
   "id": "358f27f4",
   "metadata": {},
   "outputs": [
    {
     "data": {
      "text/plain": [
       "'pythonpythonpythonpythonpython'"
      ]
     },
     "execution_count": 13,
     "metadata": {},
     "output_type": "execute_result"
    }
   ],
   "source": [
    "#문자열 곱하기\n",
    "\n",
    "a='python'\n",
    "a*5"
   ]
  },
  {
   "cell_type": "markdown",
   "id": "248aefe8",
   "metadata": {},
   "source": [
    "### 문자열 길이 구하기"
   ]
  },
  {
   "cell_type": "code",
   "execution_count": 16,
   "id": "330e352a",
   "metadata": {},
   "outputs": [
    {
     "data": {
      "text/plain": [
       "17"
      ]
     },
     "execution_count": 16,
     "metadata": {},
     "output_type": "execute_result"
    }
   ],
   "source": [
    "a=\"life is too short\"\n",
    "len(a)"
   ]
  },
  {
   "cell_type": "markdown",
   "id": "d7bdd980",
   "metadata": {},
   "source": [
    "### 문자열 인덱싱 (파이썬은 0부터 숫자를 센다)"
   ]
  },
  {
   "cell_type": "code",
   "execution_count": 17,
   "id": "15e4f1ab",
   "metadata": {},
   "outputs": [
    {
     "data": {
      "text/plain": [
       "'e'"
      ]
     },
     "execution_count": 17,
     "metadata": {},
     "output_type": "execute_result"
    }
   ],
   "source": [
    "a = \"Life is too short, You need Python\"\n",
    "a[3]"
   ]
  },
  {
   "cell_type": "code",
   "execution_count": 18,
   "id": "c93442f5",
   "metadata": {},
   "outputs": [
    {
     "data": {
      "text/plain": [
       "'s'"
      ]
     },
     "execution_count": 18,
     "metadata": {},
     "output_type": "execute_result"
    }
   ],
   "source": [
    "a[12]"
   ]
  },
  {
   "cell_type": "markdown",
   "id": "c053e034",
   "metadata": {},
   "source": [
    "### - 는 뒤에서 부터"
   ]
  },
  {
   "cell_type": "code",
   "execution_count": 19,
   "id": "868379ac",
   "metadata": {},
   "outputs": [
    {
     "data": {
      "text/plain": [
       "'n'"
      ]
     },
     "execution_count": 19,
     "metadata": {},
     "output_type": "execute_result"
    }
   ],
   "source": [
    "a[-1]"
   ]
  },
  {
   "cell_type": "code",
   "execution_count": 20,
   "id": "274b0322",
   "metadata": {},
   "outputs": [
    {
     "data": {
      "text/plain": [
       "' '"
      ]
     },
     "execution_count": 20,
     "metadata": {},
     "output_type": "execute_result"
    }
   ],
   "source": [
    "a[-7]"
   ]
  },
  {
   "cell_type": "markdown",
   "id": "e26cca51",
   "metadata": {},
   "source": [
    "### 문자열 슬라이싱 (end 인덱스 +1 해야한다)"
   ]
  },
  {
   "cell_type": "code",
   "execution_count": 25,
   "id": "ec716cfd",
   "metadata": {},
   "outputs": [
    {
     "data": {
      "text/plain": [
       "'Lif'"
      ]
     },
     "execution_count": 25,
     "metadata": {},
     "output_type": "execute_result"
    }
   ],
   "source": [
    "a = \"Life is too short, You need Python\"\n",
    "a[0:3]"
   ]
  },
  {
   "cell_type": "code",
   "execution_count": 29,
   "id": "43baee75",
   "metadata": {},
   "outputs": [
    {
     "data": {
      "text/plain": [
       "'Life'"
      ]
     },
     "execution_count": 29,
     "metadata": {},
     "output_type": "execute_result"
    }
   ],
   "source": [
    "a[0:4]"
   ]
  },
  {
   "cell_type": "code",
   "execution_count": 30,
   "id": "4921fda1",
   "metadata": {},
   "outputs": [
    {
     "data": {
      "text/plain": [
       "'too short'"
      ]
     },
     "execution_count": 30,
     "metadata": {},
     "output_type": "execute_result"
    }
   ],
   "source": [
    "a[8:17]"
   ]
  },
  {
   "cell_type": "code",
   "execution_count": 32,
   "id": "e549683d",
   "metadata": {},
   "outputs": [
    {
     "data": {
      "text/plain": [
       "False"
      ]
     },
     "execution_count": 32,
     "metadata": {},
     "output_type": "execute_result"
    }
   ],
   "source": [
    "a[0:4]==a[0:5]"
   ]
  },
  {
   "cell_type": "code",
   "execution_count": 33,
   "id": "7dfc0063",
   "metadata": {},
   "outputs": [
    {
     "data": {
      "text/plain": [
       "'You need Python'"
      ]
     },
     "execution_count": 33,
     "metadata": {},
     "output_type": "execute_result"
    }
   ],
   "source": [
    "a[19:]"
   ]
  },
  {
   "cell_type": "code",
   "execution_count": 34,
   "id": "ae34de04",
   "metadata": {},
   "outputs": [
    {
     "data": {
      "text/plain": [
       "'Life is too short'"
      ]
     },
     "execution_count": 34,
     "metadata": {},
     "output_type": "execute_result"
    }
   ],
   "source": [
    "a[:17]"
   ]
  },
  {
   "cell_type": "code",
   "execution_count": 36,
   "id": "f199540a",
   "metadata": {},
   "outputs": [
    {
     "data": {
      "text/plain": [
       "'Life is too short, You need Python'"
      ]
     },
     "execution_count": 36,
     "metadata": {},
     "output_type": "execute_result"
    }
   ],
   "source": [
    "a[:]"
   ]
  },
  {
   "cell_type": "code",
   "execution_count": 38,
   "id": "4c204339",
   "metadata": {},
   "outputs": [
    {
     "data": {
      "text/plain": [
       "'You need'"
      ]
     },
     "execution_count": 38,
     "metadata": {},
     "output_type": "execute_result"
    }
   ],
   "source": [
    "a[19:-7]"
   ]
  },
  {
   "cell_type": "markdown",
   "id": "b1187d61",
   "metadata": {},
   "source": [
    "### 슬라이싱으로 문자열 나누기"
   ]
  },
  {
   "cell_type": "code",
   "execution_count": 40,
   "id": "b4bff064",
   "metadata": {},
   "outputs": [
    {
     "data": {
      "text/plain": [
       "('20230331', 'Rainy')"
      ]
     },
     "execution_count": 40,
     "metadata": {},
     "output_type": "execute_result"
    }
   ],
   "source": [
    "a = \"20230331Rainy\"\n",
    "date = a[:8]\n",
    "weather = a[8:]\n",
    "date, weather"
   ]
  },
  {
   "cell_type": "code",
   "execution_count": 52,
   "id": "bf7a4f09",
   "metadata": {},
   "outputs": [
    {
     "data": {
      "text/plain": [
       "'2023'"
      ]
     },
     "execution_count": 52,
     "metadata": {},
     "output_type": "execute_result"
    }
   ],
   "source": [
    "a = \"20230331Rainy\"\n",
    "year = a[:4]\n",
    "day = a[4:8]\n",
    "weather = a[8:]\n",
    "year"
   ]
  },
  {
   "cell_type": "code",
   "execution_count": 53,
   "id": "37ba3337",
   "metadata": {},
   "outputs": [
    {
     "data": {
      "text/plain": [
       "'0331'"
      ]
     },
     "execution_count": 53,
     "metadata": {},
     "output_type": "execute_result"
    }
   ],
   "source": [
    "day"
   ]
  },
  {
   "cell_type": "code",
   "execution_count": 54,
   "id": "d0773437",
   "metadata": {},
   "outputs": [
    {
     "data": {
      "text/plain": [
       "'Rainy'"
      ]
     },
     "execution_count": 54,
     "metadata": {},
     "output_type": "execute_result"
    }
   ],
   "source": [
    "weather"
   ]
  },
  {
   "cell_type": "code",
   "execution_count": 51,
   "id": "8f816ba1",
   "metadata": {},
   "outputs": [
    {
     "ename": "NameError",
     "evalue": "name 'y' is not defined",
     "output_type": "error",
     "traceback": [
      "\u001b[1;31m---------------------------------------------------------------------------\u001b[0m",
      "\u001b[1;31mNameError\u001b[0m                                 Traceback (most recent call last)",
      "Cell \u001b[1;32mIn[51], line 3\u001b[0m\n\u001b[0;32m      1\u001b[0m \u001b[38;5;66;03m#문자열 수정\u001b[39;00m\n\u001b[0;32m      2\u001b[0m a\u001b[38;5;241m=\u001b[39m\u001b[38;5;124m'\u001b[39m\u001b[38;5;124mpithon\u001b[39m\u001b[38;5;124m'\u001b[39m\n\u001b[1;32m----> 3\u001b[0m a[\u001b[38;5;241m1\u001b[39m]\u001b[38;5;241m=\u001b[39my\n\u001b[0;32m      4\u001b[0m a\n",
      "\u001b[1;31mNameError\u001b[0m: name 'y' is not defined"
     ]
    }
   ],
   "source": [
    "#문자열 수정\n",
    "\n",
    "a='pithon'\n",
    "a[1]=y\n",
    "a\n",
    "\n",
    "#당연히 오류가 발생한다. 문자열의 요솟값은 바꿀 수 있는 값이 아니기 때문이다\n",
    "#(그래서 문자열을 ‘변경 불가능한(immutable) 자료형’이라고도 부른다)."
   ]
  },
  {
   "cell_type": "code",
   "execution_count": 44,
   "id": "897abd35",
   "metadata": {},
   "outputs": [
    {
     "data": {
      "text/plain": [
       "'p'"
      ]
     },
     "execution_count": 44,
     "metadata": {},
     "output_type": "execute_result"
    }
   ],
   "source": [
    "a[:1]"
   ]
  },
  {
   "cell_type": "code",
   "execution_count": 45,
   "id": "41023a27",
   "metadata": {},
   "outputs": [
    {
     "data": {
      "text/plain": [
       "'thon'"
      ]
     },
     "execution_count": 45,
     "metadata": {},
     "output_type": "execute_result"
    }
   ],
   "source": [
    "a[2:]"
   ]
  },
  {
   "cell_type": "code",
   "execution_count": 47,
   "id": "dd21caac",
   "metadata": {},
   "outputs": [
    {
     "data": {
      "text/plain": [
       "'python'"
      ]
     },
     "execution_count": 47,
     "metadata": {},
     "output_type": "execute_result"
    }
   ],
   "source": [
    "b= a[:1]+'y'+a[2:]\n",
    "b"
   ]
  },
  {
   "cell_type": "markdown",
   "id": "6ee0add5",
   "metadata": {},
   "source": [
    "### 문자열 포매팅"
   ]
  },
  {
   "cell_type": "code",
   "execution_count": 19,
   "id": "bf49847c",
   "metadata": {},
   "outputs": [
    {
     "data": {
      "text/plain": [
       "'I eat 3 apples.'"
      ]
     },
     "execution_count": 19,
     "metadata": {},
     "output_type": "execute_result"
    }
   ],
   "source": [
    "#숫자바로대입 - %d\n",
    "\n",
    "\"I eat %d apples.\"%3"
   ]
  },
  {
   "cell_type": "code",
   "execution_count": 20,
   "id": "dd7607ea",
   "metadata": {},
   "outputs": [
    {
     "data": {
      "text/plain": [
       "'I eat five apples.'"
      ]
     },
     "execution_count": 20,
     "metadata": {},
     "output_type": "execute_result"
    }
   ],
   "source": [
    "#문자열 바로대입 - %s\n",
    "\n",
    "\"I eat %s apples.\"%\"five\""
   ]
  },
  {
   "cell_type": "code",
   "execution_count": 59,
   "id": "f2e8a2de",
   "metadata": {},
   "outputs": [
    {
     "ename": "NameError",
     "evalue": "name '삼' is not defined",
     "output_type": "error",
     "traceback": [
      "\u001b[1;31m---------------------------------------------------------------------------\u001b[0m",
      "\u001b[1;31mNameError\u001b[0m                                 Traceback (most recent call last)",
      "Cell \u001b[1;32mIn[59], line 1\u001b[0m\n\u001b[1;32m----> 1\u001b[0m \u001b[38;5;124m\"\u001b[39m\u001b[38;5;124mI eat \u001b[39m\u001b[38;5;132;01m%d\u001b[39;00m\u001b[38;5;124m apples.\u001b[39m\u001b[38;5;124m\"\u001b[39m\u001b[38;5;241m%\u001b[39m삼\n",
      "\u001b[1;31mNameError\u001b[0m: name '삼' is not defined"
     ]
    }
   ],
   "source": [
    "\"I eat %d apples.\"%삼"
   ]
  },
  {
   "cell_type": "code",
   "execution_count": 18,
   "id": "1ab4638f",
   "metadata": {},
   "outputs": [
    {
     "data": {
      "text/plain": [
       "'I eat 3 apples.'"
      ]
     },
     "execution_count": 18,
     "metadata": {},
     "output_type": "execute_result"
    }
   ],
   "source": [
    "#숫자값을 나타내는 변수로 대입\n",
    "\n",
    "number=3\n",
    "\"I eat %d apples.\"%number"
   ]
  },
  {
   "cell_type": "code",
   "execution_count": 17,
   "id": "610ed833",
   "metadata": {},
   "outputs": [
    {
     "data": {
      "text/plain": [
       "'I ate 10 apples. so I was sick for three days.'"
      ]
     },
     "execution_count": 17,
     "metadata": {},
     "output_type": "execute_result"
    }
   ],
   "source": [
    "#2개 이상의 값 넣기\n",
    "\n",
    "number = 10\n",
    "day ='three'\n",
    "\"I ate %d apples. so I was sick for %s days.\" % (number, day)"
   ]
  },
  {
   "cell_type": "code",
   "execution_count": 16,
   "id": "098e7803",
   "metadata": {},
   "outputs": [
    {
     "data": {
      "text/plain": [
       "'I have 3 apples'"
      ]
     },
     "execution_count": 16,
     "metadata": {},
     "output_type": "execute_result"
    }
   ],
   "source": [
    "#d>>숫자 안됌, s>>문자로 인지가 됌\n",
    "\n",
    "\"I have %s apples\" %3"
   ]
  },
  {
   "cell_type": "code",
   "execution_count": 70,
   "id": "6574f989",
   "metadata": {},
   "outputs": [
    {
     "data": {
      "text/plain": [
       "'오늘의 습도는70% 입니다.'"
      ]
     },
     "execution_count": 70,
     "metadata": {},
     "output_type": "execute_result"
    }
   ],
   "source": [
    "\"오늘의 습도는%d%% 입니다.\" %70"
   ]
  },
  {
   "cell_type": "markdown",
   "id": "0ed74869",
   "metadata": {},
   "source": [
    "### 포맷 코드와 숫자 함께 사용하기"
   ]
  },
  {
   "cell_type": "code",
   "execution_count": 15,
   "id": "99d5b867",
   "metadata": {},
   "outputs": [
    {
     "data": {
      "text/plain": [
       "'        hi'"
      ]
     },
     "execution_count": 15,
     "metadata": {},
     "output_type": "execute_result"
    }
   ],
   "source": [
    "#1.정렬과 공백\n",
    "\n",
    "\"%10s\" % \"hi\""
   ]
  },
  {
   "cell_type": "code",
   "execution_count": 72,
   "id": "e6a4adfc",
   "metadata": {},
   "outputs": [
    {
     "data": {
      "text/plain": [
       "'hi        jane.'"
      ]
     },
     "execution_count": 72,
     "metadata": {},
     "output_type": "execute_result"
    }
   ],
   "source": [
    "\"%-10sjane.\" % 'hi'"
   ]
  },
  {
   "cell_type": "code",
   "execution_count": 21,
   "id": "f8092d6a",
   "metadata": {
    "scrolled": true
   },
   "outputs": [
    {
     "data": {
      "text/plain": [
       "'3.4213'"
      ]
     },
     "execution_count": 21,
     "metadata": {},
     "output_type": "execute_result"
    }
   ],
   "source": [
    "#2. 소수점 표현하기\n",
    "\n",
    "\"%0.4f\" % 3.42134234"
   ]
  },
  {
   "cell_type": "code",
   "execution_count": 74,
   "id": "668f298a",
   "metadata": {},
   "outputs": [
    {
     "data": {
      "text/plain": [
       "'    3.4213'"
      ]
     },
     "execution_count": 74,
     "metadata": {},
     "output_type": "execute_result"
    }
   ],
   "source": [
    "\"%10.4f\" % 3.42134234"
   ]
  },
  {
   "cell_type": "markdown",
   "id": "df702f7c",
   "metadata": {},
   "source": [
    "### format 함수를 사용한 포매팅"
   ]
  },
  {
   "cell_type": "code",
   "execution_count": 77,
   "id": "fec90f03",
   "metadata": {},
   "outputs": [
    {
     "data": {
      "text/plain": [
       "'I eat 3 apples'"
      ]
     },
     "execution_count": 77,
     "metadata": {},
     "output_type": "execute_result"
    }
   ],
   "source": [
    "#숫자 바로 대입하기\n",
    "\n",
    "\"I eat {} apples\".format(3)"
   ]
  },
  {
   "cell_type": "code",
   "execution_count": 76,
   "id": "2eda7057",
   "metadata": {},
   "outputs": [
    {
     "data": {
      "text/plain": [
       "'I eat five apples'"
      ]
     },
     "execution_count": 76,
     "metadata": {},
     "output_type": "execute_result"
    }
   ],
   "source": [
    "# 문자열 바로 대입하기\n",
    "\n",
    "\"I eat {} apples\".format('five')"
   ]
  },
  {
   "cell_type": "code",
   "execution_count": 78,
   "id": "22587f17",
   "metadata": {},
   "outputs": [
    {
     "data": {
      "text/plain": [
       "'I eat 10 apples'"
      ]
     },
     "execution_count": 78,
     "metadata": {},
     "output_type": "execute_result"
    }
   ],
   "source": [
    "#숫자 값을 가진 변수로 대입하기\n",
    "\n",
    "number=10\n",
    "\"I eat {} apples\".format(number)"
   ]
  },
  {
   "cell_type": "code",
   "execution_count": 81,
   "id": "f543ca89",
   "metadata": {},
   "outputs": [
    {
     "data": {
      "text/plain": [
       "'I ate 10 apples. so I was sick for three days.'"
      ]
     },
     "execution_count": 81,
     "metadata": {},
     "output_type": "execute_result"
    }
   ],
   "source": [
    "#2개 이상의 값 넣기\n",
    "\n",
    "number = 10\n",
    "day = \"three\"\n",
    "\"I ate {} apples. so I was sick for {} days.\".format(number, day)"
   ]
  },
  {
   "cell_type": "code",
   "execution_count": 22,
   "id": "b1ba7df5",
   "metadata": {},
   "outputs": [
    {
     "data": {
      "text/plain": [
       "'I ate 10 apples. so I was sick for 3 days.'"
      ]
     },
     "execution_count": 22,
     "metadata": {},
     "output_type": "execute_result"
    }
   ],
   "source": [
    "#이름 {number} 형태로 넣기\n",
    "\n",
    "\"I ate {number} apples. so I was sick for {day} days.\".format(number=10, day=3)"
   ]
  },
  {
   "cell_type": "code",
   "execution_count": 23,
   "id": "0e4be6ee",
   "metadata": {},
   "outputs": [
    {
     "data": {
      "text/plain": [
       "'I ate 10 apples. so I was sick for 3 days.'"
      ]
     },
     "execution_count": 23,
     "metadata": {},
     "output_type": "execute_result"
    }
   ],
   "source": [
    "#인덱스와 이름을 혼용해서 넣기 \n",
    "    \n",
    "\"I ate {0} apples. so I was sick for {day} days.\".format(10, day=3)"
   ]
  },
  {
   "cell_type": "code",
   "execution_count": 24,
   "id": "23e0e232",
   "metadata": {},
   "outputs": [
    {
     "data": {
      "text/plain": [
       "'3.4213'"
      ]
     },
     "execution_count": 24,
     "metadata": {},
     "output_type": "execute_result"
    }
   ],
   "source": [
    "#소수점 표현하기\n",
    "\n",
    "y = 3.42134234\n",
    "\"{0:0.4f}\".format(y)"
   ]
  },
  {
   "cell_type": "markdown",
   "id": "15ddb2e8",
   "metadata": {},
   "source": [
    "### f 문자열 포매팅 (강추) - 문자열 앞에 f 접두사를 붙이면 f 문자열 포매팅 기능을 사용할 수 있다."
   ]
  },
  {
   "cell_type": "code",
   "execution_count": 85,
   "id": "94146bfa",
   "metadata": {},
   "outputs": [
    {
     "data": {
      "text/plain": [
       "'나의 이름은 홍길동입니다. 나이는 30입니다.'"
      ]
     },
     "execution_count": 85,
     "metadata": {},
     "output_type": "execute_result"
    }
   ],
   "source": [
    "name = '홍길동'\n",
    "age = 30\n",
    "f'나의 이름은 {name}입니다. 나이는 {age}입니다.'"
   ]
  },
  {
   "cell_type": "code",
   "execution_count": 25,
   "id": "0df4dde9",
   "metadata": {},
   "outputs": [
    {
     "data": {
      "text/plain": [
       "'나는 내년이면 31살이 된다.'"
      ]
     },
     "execution_count": 25,
     "metadata": {},
     "output_type": "execute_result"
    }
   ],
   "source": [
    "##f 문자열 포매팅은 표현식을 지원하기 때문에 다음과 같은 것도 가능하다.\n",
    "\n",
    "age = 30\n",
    "f'나는 내년이면 {age + 1}살이 된다.'"
   ]
  },
  {
   "cell_type": "code",
   "execution_count": 87,
   "id": "b2dfcf9a",
   "metadata": {},
   "outputs": [
    {
     "data": {
      "text/plain": [
       "'나의 이름은 홍길동입니다. 나이는 30입니다.'"
      ]
     },
     "execution_count": 87,
     "metadata": {},
     "output_type": "execute_result"
    }
   ],
   "source": [
    "##딕셔너리는 f 문자열 포매팅에서 다음과 같이 사용할 수 있다.\n",
    "\n",
    "d = {'name':'홍길동', 'age':30}\n",
    "f'나의 이름은 {d[\"name\"]}입니다. 나이는 {d[\"age\"]}입니다.'"
   ]
  },
  {
   "cell_type": "markdown",
   "id": "15673a9a",
   "metadata": {},
   "source": [
    "### 문자열 관련 함수들"
   ]
  },
  {
   "cell_type": "code",
   "execution_count": 88,
   "id": "71fb289f",
   "metadata": {},
   "outputs": [
    {
     "data": {
      "text/plain": [
       "2"
      ]
     },
     "execution_count": 88,
     "metadata": {},
     "output_type": "execute_result"
    }
   ],
   "source": [
    "#문자 개수 세기 - count\n",
    "\n",
    "a = \"hobby\"\n",
    "a.count('b')"
   ]
  },
  {
   "cell_type": "code",
   "execution_count": 89,
   "id": "40f00be8",
   "metadata": {},
   "outputs": [
    {
     "data": {
      "text/plain": [
       "14"
      ]
     },
     "execution_count": 89,
     "metadata": {},
     "output_type": "execute_result"
    }
   ],
   "source": [
    "#위치 알려 주기 1 - find\n",
    "\n",
    "a = \"Python is the best choice\"\n",
    "a.find('b')"
   ]
  },
  {
   "cell_type": "code",
   "execution_count": 90,
   "id": "da005f02",
   "metadata": {},
   "outputs": [
    {
     "data": {
      "text/plain": [
       "8"
      ]
     },
     "execution_count": 90,
     "metadata": {},
     "output_type": "execute_result"
    }
   ],
   "source": [
    "#위치 알려 주기 2 - index 인덱스는 오류를 보여준다\n",
    "\n",
    "a = \"Life is too short\"\n",
    "a.index('t')"
   ]
  },
  {
   "cell_type": "code",
   "execution_count": 91,
   "id": "b354c94d",
   "metadata": {},
   "outputs": [
    {
     "ename": "ValueError",
     "evalue": "substring not found",
     "output_type": "error",
     "traceback": [
      "\u001b[1;31m---------------------------------------------------------------------------\u001b[0m",
      "\u001b[1;31mValueError\u001b[0m                                Traceback (most recent call last)",
      "Cell \u001b[1;32mIn[91], line 1\u001b[0m\n\u001b[1;32m----> 1\u001b[0m a\u001b[38;5;241m.\u001b[39mindex(\u001b[38;5;124m'\u001b[39m\u001b[38;5;124mk\u001b[39m\u001b[38;5;124m'\u001b[39m)\n",
      "\u001b[1;31mValueError\u001b[0m: substring not found"
     ]
    }
   ],
   "source": [
    "a.index('k')"
   ]
  },
  {
   "cell_type": "code",
   "execution_count": 92,
   "id": "b26286ed",
   "metadata": {},
   "outputs": [
    {
     "data": {
      "text/plain": [
       "'a,b,c,d'"
      ]
     },
     "execution_count": 92,
     "metadata": {},
     "output_type": "execute_result"
    }
   ],
   "source": [
    "#문자열 삽입 - join\n",
    "\n",
    "\",\".join('abcd')"
   ]
  },
  {
   "cell_type": "code",
   "execution_count": 93,
   "id": "bbe69edb",
   "metadata": {},
   "outputs": [
    {
     "data": {
      "text/plain": [
       "'HI'"
      ]
     },
     "execution_count": 93,
     "metadata": {},
     "output_type": "execute_result"
    }
   ],
   "source": [
    "#소문자를 대문자로 바꾸기 - upper\n",
    "\n",
    "a = \"hi\"\n",
    "a.upper()"
   ]
  },
  {
   "cell_type": "code",
   "execution_count": 95,
   "id": "52afb487",
   "metadata": {},
   "outputs": [
    {
     "data": {
      "text/plain": [
       "'hi'"
      ]
     },
     "execution_count": 95,
     "metadata": {},
     "output_type": "execute_result"
    }
   ],
   "source": [
    "#대문자를 소문자로 바꾸기 - lower\n",
    "\n",
    "a=\"HI\"\n",
    "a.lower()"
   ]
  },
  {
   "cell_type": "code",
   "execution_count": 96,
   "id": "e0b4ae72",
   "metadata": {},
   "outputs": [
    {
     "data": {
      "text/plain": [
       "'hi '"
      ]
     },
     "execution_count": 96,
     "metadata": {},
     "output_type": "execute_result"
    }
   ],
   "source": [
    "#왼쪽 공백 지우기 - lstrip\n",
    "\n",
    "a= \" hi \"\n",
    "a.lstrip()"
   ]
  },
  {
   "cell_type": "code",
   "execution_count": 97,
   "id": "10200a48",
   "metadata": {},
   "outputs": [
    {
     "data": {
      "text/plain": [
       "' hi'"
      ]
     },
     "execution_count": 97,
     "metadata": {},
     "output_type": "execute_result"
    }
   ],
   "source": [
    "#오른쪽 공백 지우기 - rstrip\n",
    "\n",
    "a= \" hi \"\n",
    "a.rstrip()"
   ]
  },
  {
   "cell_type": "code",
   "execution_count": 98,
   "id": "2929ca54",
   "metadata": {},
   "outputs": [
    {
     "data": {
      "text/plain": [
       "'hi'"
      ]
     },
     "execution_count": 98,
     "metadata": {},
     "output_type": "execute_result"
    }
   ],
   "source": [
    "#양쪽 공백 지우기 - strip\n",
    "\n",
    "a= \" hi \"\n",
    "a.strip()"
   ]
  },
  {
   "cell_type": "code",
   "execution_count": 27,
   "id": "dc45a7f5",
   "metadata": {},
   "outputs": [
    {
     "data": {
      "text/plain": [
       "'Your leg is too short'"
      ]
     },
     "execution_count": 27,
     "metadata": {},
     "output_type": "execute_result"
    }
   ],
   "source": [
    "#문자열 바꾸기 - replace\n",
    "#replace(바뀔_문자열, 바꿀_문자열)처럼\n",
    "#사용해서 문자열 안의 특정한 값을 다른 값으로 치환\n",
    "\n",
    "a = \"Life is too short\"\n",
    "a.replace('Life','Your leg')"
   ]
  },
  {
   "cell_type": "code",
   "execution_count": 100,
   "id": "7eec7f89",
   "metadata": {},
   "outputs": [
    {
     "data": {
      "text/plain": [
       "'Life is too short'"
      ]
     },
     "execution_count": 100,
     "metadata": {},
     "output_type": "execute_result"
    }
   ],
   "source": [
    "a"
   ]
  },
  {
   "cell_type": "code",
   "execution_count": 28,
   "id": "76d9ee76",
   "metadata": {},
   "outputs": [
    {
     "data": {
      "text/plain": [
       "['Life', 'is', 'too', 'short']"
      ]
     },
     "execution_count": 28,
     "metadata": {},
     "output_type": "execute_result"
    }
   ],
   "source": [
    "#문자열 나누기 - split\n",
    "#split 함수는 a.split()처럼 괄호 안에\n",
    "#아무 값도 넣어 주지 않으면 공백([Space]], [Tab], [Enter])을\n",
    "#기준으로 문자열을 나누어 준다.\n",
    "\n",
    "a = \"Life is too short\"\n",
    "a.split()"
   ]
  },
  {
   "cell_type": "code",
   "execution_count": 102,
   "id": "d49d7e3b",
   "metadata": {},
   "outputs": [
    {
     "data": {
      "text/plain": [
       "['a', 'b', 'c', 'd']"
      ]
     },
     "execution_count": 102,
     "metadata": {},
     "output_type": "execute_result"
    }
   ],
   "source": [
    "#괄호 안에 특정 값이 있을 경우에는 괄호 안의 값을\n",
    "#구분자로 해서 문자열을 나누어 준다.\n",
    "#이렇게 나눈 값은 리스트에 하나씩 들어간다. \n",
    "\n",
    "b='a:b:c:d'\n",
    "b.split(':')"
   ]
  },
  {
   "cell_type": "markdown",
   "id": "85745b7b",
   "metadata": {},
   "source": [
    "# 자료형의 값을 저장하는 공간, 변수\n",
    "##### 파이썬에서 사용하는 변수는 객체를 가리키는 것이라고도 말할 수 있다. 객체란 우리가 지금까지 보아 온 자료형의 데이터(값)와 같은 것을 의미하는 말이다"
   ]
  },
  {
   "cell_type": "code",
   "execution_count": 86,
   "id": "7faf1259",
   "metadata": {},
   "outputs": [
    {
     "data": {
      "text/plain": [
       "(1, int)"
      ]
     },
     "execution_count": 86,
     "metadata": {},
     "output_type": "execute_result"
    }
   ],
   "source": [
    "a=1\n",
    "a, type(a)"
   ]
  },
  {
   "cell_type": "code",
   "execution_count": 87,
   "id": "1f205e98",
   "metadata": {},
   "outputs": [
    {
     "data": {
      "text/plain": [
       "('python', str)"
      ]
     },
     "execution_count": 87,
     "metadata": {},
     "output_type": "execute_result"
    }
   ],
   "source": [
    "#문자데이터\n",
    "\n",
    "b='python'\n",
    "b, type(b)"
   ]
  },
  {
   "cell_type": "code",
   "execution_count": 88,
   "id": "f2922c14",
   "metadata": {},
   "outputs": [
    {
     "data": {
      "text/plain": [
       "([1, 2, 3], list)"
      ]
     },
     "execution_count": 88,
     "metadata": {},
     "output_type": "execute_result"
    }
   ],
   "source": [
    "#리스트데이터\n",
    "\n",
    "c=[1,2,3]\n",
    "c, type(c)"
   ]
  },
  {
   "cell_type": "code",
   "execution_count": 89,
   "id": "71efdbd7",
   "metadata": {
    "scrolled": true
   },
   "outputs": [
    {
     "data": {
      "text/plain": [
       "140715559457576"
      ]
     },
     "execution_count": 89,
     "metadata": {},
     "output_type": "execute_result"
    }
   ],
   "source": [
    "#id는 변수가 가리키고 있는 객체의 주소 값을 리턴하는 파이썬의 내장 함수\n",
    "\n",
    "id(a)"
   ]
  },
  {
   "cell_type": "markdown",
   "id": "c4adae55",
   "metadata": {},
   "source": [
    "# 리스트를 복사하고자 할 때"
   ]
  },
  {
   "cell_type": "code",
   "execution_count": 90,
   "id": "91a44dd5",
   "metadata": {},
   "outputs": [],
   "source": [
    "#문자열을 복사\n",
    "a=[1,2,3]\n",
    "b=a"
   ]
  },
  {
   "cell_type": "code",
   "execution_count": 91,
   "id": "e843d2a0",
   "metadata": {},
   "outputs": [
    {
     "data": {
      "text/plain": [
       "(2466400779904, 2466400779904)"
      ]
     },
     "execution_count": 91,
     "metadata": {},
     "output_type": "execute_result"
    }
   ],
   "source": [
    "id(a), id(b)"
   ]
  },
  {
   "cell_type": "code",
   "execution_count": 92,
   "id": "df50d89d",
   "metadata": {},
   "outputs": [
    {
     "data": {
      "text/plain": [
       "True"
      ]
     },
     "execution_count": 92,
     "metadata": {},
     "output_type": "execute_result"
    }
   ],
   "source": [
    "a is b ## a와 b가 가리키는 객체가 같을까?"
   ]
  },
  {
   "cell_type": "code",
   "execution_count": 93,
   "id": "aba91f3d",
   "metadata": {},
   "outputs": [
    {
     "data": {
      "text/plain": [
       "[1, 2, 3]"
      ]
     },
     "execution_count": 93,
     "metadata": {},
     "output_type": "execute_result"
    }
   ],
   "source": [
    "a"
   ]
  },
  {
   "cell_type": "code",
   "execution_count": 94,
   "id": "e2139333",
   "metadata": {
    "scrolled": true
   },
   "outputs": [],
   "source": [
    "a[1]=4"
   ]
  },
  {
   "cell_type": "code",
   "execution_count": 95,
   "id": "4b75ee17",
   "metadata": {},
   "outputs": [
    {
     "data": {
      "text/plain": [
       "[1, 4, 3]"
      ]
     },
     "execution_count": 95,
     "metadata": {},
     "output_type": "execute_result"
    }
   ],
   "source": [
    "a"
   ]
  },
  {
   "cell_type": "code",
   "execution_count": 96,
   "id": "eb2eda19",
   "metadata": {},
   "outputs": [
    {
     "data": {
      "text/plain": [
       "[1, 4, 3]"
      ]
     },
     "execution_count": 96,
     "metadata": {},
     "output_type": "execute_result"
    }
   ],
   "source": [
    "b"
   ]
  },
  {
   "cell_type": "markdown",
   "id": "3ac41753",
   "metadata": {},
   "source": [
    "## 두 변수의 값은 같지만, 가리키는 객체는 서로 다르다는 것을 알 수 있다."
   ]
  },
  {
   "cell_type": "code",
   "execution_count": 43,
   "id": "cf78b8a4",
   "metadata": {},
   "outputs": [
    {
     "data": {
      "text/plain": [
       "10"
      ]
     },
     "execution_count": 43,
     "metadata": {},
     "output_type": "execute_result"
    }
   ],
   "source": [
    "num1=10\n",
    "num1"
   ]
  },
  {
   "cell_type": "code",
   "execution_count": 44,
   "id": "df4cf91e",
   "metadata": {},
   "outputs": [
    {
     "data": {
      "text/plain": [
       "(10, 10)"
      ]
     },
     "execution_count": 44,
     "metadata": {},
     "output_type": "execute_result"
    }
   ],
   "source": [
    "num2=num1\n",
    "num1, num2"
   ]
  },
  {
   "cell_type": "code",
   "execution_count": 45,
   "id": "ab418903",
   "metadata": {},
   "outputs": [
    {
     "data": {
      "text/plain": [
       "(11, 10)"
      ]
     },
     "execution_count": 45,
     "metadata": {},
     "output_type": "execute_result"
    }
   ],
   "source": [
    "num1=11\n",
    "num1, num2"
   ]
  },
  {
   "cell_type": "code",
   "execution_count": 46,
   "id": "183bdcc4",
   "metadata": {},
   "outputs": [
    {
     "data": {
      "text/plain": [
       "[1, 4, 3]"
      ]
     },
     "execution_count": 46,
     "metadata": {},
     "output_type": "execute_result"
    }
   ],
   "source": [
    "#[:] 이용하기\n",
    "\n",
    "a = [1, 2, 3]\n",
    "b = a[:]\n",
    "a[1] = 4\n",
    "a"
   ]
  },
  {
   "cell_type": "code",
   "execution_count": 47,
   "id": "dd83139d",
   "metadata": {},
   "outputs": [
    {
     "data": {
      "text/plain": [
       "[1, 2, 3]"
      ]
     },
     "execution_count": 47,
     "metadata": {},
     "output_type": "execute_result"
    }
   ],
   "source": [
    "b"
   ]
  },
  {
   "cell_type": "code",
   "execution_count": 97,
   "id": "20e1019f",
   "metadata": {},
   "outputs": [
    {
     "data": {
      "text/plain": [
       "[1, 2, 3]"
      ]
     },
     "execution_count": 97,
     "metadata": {},
     "output_type": "execute_result"
    }
   ],
   "source": [
    "#copy 모듈 이용하기\n",
    "\n",
    "from copy import copy\n",
    "a=[1,2,3]\n",
    "a"
   ]
  },
  {
   "cell_type": "code",
   "execution_count": 98,
   "id": "c8a313c7",
   "metadata": {},
   "outputs": [
    {
     "data": {
      "text/plain": [
       "(2466400643072, 2466400771904)"
      ]
     },
     "execution_count": 98,
     "metadata": {},
     "output_type": "execute_result"
    }
   ],
   "source": [
    "b = copy(a)\n",
    "id(a), id(b)"
   ]
  },
  {
   "cell_type": "code",
   "execution_count": 99,
   "id": "59c1bf05",
   "metadata": {},
   "outputs": [
    {
     "data": {
      "text/plain": [
       "False"
      ]
     },
     "execution_count": 99,
     "metadata": {},
     "output_type": "execute_result"
    }
   ],
   "source": [
    "b is a"
   ]
  },
  {
   "cell_type": "markdown",
   "id": "3d3a1eaa",
   "metadata": {},
   "source": [
    "### 변수를 만드는 여러가지 방법"
   ]
  },
  {
   "cell_type": "code",
   "execution_count": 100,
   "id": "e99f9b3b",
   "metadata": {},
   "outputs": [],
   "source": [
    "#튜플로 a, b에 값을 대입할 수 있다.\n",
    "\n",
    "a, b = ('python', 'life')"
   ]
  },
  {
   "cell_type": "code",
   "execution_count": 106,
   "id": "cb42c729",
   "metadata": {},
   "outputs": [
    {
     "data": {
      "text/plain": [
       "('python', 'life')"
      ]
     },
     "execution_count": 106,
     "metadata": {},
     "output_type": "execute_result"
    }
   ],
   "source": [
    "a,b"
   ]
  },
  {
   "cell_type": "code",
   "execution_count": 107,
   "id": "7213e2a4",
   "metadata": {},
   "outputs": [],
   "source": [
    "#튜플은 괄호를 생략해도 된다.\n",
    "\n",
    "(a, b) = 'python', 'life'"
   ]
  },
  {
   "cell_type": "code",
   "execution_count": 108,
   "id": "ab08ff79",
   "metadata": {},
   "outputs": [
    {
     "data": {
      "text/plain": [
       "('python', 'life')"
      ]
     },
     "execution_count": 108,
     "metadata": {},
     "output_type": "execute_result"
    }
   ],
   "source": [
    "a,b"
   ]
  },
  {
   "cell_type": "code",
   "execution_count": 109,
   "id": "dc185dfd",
   "metadata": {},
   "outputs": [],
   "source": [
    "#리스트로 변수를 만들 수도 있다.\n",
    "\n",
    "[a, b] = ['python', 'life']"
   ]
  },
  {
   "cell_type": "code",
   "execution_count": 57,
   "id": "4d63c536",
   "metadata": {},
   "outputs": [
    {
     "data": {
      "text/plain": [
       "('python', 'life')"
      ]
     },
     "execution_count": 57,
     "metadata": {},
     "output_type": "execute_result"
    }
   ],
   "source": [
    "a,b"
   ]
  },
  {
   "cell_type": "code",
   "execution_count": 110,
   "id": "e428a862",
   "metadata": {},
   "outputs": [],
   "source": [
    "#여러 개의 변수에 같은 값을 대입할 수도 있다. \n",
    "\n",
    "a = b = 'python'"
   ]
  },
  {
   "cell_type": "code",
   "execution_count": 111,
   "id": "3c70c812",
   "metadata": {},
   "outputs": [
    {
     "data": {
      "text/plain": [
       "('python', 'python')"
      ]
     },
     "execution_count": 111,
     "metadata": {},
     "output_type": "execute_result"
    }
   ],
   "source": [
    "a,b"
   ]
  },
  {
   "cell_type": "markdown",
   "id": "d53c7bf6",
   "metadata": {},
   "source": [
    "# 리스트 자료형"
   ]
  },
  {
   "cell_type": "code",
   "execution_count": 1,
   "id": "cd2a63a3",
   "metadata": {},
   "outputs": [
    {
     "data": {
      "text/plain": [
       "[1, 3, 5, 7, 9]"
      ]
     },
     "execution_count": 1,
     "metadata": {},
     "output_type": "execute_result"
    }
   ],
   "source": [
    "odd = [1,3,5,7,9]\n",
    "odd"
   ]
  },
  {
   "cell_type": "code",
   "execution_count": 2,
   "id": "c35ea85b",
   "metadata": {},
   "outputs": [
    {
     "data": {
      "text/plain": [
       "list"
      ]
     },
     "execution_count": 2,
     "metadata": {},
     "output_type": "execute_result"
    }
   ],
   "source": [
    "type(odd)"
   ]
  },
  {
   "cell_type": "code",
   "execution_count": 6,
   "id": "82d443a7",
   "metadata": {},
   "outputs": [
    {
     "data": {
      "text/plain": [
       "([],\n",
       " [1, 2, 3],\n",
       " ['Life', 'is', 'too', 'short'],\n",
       " [1, 2, 'Life', 'is'],\n",
       " [1, 2, ['Life', 'is']])"
      ]
     },
     "execution_count": 6,
     "metadata": {},
     "output_type": "execute_result"
    }
   ],
   "source": [
    "##리스트안에는 여러 객체들이 들어갈 수 있다.\n",
    "a=[]\n",
    "b=[1,2,3]\n",
    "c = ['Life', 'is', 'too', 'short']\n",
    "d = [1, 2, 'Life', 'is']\n",
    "e = [1, 2, ['Life', 'is']]\n",
    "a,b,c,d,e"
   ]
  },
  {
   "cell_type": "code",
   "execution_count": 7,
   "id": "a1307035",
   "metadata": {
    "scrolled": true
   },
   "outputs": [
    {
     "data": {
      "text/plain": [
       "([], list)"
      ]
     },
     "execution_count": 7,
     "metadata": {},
     "output_type": "execute_result"
    }
   ],
   "source": [
    "##비어 있는 리스트는 a = list()로 생성할 수 있다.\n",
    "a=list()\n",
    "a,type(a)"
   ]
  },
  {
   "cell_type": "markdown",
   "id": "056e0dfb",
   "metadata": {},
   "source": [
    "### 리스트의 인덱싱"
   ]
  },
  {
   "cell_type": "code",
   "execution_count": 8,
   "id": "9252b88e",
   "metadata": {},
   "outputs": [
    {
     "data": {
      "text/plain": [
       "[1, 2, 3]"
      ]
     },
     "execution_count": 8,
     "metadata": {},
     "output_type": "execute_result"
    }
   ],
   "source": [
    "a=[1,2,3]\n",
    "a"
   ]
  },
  {
   "cell_type": "code",
   "execution_count": 9,
   "id": "951ff10f",
   "metadata": {},
   "outputs": [
    {
     "data": {
      "text/plain": [
       "1"
      ]
     },
     "execution_count": 9,
     "metadata": {},
     "output_type": "execute_result"
    }
   ],
   "source": [
    "a[0]"
   ]
  },
  {
   "cell_type": "code",
   "execution_count": 10,
   "id": "52fda1c5",
   "metadata": {},
   "outputs": [
    {
     "data": {
      "text/plain": [
       "4"
      ]
     },
     "execution_count": 10,
     "metadata": {},
     "output_type": "execute_result"
    }
   ],
   "source": [
    "a[0]+a[2]"
   ]
  },
  {
   "cell_type": "code",
   "execution_count": 11,
   "id": "9594e556",
   "metadata": {},
   "outputs": [
    {
     "data": {
      "text/plain": [
       "3"
      ]
     },
     "execution_count": 11,
     "metadata": {},
     "output_type": "execute_result"
    }
   ],
   "source": [
    "a[-1]"
   ]
  },
  {
   "cell_type": "code",
   "execution_count": 12,
   "id": "ccdb1a63",
   "metadata": {},
   "outputs": [],
   "source": [
    "a = [1, 2, 3, ['a', 'b', 'c']] ##집합안에 집합 총4개의 객체인것이다."
   ]
  },
  {
   "cell_type": "code",
   "execution_count": 13,
   "id": "e1f2d014",
   "metadata": {},
   "outputs": [
    {
     "data": {
      "text/plain": [
       "1"
      ]
     },
     "execution_count": 13,
     "metadata": {},
     "output_type": "execute_result"
    }
   ],
   "source": [
    "a[0]"
   ]
  },
  {
   "cell_type": "code",
   "execution_count": 14,
   "id": "d3fa7491",
   "metadata": {},
   "outputs": [
    {
     "data": {
      "text/plain": [
       "['a', 'b', 'c']"
      ]
     },
     "execution_count": 14,
     "metadata": {},
     "output_type": "execute_result"
    }
   ],
   "source": [
    "a[-1]"
   ]
  },
  {
   "cell_type": "code",
   "execution_count": 15,
   "id": "a88b86e0",
   "metadata": {},
   "outputs": [
    {
     "data": {
      "text/plain": [
       "['a', 'b', 'c']"
      ]
     },
     "execution_count": 15,
     "metadata": {},
     "output_type": "execute_result"
    }
   ],
   "source": [
    "a[3]"
   ]
  },
  {
   "cell_type": "code",
   "execution_count": 19,
   "id": "5fd70d65",
   "metadata": {},
   "outputs": [
    {
     "data": {
      "text/plain": [
       "'a'"
      ]
     },
     "execution_count": 19,
     "metadata": {},
     "output_type": "execute_result"
    }
   ],
   "source": [
    "a[-1][0]\n",
    "## a[-1]이 ['a', 'b', 'c'] 리스트라는 것은 이미 설명했다.\n",
    "##바로 이 리스트에서 첫 번째 요소를 불러오기 위해 [0]을 붙여 준 것이다."
   ]
  },
  {
   "cell_type": "code",
   "execution_count": 23,
   "id": "c5249ba3",
   "metadata": {},
   "outputs": [
    {
     "data": {
      "text/plain": [
       "[1, 2, ['a', 'b', ['Life', 'is']]]"
      ]
     },
     "execution_count": 23,
     "metadata": {},
     "output_type": "execute_result"
    }
   ],
   "source": [
    "##삼중 리스트 인덱싱\n",
    "\n",
    "a = [1, 2, ['a', 'b', ['Life', 'is']]]\n",
    "a"
   ]
  },
  {
   "cell_type": "code",
   "execution_count": 24,
   "id": "083a2f8a",
   "metadata": {},
   "outputs": [
    {
     "data": {
      "text/plain": [
       "'Life'"
      ]
     },
     "execution_count": 24,
     "metadata": {},
     "output_type": "execute_result"
    }
   ],
   "source": [
    "a[2][2][0]"
   ]
  },
  {
   "cell_type": "code",
   "execution_count": null,
   "id": "b2647130",
   "metadata": {},
   "outputs": [],
   "source": []
  },
  {
   "cell_type": "markdown",
   "id": "307d7421",
   "metadata": {},
   "source": [
    "### 리스트의 슬라이싱"
   ]
  },
  {
   "cell_type": "code",
   "execution_count": 26,
   "id": "e9f2b7a1",
   "metadata": {},
   "outputs": [
    {
     "data": {
      "text/plain": [
       "[1, 2]"
      ]
     },
     "execution_count": 26,
     "metadata": {},
     "output_type": "execute_result"
    }
   ],
   "source": [
    "a = [1, 2, 3, 4, 5]\n",
    "a[0:2]"
   ]
  },
  {
   "cell_type": "code",
   "execution_count": 29,
   "id": "ae3c5876",
   "metadata": {},
   "outputs": [
    {
     "data": {
      "text/plain": [
       "'12'"
      ]
     },
     "execution_count": 29,
     "metadata": {},
     "output_type": "execute_result"
    }
   ],
   "source": [
    "a = \"12345\"\n",
    "a[0:2] ##문자열에서 했던 것과 사용법이 완전히 동일하다."
   ]
  },
  {
   "cell_type": "code",
   "execution_count": 33,
   "id": "11dbfc40",
   "metadata": {},
   "outputs": [],
   "source": [
    "a = [1, 2, 3, 4, 5] ##인덱스 슬라이싱 할 때 -1\n",
    "b = a[:2]\n",
    "c = a[2:]"
   ]
  },
  {
   "cell_type": "code",
   "execution_count": 34,
   "id": "26d878b9",
   "metadata": {},
   "outputs": [
    {
     "data": {
      "text/plain": [
       "[1, 2]"
      ]
     },
     "execution_count": 34,
     "metadata": {},
     "output_type": "execute_result"
    }
   ],
   "source": [
    "b"
   ]
  },
  {
   "cell_type": "code",
   "execution_count": 35,
   "id": "7e16d5b4",
   "metadata": {},
   "outputs": [
    {
     "data": {
      "text/plain": [
       "[3, 4, 5]"
      ]
     },
     "execution_count": 35,
     "metadata": {},
     "output_type": "execute_result"
    }
   ],
   "source": [
    "c"
   ]
  },
  {
   "cell_type": "markdown",
   "id": "4571bca2",
   "metadata": {},
   "source": [
    "### 중첩된 리스트에서 슬라이싱하기"
   ]
  },
  {
   "cell_type": "code",
   "execution_count": 38,
   "id": "700005f1",
   "metadata": {},
   "outputs": [
    {
     "data": {
      "text/plain": [
       "[3, ['a', 'b', 'c'], 4]"
      ]
     },
     "execution_count": 38,
     "metadata": {},
     "output_type": "execute_result"
    }
   ],
   "source": [
    "a = [1, 2, 3, ['a', 'b', 'c'], 4, 5]\n",
    "a[2:5]"
   ]
  },
  {
   "cell_type": "code",
   "execution_count": 39,
   "id": "75bfde83",
   "metadata": {},
   "outputs": [
    {
     "data": {
      "text/plain": [
       "['a', 'b']"
      ]
     },
     "execution_count": 39,
     "metadata": {},
     "output_type": "execute_result"
    }
   ],
   "source": [
    "a[3][:2]"
   ]
  },
  {
   "cell_type": "markdown",
   "id": "d2a9ed7f",
   "metadata": {},
   "source": [
    "### del 함수를 사용해 리스트 요소 삭제하기"
   ]
  },
  {
   "cell_type": "code",
   "execution_count": 41,
   "id": "9004c1dd",
   "metadata": {},
   "outputs": [
    {
     "data": {
      "text/plain": [
       "[1, 3]"
      ]
     },
     "execution_count": 41,
     "metadata": {},
     "output_type": "execute_result"
    }
   ],
   "source": [
    "a = [1, 2, 3]\n",
    "del a[1]\n",
    "a"
   ]
  },
  {
   "cell_type": "code",
   "execution_count": 43,
   "id": "2b13444b",
   "metadata": {},
   "outputs": [
    {
     "data": {
      "text/plain": [
       "[1, 2]"
      ]
     },
     "execution_count": 43,
     "metadata": {},
     "output_type": "execute_result"
    }
   ],
   "source": [
    "a = [1, 2, 3, 4, 5]\n",
    "del a[2:]\n",
    "a"
   ]
  },
  {
   "cell_type": "markdown",
   "id": "67dff3aa",
   "metadata": {},
   "source": [
    "### 리스트에 요소 추가하기 - append << 맨뒤에 추가하는거"
   ]
  },
  {
   "cell_type": "code",
   "execution_count": 52,
   "id": "355e93e0",
   "metadata": {},
   "outputs": [
    {
     "data": {
      "text/plain": [
       "[1, 2, 3, 4]"
      ]
     },
     "execution_count": 52,
     "metadata": {},
     "output_type": "execute_result"
    }
   ],
   "source": [
    "a = [1, 2, 3]\n",
    "a.append(4)\n",
    "a"
   ]
  },
  {
   "cell_type": "markdown",
   "id": "a40bf282",
   "metadata": {},
   "source": [
    "### 리스트 정렬 - sort"
   ]
  },
  {
   "cell_type": "code",
   "execution_count": 53,
   "id": "00121904",
   "metadata": {},
   "outputs": [
    {
     "data": {
      "text/plain": [
       "[1, 2, 3, 4]"
      ]
     },
     "execution_count": 53,
     "metadata": {},
     "output_type": "execute_result"
    }
   ],
   "source": [
    "##sort 함수는 리스트의 요소를 순서대로 정렬\n",
    "\n",
    "a = [1, 4, 3, 2]\n",
    "a.sort()\n",
    "a"
   ]
  },
  {
   "cell_type": "markdown",
   "id": "3d88e4c6",
   "metadata": {},
   "source": [
    "### 리스트 뒤집기 - reverse"
   ]
  },
  {
   "cell_type": "code",
   "execution_count": 54,
   "id": "4bbcf08f",
   "metadata": {},
   "outputs": [
    {
     "data": {
      "text/plain": [
       "['b', 'c', 'a']"
      ]
     },
     "execution_count": 54,
     "metadata": {},
     "output_type": "execute_result"
    }
   ],
   "source": [
    "##reverse 함수는 리스트를 역순으로 뒤집어 준다.\n",
    "a = ['a', 'c', 'b']\n",
    "a.reverse()\n",
    "a"
   ]
  },
  {
   "cell_type": "markdown",
   "id": "cd8c48cc",
   "metadata": {},
   "source": [
    "### 인덱스 반환 - index"
   ]
  },
  {
   "cell_type": "code",
   "execution_count": 51,
   "id": "5e4f3662",
   "metadata": {},
   "outputs": [
    {
     "data": {
      "text/plain": [
       "2"
      ]
     },
     "execution_count": 51,
     "metadata": {},
     "output_type": "execute_result"
    }
   ],
   "source": [
    "a = [1, 2, 3]\n",
    "a.index(3)"
   ]
  },
  {
   "cell_type": "markdown",
   "id": "55eed6b8",
   "metadata": {},
   "source": [
    "### 리스트에 요소 삽입 - insert"
   ]
  },
  {
   "cell_type": "code",
   "execution_count": 55,
   "id": "5882105c",
   "metadata": {},
   "outputs": [
    {
     "data": {
      "text/plain": [
       "[4, 1, 2, 3]"
      ]
     },
     "execution_count": 55,
     "metadata": {},
     "output_type": "execute_result"
    }
   ],
   "source": [
    "##insert(a, b)는 리스트의 a번째 위치에 b를 삽입하는 함수\n",
    "\n",
    "a = [1, 2, 3]\n",
    "a.insert(0, 4)\n",
    "a"
   ]
  },
  {
   "cell_type": "markdown",
   "id": "1137aef9",
   "metadata": {},
   "source": [
    "### 리스트 요소 제거 - remove"
   ]
  },
  {
   "cell_type": "code",
   "execution_count": 60,
   "id": "79e019ae",
   "metadata": {},
   "outputs": [
    {
     "data": {
      "text/plain": [
       "[1, 2, 1, 2, 3]"
      ]
     },
     "execution_count": 60,
     "metadata": {},
     "output_type": "execute_result"
    }
   ],
   "source": [
    "##remove(x)는 리스트에서 첫 번째로 나오는 x를 삭제하는 함수\n",
    "a = [1, 2, 3, 1, 2, 3]\n",
    "a.remove(3)\n",
    "a"
   ]
  },
  {
   "cell_type": "code",
   "execution_count": 61,
   "id": "25da0e2a",
   "metadata": {},
   "outputs": [
    {
     "data": {
      "text/plain": [
       "[1, 2, 1, 2]"
      ]
     },
     "execution_count": 61,
     "metadata": {},
     "output_type": "execute_result"
    }
   ],
   "source": [
    "a.remove(3)\n",
    "a"
   ]
  },
  {
   "cell_type": "markdown",
   "id": "b7f921d3",
   "metadata": {},
   "source": [
    "### 리스트 요소 끄집어 내기 - pop"
   ]
  },
  {
   "cell_type": "code",
   "execution_count": 62,
   "id": "d50ae1e7",
   "metadata": {},
   "outputs": [
    {
     "data": {
      "text/plain": [
       "3"
      ]
     },
     "execution_count": 62,
     "metadata": {},
     "output_type": "execute_result"
    }
   ],
   "source": [
    "##pop()은 리스트의 맨 마지막 요소를 리턴하고 그 요소는 삭제한다.\n",
    "a = [1, 2, 3]\n",
    "a.pop()"
   ]
  },
  {
   "cell_type": "markdown",
   "id": "019d40fc",
   "metadata": {},
   "source": [
    "### 리스트에 포함된 요소 x의 개수 세기 - count"
   ]
  },
  {
   "cell_type": "code",
   "execution_count": 69,
   "id": "d6e3c58f",
   "metadata": {},
   "outputs": [
    {
     "data": {
      "text/plain": [
       "2"
      ]
     },
     "execution_count": 69,
     "metadata": {},
     "output_type": "execute_result"
    }
   ],
   "source": [
    "a = [1, 2, 3, 1]\n",
    "a.count(1)"
   ]
  },
  {
   "cell_type": "markdown",
   "id": "66a7bd0f",
   "metadata": {},
   "source": [
    "### 리스트 확장 - extend"
   ]
  },
  {
   "cell_type": "code",
   "execution_count": 70,
   "id": "7a235733",
   "metadata": {},
   "outputs": [
    {
     "data": {
      "text/plain": [
       "[1, 2, 3, 4, 5]"
      ]
     },
     "execution_count": 70,
     "metadata": {},
     "output_type": "execute_result"
    }
   ],
   "source": [
    "##extend(x)에서 x에는 리스트만 올 수 있다.\n",
    "a = [1, 2, 3]\n",
    "a.extend([4, 5])\n",
    "a"
   ]
  },
  {
   "cell_type": "code",
   "execution_count": 71,
   "id": "d02df829",
   "metadata": {},
   "outputs": [
    {
     "data": {
      "text/plain": [
       "[1, 2, 3, 4, 5, 4, 5]"
      ]
     },
     "execution_count": 71,
     "metadata": {},
     "output_type": "execute_result"
    }
   ],
   "source": [
    "##a.extend([4, 5])는 a += [4, 5]와 동일하다.\n",
    "\n",
    "a += [4,5]\n",
    "a"
   ]
  },
  {
   "cell_type": "code",
   "execution_count": 72,
   "id": "aee9fe6a",
   "metadata": {},
   "outputs": [
    {
     "data": {
      "text/plain": [
       "[1, 2, 3, 4, 5, 4, 5, 9, 9]"
      ]
     },
     "execution_count": 72,
     "metadata": {},
     "output_type": "execute_result"
    }
   ],
   "source": [
    "##a += [4, 5]는 a = a + [4, 5]와 동일한 표현식이다.\n",
    "\n",
    "a= a+[9,9]\n",
    "a"
   ]
  },
  {
   "cell_type": "markdown",
   "id": "95e14f56",
   "metadata": {},
   "source": [
    "# 튜플 자료형"
   ]
  },
  {
   "cell_type": "markdown",
   "id": "813b8e1e",
   "metadata": {},
   "source": [
    "#### 튜플(tuple)은 몇 가지 점을 제외하곤 리스트와 거의 비슷하며 리스트와 다른 점은 다음과 같다.\n",
    "\n",
    "리스트는 [], 튜플은 ()으로 둘러싼다.   \n",
    "리스트는 요솟값의 생성, 삭제, 수정이 가능하지만\n",
    "#### 튜플은 요솟값을 바꿀 수 없다. (정책적으로 변경을 할 수 없는 요솟값들 )"
   ]
  },
  {
   "cell_type": "code",
   "execution_count": 74,
   "id": "d49703d1",
   "metadata": {},
   "outputs": [],
   "source": [
    "t1 = ()\n",
    "t2 = (1,)\n",
    "t3 = (1, 2, 3)\n",
    "t4 = 1, 2, 3\n",
    "t5 = ('a', 'b', ('ab', 'cd'))"
   ]
  },
  {
   "cell_type": "code",
   "execution_count": 75,
   "id": "4a44862a",
   "metadata": {},
   "outputs": [
    {
     "data": {
      "text/plain": [
       "((), (1,), (1, 2, 3), (1, 2, 3), ('a', 'b', ('ab', 'cd')))"
      ]
     },
     "execution_count": 75,
     "metadata": {},
     "output_type": "execute_result"
    }
   ],
   "source": [
    "t1,t2,t3,t4,t5"
   ]
  },
  {
   "cell_type": "code",
   "execution_count": 76,
   "id": "468cd836",
   "metadata": {},
   "outputs": [
    {
     "data": {
      "text/plain": [
       "tuple"
      ]
     },
     "execution_count": 76,
     "metadata": {},
     "output_type": "execute_result"
    }
   ],
   "source": [
    "type(t1)"
   ]
  },
  {
   "cell_type": "code",
   "execution_count": 78,
   "id": "a6944317",
   "metadata": {},
   "outputs": [
    {
     "data": {
      "text/plain": [
       "(int, tuple)"
      ]
     },
     "execution_count": 78,
     "metadata": {},
     "output_type": "execute_result"
    }
   ],
   "source": [
    "type((1)), type((1,))"
   ]
  },
  {
   "cell_type": "markdown",
   "id": "efde1e32",
   "metadata": {},
   "source": [
    "### 튜플 삭제/수정 시도 (당연히 안됌)"
   ]
  },
  {
   "cell_type": "code",
   "execution_count": 79,
   "id": "ba206ae1",
   "metadata": {},
   "outputs": [
    {
     "ename": "TypeError",
     "evalue": "'tuple' object doesn't support item deletion",
     "output_type": "error",
     "traceback": [
      "\u001b[1;31m---------------------------------------------------------------------------\u001b[0m",
      "\u001b[1;31mTypeError\u001b[0m                                 Traceback (most recent call last)",
      "Cell \u001b[1;32mIn[79], line 2\u001b[0m\n\u001b[0;32m      1\u001b[0m t1 \u001b[38;5;241m=\u001b[39m (\u001b[38;5;241m1\u001b[39m, \u001b[38;5;241m2\u001b[39m, \u001b[38;5;124m'\u001b[39m\u001b[38;5;124ma\u001b[39m\u001b[38;5;124m'\u001b[39m, \u001b[38;5;124m'\u001b[39m\u001b[38;5;124mb\u001b[39m\u001b[38;5;124m'\u001b[39m)\n\u001b[1;32m----> 2\u001b[0m \u001b[38;5;28;01mdel\u001b[39;00m t1[\u001b[38;5;241m0\u001b[39m]\n",
      "\u001b[1;31mTypeError\u001b[0m: 'tuple' object doesn't support item deletion"
     ]
    }
   ],
   "source": [
    "t1 = (1, 2, 'a', 'b')\n",
    "del t1[0]"
   ]
  },
  {
   "cell_type": "code",
   "execution_count": 80,
   "id": "921f9173",
   "metadata": {},
   "outputs": [
    {
     "ename": "TypeError",
     "evalue": "'tuple' object does not support item assignment",
     "output_type": "error",
     "traceback": [
      "\u001b[1;31m---------------------------------------------------------------------------\u001b[0m",
      "\u001b[1;31mTypeError\u001b[0m                                 Traceback (most recent call last)",
      "Cell \u001b[1;32mIn[80], line 2\u001b[0m\n\u001b[0;32m      1\u001b[0m t1 \u001b[38;5;241m=\u001b[39m (\u001b[38;5;241m1\u001b[39m, \u001b[38;5;241m2\u001b[39m, \u001b[38;5;124m'\u001b[39m\u001b[38;5;124ma\u001b[39m\u001b[38;5;124m'\u001b[39m, \u001b[38;5;124m'\u001b[39m\u001b[38;5;124mb\u001b[39m\u001b[38;5;124m'\u001b[39m)\n\u001b[1;32m----> 2\u001b[0m t1[\u001b[38;5;241m0\u001b[39m] \u001b[38;5;241m=\u001b[39m \u001b[38;5;124m'\u001b[39m\u001b[38;5;124mc\u001b[39m\u001b[38;5;124m'\u001b[39m\n",
      "\u001b[1;31mTypeError\u001b[0m: 'tuple' object does not support item assignment"
     ]
    }
   ],
   "source": [
    "t1 = (1, 2, 'a', 'b')\n",
    "t1[0] = 'c'"
   ]
  },
  {
   "cell_type": "markdown",
   "id": "bdd7f916",
   "metadata": {},
   "source": [
    "## 튜플 다루기"
   ]
  },
  {
   "cell_type": "markdown",
   "id": "9d94c01b",
   "metadata": {},
   "source": [
    "### 인덱싱하기"
   ]
  },
  {
   "cell_type": "code",
   "execution_count": 81,
   "id": "2ddfb086",
   "metadata": {},
   "outputs": [
    {
     "data": {
      "text/plain": [
       "1"
      ]
     },
     "execution_count": 81,
     "metadata": {},
     "output_type": "execute_result"
    }
   ],
   "source": [
    "t1 = (1, 2, 'a', 'b')\n",
    "t1[0]"
   ]
  },
  {
   "cell_type": "code",
   "execution_count": 82,
   "id": "e1f7cb0f",
   "metadata": {},
   "outputs": [
    {
     "data": {
      "text/plain": [
       "'b'"
      ]
     },
     "execution_count": 82,
     "metadata": {},
     "output_type": "execute_result"
    }
   ],
   "source": [
    "t1[3]"
   ]
  },
  {
   "cell_type": "markdown",
   "id": "193781a2",
   "metadata": {},
   "source": [
    "### 슬라이싱하기"
   ]
  },
  {
   "cell_type": "code",
   "execution_count": 83,
   "id": "84cfdac1",
   "metadata": {},
   "outputs": [
    {
     "data": {
      "text/plain": [
       "(2, 'a', 'b')"
      ]
     },
     "execution_count": 83,
     "metadata": {},
     "output_type": "execute_result"
    }
   ],
   "source": [
    "t1 = (1, 2, 'a', 'b')\n",
    "t1[1:]"
   ]
  },
  {
   "cell_type": "markdown",
   "id": "c3ac3b91",
   "metadata": {},
   "source": [
    "### 튜플 더하기"
   ]
  },
  {
   "cell_type": "code",
   "execution_count": 84,
   "id": "f6490c51",
   "metadata": {},
   "outputs": [
    {
     "data": {
      "text/plain": [
       "(1, 2, 'a', 'b', 3, 4)"
      ]
     },
     "execution_count": 84,
     "metadata": {},
     "output_type": "execute_result"
    }
   ],
   "source": [
    "t1 = (1, 2, 'a', 'b')\n",
    "t2 = (3, 4)\n",
    "t3 = t1 + t2\n",
    "t3"
   ]
  },
  {
   "cell_type": "markdown",
   "id": "e4894411",
   "metadata": {},
   "source": [
    "### 튜플 곱하기"
   ]
  },
  {
   "cell_type": "code",
   "execution_count": 86,
   "id": "3e362d2b",
   "metadata": {},
   "outputs": [
    {
     "data": {
      "text/plain": [
       "(3, 4, 3, 4, 3, 4)"
      ]
     },
     "execution_count": 86,
     "metadata": {},
     "output_type": "execute_result"
    }
   ],
   "source": [
    "t2 = (3, 4)\n",
    "t3 = t2 * 3\n",
    "t3"
   ]
  },
  {
   "cell_type": "markdown",
   "id": "39b70c32",
   "metadata": {},
   "source": [
    "### 튜플 길이 구하기"
   ]
  },
  {
   "cell_type": "code",
   "execution_count": 87,
   "id": "2b646436",
   "metadata": {},
   "outputs": [
    {
     "data": {
      "text/plain": [
       "4"
      ]
     },
     "execution_count": 87,
     "metadata": {},
     "output_type": "execute_result"
    }
   ],
   "source": [
    "t1 = (1, 2, 'a', 'b')\n",
    "len(t1)"
   ]
  },
  {
   "cell_type": "markdown",
   "id": "5fc36347",
   "metadata": {},
   "source": [
    "# 딕셔너리 자료형"
   ]
  },
  {
   "cell_type": "markdown",
   "id": "f7011832",
   "metadata": {},
   "source": [
    "사람은 누구든지 \"이름\" = \"홍길동\", \"생일\" = \"몇 월 며칠\" 등과 같은 방식으로 그 사람이 가진 정보를 나타낼 수 있다. 파이썬은 영리하게도 이러한 대응 관계를 나타낼 수 있는 딕셔너리(dictionary) 자료형을 가지고 있다. 이번에는 이 자료형에 대해 알아보자.\n",
    "\n",
    "##### 요즘 사용하는 대부분의 언어도 이러한 대응 관계를 나타내는 자료형을 가지고 있는데 이를 딕셔너리라고 하고, ‘연관 배열(associative array)’또는 ‘해시(hash)’라고도 한다.\n",
    "\n",
    "##### 딕셔너리는 리스트나 튜플처럼 순차적으로(sequential) 해당 요솟값을 구하지 않고 Key를 통해 Value를 얻는다."
   ]
  },
  {
   "cell_type": "code",
   "execution_count": 89,
   "id": "c3f624d2",
   "metadata": {},
   "outputs": [
    {
     "data": {
      "text/plain": [
       "{'name': 'pey', 'phone': '010-9999-1234', 'birth': '1118'}"
      ]
     },
     "execution_count": 89,
     "metadata": {},
     "output_type": "execute_result"
    }
   ],
   "source": [
    "dic = {'name': 'pey', 'phone': '010-9999-1234', 'birth': '1118'}\n",
    "dic"
   ]
  },
  {
   "cell_type": "code",
   "execution_count": 91,
   "id": "9d953333",
   "metadata": {},
   "outputs": [
    {
     "data": {
      "text/plain": [
       "{1: 'hi'}"
      ]
     },
     "execution_count": 91,
     "metadata": {},
     "output_type": "execute_result"
    }
   ],
   "source": [
    "a = {1: 'hi'}\n",
    "a"
   ]
  },
  {
   "cell_type": "code",
   "execution_count": 92,
   "id": "0cdfe12e",
   "metadata": {},
   "outputs": [
    {
     "data": {
      "text/plain": [
       "{'a': [1, 2, 3]}"
      ]
     },
     "execution_count": 92,
     "metadata": {},
     "output_type": "execute_result"
    }
   ],
   "source": [
    "a = {'a': [1, 2, 3]}\n",
    "a"
   ]
  },
  {
   "cell_type": "markdown",
   "id": "930803c5",
   "metadata": {},
   "source": [
    "### 딕셔너리 쌍 추가, 삭제하기"
   ]
  },
  {
   "cell_type": "code",
   "execution_count": 93,
   "id": "d5a2a0e1",
   "metadata": {},
   "outputs": [
    {
     "data": {
      "text/plain": [
       "{1: 'a', 2: 'b'}"
      ]
     },
     "execution_count": 93,
     "metadata": {},
     "output_type": "execute_result"
    }
   ],
   "source": [
    "#딕셔너리 쌍 추가하기\n",
    "a = {1: 'a'}\n",
    "a[2] = 'b'\n",
    "a"
   ]
  },
  {
   "cell_type": "code",
   "execution_count": 97,
   "id": "29469568",
   "metadata": {},
   "outputs": [
    {
     "data": {
      "text/plain": [
       "{1: 'a', 2: 'b', 3: [1, 2, 3], 'name': 'pey'}"
      ]
     },
     "execution_count": 97,
     "metadata": {},
     "output_type": "execute_result"
    }
   ],
   "source": [
    "a['name'] = 'pey'\n",
    "a"
   ]
  },
  {
   "cell_type": "code",
   "execution_count": 98,
   "id": "c986de22",
   "metadata": {},
   "outputs": [
    {
     "data": {
      "text/plain": [
       "{1: 'a', 2: 'b', 3: [1, 2, 3], 'name': 'pey'}"
      ]
     },
     "execution_count": 98,
     "metadata": {},
     "output_type": "execute_result"
    }
   ],
   "source": [
    "a[3] = [1, 2, 3]\n",
    "a"
   ]
  },
  {
   "cell_type": "code",
   "execution_count": 99,
   "id": "59fec274",
   "metadata": {},
   "outputs": [
    {
     "data": {
      "text/plain": [
       "{2: 'b', 3: [1, 2, 3], 'name': 'pey'}"
      ]
     },
     "execution_count": 99,
     "metadata": {},
     "output_type": "execute_result"
    }
   ],
   "source": [
    "#딕셔너리 요소 삭제하기\n",
    "del a[1]\n",
    "a"
   ]
  },
  {
   "cell_type": "markdown",
   "id": "3a5f4e14",
   "metadata": {},
   "source": [
    "### 딕셔너리에서 Key를 사용해 Value 얻기"
   ]
  },
  {
   "cell_type": "code",
   "execution_count": 100,
   "id": "b3ea3469",
   "metadata": {},
   "outputs": [
    {
     "data": {
      "text/plain": [
       "10"
      ]
     },
     "execution_count": 100,
     "metadata": {},
     "output_type": "execute_result"
    }
   ],
   "source": [
    "grade = {'pey': 10, 'julliet': 99}\n",
    "grade['pey']"
   ]
  },
  {
   "cell_type": "code",
   "execution_count": 101,
   "id": "c5cc0105",
   "metadata": {},
   "outputs": [
    {
     "data": {
      "text/plain": [
       "99"
      ]
     },
     "execution_count": 101,
     "metadata": {},
     "output_type": "execute_result"
    }
   ],
   "source": [
    "grade['julliet']"
   ]
  },
  {
   "cell_type": "markdown",
   "id": "b88c4bc7",
   "metadata": {},
   "source": [
    "### 딕셔너리 만들 때 주의할 사항"
   ]
  },
  {
   "cell_type": "markdown",
   "id": "0a9322e6",
   "metadata": {},
   "source": [
    "### 딕셔너리 관련 함수"
   ]
  },
  {
   "cell_type": "code",
   "execution_count": 102,
   "id": "c2c0f996",
   "metadata": {},
   "outputs": [
    {
     "data": {
      "text/plain": [
       "(str, list, tuple, dict)"
      ]
     },
     "execution_count": 102,
     "metadata": {},
     "output_type": "execute_result"
    }
   ],
   "source": [
    "#key\n",
    "a1 = 'str'\n",
    "a2 = [1,2,3]\n",
    "a3 = (1,)\n",
    "a4 = {1:'a'}\n",
    "type(a1),type(a2),type(a3),type(a4)"
   ]
  },
  {
   "cell_type": "code",
   "execution_count": 103,
   "id": "a98d8fee",
   "metadata": {},
   "outputs": [
    {
     "data": {
      "text/plain": [
       "dict_keys(['name', 'phone', 'birth'])"
      ]
     },
     "execution_count": 103,
     "metadata": {},
     "output_type": "execute_result"
    }
   ],
   "source": [
    "a = {'name': 'pey', 'phone': '010-9999-1234', 'birth': '1118'}\n",
    "a.keys()"
   ]
  },
  {
   "cell_type": "code",
   "execution_count": 104,
   "id": "9f79cd08",
   "metadata": {},
   "outputs": [
    {
     "name": "stdout",
     "output_type": "stream",
     "text": [
      "name\n",
      "phone\n",
      "birth\n"
     ]
    }
   ],
   "source": [
    "for k in a.keys():\n",
    "    print(k)"
   ]
  },
  {
   "cell_type": "code",
   "execution_count": 106,
   "id": "8e6e7e69",
   "metadata": {},
   "outputs": [
    {
     "data": {
      "text/plain": [
       "dict_values(['pey', '010-9999-1234', '1118'])"
      ]
     },
     "execution_count": 106,
     "metadata": {},
     "output_type": "execute_result"
    }
   ],
   "source": [
    "#Value 리스트 만들기 - values \n",
    "a.values()"
   ]
  },
  {
   "cell_type": "code",
   "execution_count": 107,
   "id": "8172f0ec",
   "metadata": {},
   "outputs": [
    {
     "data": {
      "text/plain": [
       "dict_items([('name', 'pey'), ('phone', '010-9999-1234'), ('birth', '1118')])"
      ]
     },
     "execution_count": 107,
     "metadata": {},
     "output_type": "execute_result"
    }
   ],
   "source": [
    "#Key, Value 쌍 얻기 - items\n",
    "a.items()"
   ]
  },
  {
   "cell_type": "code",
   "execution_count": 108,
   "id": "77bfdb21",
   "metadata": {},
   "outputs": [
    {
     "data": {
      "text/plain": [
       "'pey'"
      ]
     },
     "execution_count": 108,
     "metadata": {},
     "output_type": "execute_result"
    }
   ],
   "source": [
    "#get\n",
    "\n",
    "a = {'name': 'pey', 'phone': '010-9999-1234', 'birth': '1118'}\n",
    "a.get('name')"
   ]
  },
  {
   "cell_type": "code",
   "execution_count": 109,
   "id": "9ef317a6",
   "metadata": {},
   "outputs": [
    {
     "data": {
      "text/plain": [
       "'010-9999-1234'"
      ]
     },
     "execution_count": 109,
     "metadata": {},
     "output_type": "execute_result"
    }
   ],
   "source": [
    "a.get('phone')"
   ]
  },
  {
   "cell_type": "code",
   "execution_count": 110,
   "id": "2050f732",
   "metadata": {},
   "outputs": [
    {
     "name": "stdout",
     "output_type": "stream",
     "text": [
      "None\n"
     ]
    }
   ],
   "source": [
    "a = {'name':'pey', 'phone':'010-9999-1234', 'birth': '1118'}\n",
    "print(a.get('nokey'))"
   ]
  },
  {
   "cell_type": "code",
   "execution_count": 111,
   "id": "3eddea77",
   "metadata": {},
   "outputs": [
    {
     "ename": "SyntaxError",
     "evalue": "unterminated string literal (detected at line 1) (440620461.py, line 1)",
     "output_type": "error",
     "traceback": [
      "\u001b[1;36m  Cell \u001b[1;32mIn[111], line 1\u001b[1;36m\u001b[0m\n\u001b[1;33m    print(a['nokey’])\u001b[0m\n\u001b[1;37m            ^\u001b[0m\n\u001b[1;31mSyntaxError\u001b[0m\u001b[1;31m:\u001b[0m unterminated string literal (detected at line 1)\n"
     ]
    }
   ],
   "source": [
    "print(a['nokey’])"
   ]
  },
  {
   "cell_type": "code",
   "execution_count": 112,
   "id": "91c86a4c",
   "metadata": {},
   "outputs": [
    {
     "data": {
      "text/plain": [
       "'foo'"
      ]
     },
     "execution_count": 112,
     "metadata": {},
     "output_type": "execute_result"
    }
   ],
   "source": [
    "a.get('nokey', 'foo')"
   ]
  },
  {
   "cell_type": "code",
   "execution_count": 113,
   "id": "a7ae0b2b",
   "metadata": {},
   "outputs": [
    {
     "data": {
      "text/plain": [
       "True"
      ]
     },
     "execution_count": 113,
     "metadata": {},
     "output_type": "execute_result"
    }
   ],
   "source": [
    "#해당 Key가 딕셔너리 안에 있는지 조사하기 - in\n",
    "\n",
    "a = {'name':'pey', 'phone':'010-9999-1234', 'birth': '1118'}\n",
    "'name' in a"
   ]
  },
  {
   "cell_type": "code",
   "execution_count": 114,
   "id": "eb9a65ab",
   "metadata": {},
   "outputs": [
    {
     "data": {
      "text/plain": [
       "False"
      ]
     },
     "execution_count": 114,
     "metadata": {},
     "output_type": "execute_result"
    }
   ],
   "source": [
    "'email' in a"
   ]
  },
  {
   "cell_type": "markdown",
   "id": "dd88a34a",
   "metadata": {},
   "source": [
    "# 집합 자료형\n",
    "### 중복을 허용하지 않는다. 순서가 없다(Unordered)."
   ]
  },
  {
   "cell_type": "markdown",
   "id": "a8731157",
   "metadata": {},
   "source": [
    "set은 중복을 허용하지 않는 특징 때문에 데이터의 중복을 제거하기 위한 필터로 종종 사용된다."
   ]
  },
  {
   "cell_type": "code",
   "execution_count": 117,
   "id": "9e6aa6b3",
   "metadata": {},
   "outputs": [
    {
     "data": {
      "text/plain": [
       "({1, 2, 3}, set)"
      ]
     },
     "execution_count": 117,
     "metadata": {},
     "output_type": "execute_result"
    }
   ],
   "source": [
    "s1 = set([1, 2, 3])\n",
    "s1, type(s1)"
   ]
  },
  {
   "cell_type": "code",
   "execution_count": 119,
   "id": "e5ef9a01",
   "metadata": {},
   "outputs": [
    {
     "data": {
      "text/plain": [
       "({'H', 'e', 'l', 'o'}, set)"
      ]
     },
     "execution_count": 119,
     "metadata": {},
     "output_type": "execute_result"
    }
   ],
   "source": [
    "s2 = set(\"Hello\")\n",
    "s2, type(s2)"
   ]
  },
  {
   "cell_type": "markdown",
   "id": "ab5c3809",
   "metadata": {},
   "source": [
    "### 만약 set 자료형에 저장된 값을 인덱싱으로 접근하려면 다음과 같이 리스트나 튜플로 변환한 후에 해야 한다."
   ]
  },
  {
   "cell_type": "code",
   "execution_count": 120,
   "id": "fc189880",
   "metadata": {},
   "outputs": [
    {
     "data": {
      "text/plain": [
       "[1, 2, 3]"
      ]
     },
     "execution_count": 120,
     "metadata": {},
     "output_type": "execute_result"
    }
   ],
   "source": [
    ">>> s1 = set([1, 2, 3])\n",
    ">>> l1 = list(s1)\n",
    ">>> l1"
   ]
  },
  {
   "cell_type": "code",
   "execution_count": 121,
   "id": "e2e28caf",
   "metadata": {},
   "outputs": [
    {
     "data": {
      "text/plain": [
       "1"
      ]
     },
     "execution_count": 121,
     "metadata": {},
     "output_type": "execute_result"
    }
   ],
   "source": [
    "l1[0]"
   ]
  },
  {
   "cell_type": "code",
   "execution_count": 122,
   "id": "25dfecf7",
   "metadata": {},
   "outputs": [
    {
     "data": {
      "text/plain": [
       "(1, 2, 3)"
      ]
     },
     "execution_count": 122,
     "metadata": {},
     "output_type": "execute_result"
    }
   ],
   "source": [
    ">>> t1 = tuple(s1)\n",
    ">>> t1"
   ]
  },
  {
   "cell_type": "code",
   "execution_count": 123,
   "id": "7b7f6a16",
   "metadata": {},
   "outputs": [
    {
     "data": {
      "text/plain": [
       "1"
      ]
     },
     "execution_count": 123,
     "metadata": {},
     "output_type": "execute_result"
    }
   ],
   "source": [
    ">>> t1[0]"
   ]
  },
  {
   "cell_type": "markdown",
   "id": "e009222a",
   "metadata": {},
   "source": [
    "### 교집합, 합집합, 차집합 구하기"
   ]
  },
  {
   "cell_type": "code",
   "execution_count": 125,
   "id": "a2cbe991",
   "metadata": {},
   "outputs": [],
   "source": [
    "s1 = set([1, 2, 3, 4, 5, 6])\n",
    "s2 = set([4, 5, 6, 7, 8, 9])"
   ]
  },
  {
   "cell_type": "code",
   "execution_count": 128,
   "id": "5a98f428",
   "metadata": {},
   "outputs": [
    {
     "data": {
      "text/plain": [
       "{4, 5, 6}"
      ]
     },
     "execution_count": 128,
     "metadata": {},
     "output_type": "execute_result"
    }
   ],
   "source": [
    "##교집합\n",
    "\n",
    "s1 & s2 "
   ]
  },
  {
   "cell_type": "code",
   "execution_count": 130,
   "id": "11284418",
   "metadata": {},
   "outputs": [
    {
     "data": {
      "text/plain": [
       "{4, 5, 6}"
      ]
     },
     "execution_count": 130,
     "metadata": {},
     "output_type": "execute_result"
    }
   ],
   "source": [
    "s1.intersection(s2) #함수"
   ]
  },
  {
   "cell_type": "code",
   "execution_count": 129,
   "id": "3b6cd219",
   "metadata": {},
   "outputs": [
    {
     "data": {
      "text/plain": [
       "{1, 2, 3, 4, 5, 6, 7, 8, 9}"
      ]
     },
     "execution_count": 129,
     "metadata": {},
     "output_type": "execute_result"
    }
   ],
   "source": [
    "#합집합\n",
    "\n",
    "s1 | s2"
   ]
  },
  {
   "cell_type": "code",
   "execution_count": 131,
   "id": "494bdf5e",
   "metadata": {},
   "outputs": [
    {
     "data": {
      "text/plain": [
       "{1, 2, 3, 4, 5, 6, 7, 8, 9}"
      ]
     },
     "execution_count": 131,
     "metadata": {},
     "output_type": "execute_result"
    }
   ],
   "source": [
    "s1.union(s2) #함수"
   ]
  },
  {
   "cell_type": "code",
   "execution_count": 132,
   "id": "17627fcc",
   "metadata": {},
   "outputs": [
    {
     "data": {
      "text/plain": [
       "{1, 2, 3}"
      ]
     },
     "execution_count": 132,
     "metadata": {},
     "output_type": "execute_result"
    }
   ],
   "source": [
    "#차집합\n",
    "\n",
    "s1 - s2"
   ]
  },
  {
   "cell_type": "code",
   "execution_count": 133,
   "id": "a7d74bf4",
   "metadata": {},
   "outputs": [
    {
     "data": {
      "text/plain": [
       "{7, 8, 9}"
      ]
     },
     "execution_count": 133,
     "metadata": {},
     "output_type": "execute_result"
    }
   ],
   "source": [
    "s2 - s1"
   ]
  },
  {
   "cell_type": "code",
   "execution_count": 134,
   "id": "df282d34",
   "metadata": {},
   "outputs": [
    {
     "data": {
      "text/plain": [
       "{1, 2, 3}"
      ]
     },
     "execution_count": 134,
     "metadata": {},
     "output_type": "execute_result"
    }
   ],
   "source": [
    "s1.difference(s2) #함수"
   ]
  },
  {
   "cell_type": "code",
   "execution_count": 135,
   "id": "fbc7c0bc",
   "metadata": {},
   "outputs": [
    {
     "data": {
      "text/plain": [
       "{7, 8, 9}"
      ]
     },
     "execution_count": 135,
     "metadata": {},
     "output_type": "execute_result"
    }
   ],
   "source": [
    "s2.difference(s1)"
   ]
  },
  {
   "cell_type": "markdown",
   "id": "1c0f852f",
   "metadata": {},
   "source": [
    "### 집합 자료형 관련 함수"
   ]
  },
  {
   "cell_type": "code",
   "execution_count": 138,
   "id": "9d9f4cc3",
   "metadata": {},
   "outputs": [
    {
     "data": {
      "text/plain": [
       "{1, 2, 3, 4}"
      ]
     },
     "execution_count": 138,
     "metadata": {},
     "output_type": "execute_result"
    }
   ],
   "source": [
    "#값 1개 추가하기 - add\n",
    "\n",
    "s1 = set([1, 2, 3])\n",
    "s1.add(4)\n",
    "s1"
   ]
  },
  {
   "cell_type": "code",
   "execution_count": 139,
   "id": "a6faab1e",
   "metadata": {},
   "outputs": [
    {
     "data": {
      "text/plain": [
       "{1, 2, 3, 4, 5, 6}"
      ]
     },
     "execution_count": 139,
     "metadata": {},
     "output_type": "execute_result"
    }
   ],
   "source": [
    "#값 여러 개 추가하기 - update\n",
    "\n",
    "s1 = set([1, 2, 3])\n",
    "s1.update([4, 5, 6])\n",
    "s1"
   ]
  },
  {
   "cell_type": "code",
   "execution_count": 140,
   "id": "be2a65ed",
   "metadata": {},
   "outputs": [
    {
     "data": {
      "text/plain": [
       "{1, 3}"
      ]
     },
     "execution_count": 140,
     "metadata": {},
     "output_type": "execute_result"
    }
   ],
   "source": [
    "#특정 값 제거하기 - remove\n",
    "\n",
    "s1 = set([1, 2, 3])\n",
    "s1.remove(2)\n",
    "s1"
   ]
  },
  {
   "cell_type": "markdown",
   "id": "f7c7953c",
   "metadata": {},
   "source": [
    "# 불 자료형(논리)"
   ]
  },
  {
   "cell_type": "markdown",
   "id": "924ae7b7",
   "metadata": {},
   "source": [
    "불(bool) 자료형이란 참(True)과 거짓(False)을 나타내는 자료형이다.\n",
    "- True: 참을 의미한다.\n",
    "- False: 거짓을 의미한다.   \n",
    "True나 False는 파이썬의 예약어로, true, false와 같이 작성하면 안 되고 첫 문자를 항상 대문자로 작성해야 한다."
   ]
  },
  {
   "cell_type": "code",
   "execution_count": 141,
   "id": "b89b1062",
   "metadata": {},
   "outputs": [],
   "source": [
    ">>> a = True\n",
    ">>> b = False"
   ]
  },
  {
   "cell_type": "code",
   "execution_count": 142,
   "id": "a4bdd87c",
   "metadata": {},
   "outputs": [
    {
     "data": {
      "text/plain": [
       "(bool, bool)"
      ]
     },
     "execution_count": 142,
     "metadata": {},
     "output_type": "execute_result"
    }
   ],
   "source": [
    "type(a), type(b)"
   ]
  },
  {
   "cell_type": "code",
   "execution_count": 143,
   "id": "b749523a",
   "metadata": {},
   "outputs": [
    {
     "data": {
      "text/plain": [
       "True"
      ]
     },
     "execution_count": 143,
     "metadata": {},
     "output_type": "execute_result"
    }
   ],
   "source": [
    "1 == 1"
   ]
  },
  {
   "cell_type": "code",
   "execution_count": 144,
   "id": "38423d15",
   "metadata": {},
   "outputs": [
    {
     "data": {
      "text/plain": [
       "True"
      ]
     },
     "execution_count": 144,
     "metadata": {},
     "output_type": "execute_result"
    }
   ],
   "source": [
    "2 > 1"
   ]
  },
  {
   "cell_type": "code",
   "execution_count": 145,
   "id": "7c5fa8fa",
   "metadata": {},
   "outputs": [
    {
     "data": {
      "text/plain": [
       "False"
      ]
     },
     "execution_count": 145,
     "metadata": {},
     "output_type": "execute_result"
    }
   ],
   "source": [
    "2 < 1"
   ]
  },
  {
   "cell_type": "markdown",
   "id": "e0a05666",
   "metadata": {},
   "source": [
    "### 자료형의 참과 거짓"
   ]
  },
  {
   "cell_type": "code",
   "execution_count": null,
   "id": "c332e7d9",
   "metadata": {},
   "outputs": [],
   "source": [
    "a = [1, 2, 3, 4]\n",
    "while a:\n",
    "    print(a.pop(안녕하세요))"
   ]
  },
  {
   "cell_type": "code",
   "execution_count": 148,
   "id": "1efe5c41",
   "metadata": {},
   "outputs": [
    {
     "name": "stdout",
     "output_type": "stream",
     "text": [
      "참\n"
     ]
    }
   ],
   "source": [
    "if [1,2,3]:\n",
    "...     print(\"참\")\n",
    "else:\n",
    "...     print(\"거짓\")"
   ]
  },
  {
   "cell_type": "markdown",
   "id": "266f5b5a",
   "metadata": {},
   "source": [
    "### 불연산"
   ]
  },
  {
   "cell_type": "code",
   "execution_count": 149,
   "id": "b619ef79",
   "metadata": {},
   "outputs": [
    {
     "data": {
      "text/plain": [
       "True"
      ]
     },
     "execution_count": 149,
     "metadata": {},
     "output_type": "execute_result"
    }
   ],
   "source": [
    "bool('python')"
   ]
  },
  {
   "cell_type": "code",
   "execution_count": 150,
   "id": "c150926a",
   "metadata": {},
   "outputs": [
    {
     "data": {
      "text/plain": [
       "False"
      ]
     },
     "execution_count": 150,
     "metadata": {},
     "output_type": "execute_result"
    }
   ],
   "source": [
    "bool('')"
   ]
  },
  {
   "cell_type": "code",
   "execution_count": 151,
   "id": "5efbc576",
   "metadata": {},
   "outputs": [
    {
     "data": {
      "text/plain": [
       "False"
      ]
     },
     "execution_count": 151,
     "metadata": {},
     "output_type": "execute_result"
    }
   ],
   "source": [
    "bool(0)"
   ]
  },
  {
   "cell_type": "code",
   "execution_count": 152,
   "id": "3b9dd9db",
   "metadata": {},
   "outputs": [
    {
     "data": {
      "text/plain": [
       "True"
      ]
     },
     "execution_count": 152,
     "metadata": {},
     "output_type": "execute_result"
    }
   ],
   "source": [
    "bool(3)"
   ]
  },
  {
   "cell_type": "code",
   "execution_count": 153,
   "id": "043a61ff",
   "metadata": {},
   "outputs": [
    {
     "data": {
      "text/plain": [
       "True"
      ]
     },
     "execution_count": 153,
     "metadata": {},
     "output_type": "execute_result"
    }
   ],
   "source": [
    "bool([1, 2, 3])"
   ]
  },
  {
   "cell_type": "code",
   "execution_count": 154,
   "id": "4c570738",
   "metadata": {},
   "outputs": [
    {
     "data": {
      "text/plain": [
       "False"
      ]
     },
     "execution_count": 154,
     "metadata": {},
     "output_type": "execute_result"
    }
   ],
   "source": [
    "bool([])"
   ]
  },
  {
   "cell_type": "code",
   "execution_count": null,
   "id": "594d313c",
   "metadata": {},
   "outputs": [],
   "source": []
  }
 ],
 "metadata": {
  "kernelspec": {
   "display_name": "Python 3 (ipykernel)",
   "language": "python",
   "name": "python3"
  },
  "language_info": {
   "codemirror_mode": {
    "name": "ipython",
    "version": 3
   },
   "file_extension": ".py",
   "mimetype": "text/x-python",
   "name": "python",
   "nbconvert_exporter": "python",
   "pygments_lexer": "ipython3",
   "version": "3.11.5"
  }
 },
 "nbformat": 4,
 "nbformat_minor": 5
}
