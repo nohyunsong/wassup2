{
 "cells": [
  {
   "cell_type": "markdown",
   "id": "da98dc2d",
   "metadata": {},
   "source": [
    "# 함수"
   ]
  },
  {
   "cell_type": "code",
   "execution_count": 1,
   "id": "e49cb99f",
   "metadata": {},
   "outputs": [],
   "source": [
    "# 파이썬 함수의 구조\n",
    "\n",
    "def 함수_이름(매개변수):\n",
    "    수행문장1\n",
    "    수행문장2"
   ]
  },
  {
   "cell_type": "code",
   "execution_count": 4,
   "id": "3b03a825",
   "metadata": {},
   "outputs": [
    {
     "name": "stdout",
     "output_type": "stream",
     "text": [
      "7\n"
     ]
    }
   ],
   "source": [
    "def add (a,b): ## a,b는 매개변수: 인수를 받아서 함수 안에서 사용하는 변수\n",
    "    return a+b\n",
    "a=3\n",
    "b=4\n",
    "print(add (3,4)) ##인수 함수의 입력값을 전달하는 값"
   ]
  },
  {
   "cell_type": "markdown",
   "id": "d7bf886c",
   "metadata": {},
   "source": [
    "### 입력값과 리턴값에 따른 함수의 형태"
   ]
  },
  {
   "cell_type": "code",
   "execution_count": 7,
   "id": "91435256",
   "metadata": {},
   "outputs": [],
   "source": [
    "#일반적인 함수\n",
    "\n",
    "def 함수_이름(매개변수):\n",
    "    수행할_문장\n",
    "    ...\n",
    "    return 리턴값"
   ]
  },
  {
   "cell_type": "code",
   "execution_count": 8,
   "id": "4b84f0d2",
   "metadata": {},
   "outputs": [
    {
     "name": "stdout",
     "output_type": "stream",
     "text": [
      "7\n"
     ]
    }
   ],
   "source": [
    "def add(a, b): \n",
    "    result = a + b \n",
    "    return result\n",
    "a= add(3,4)\n",
    "print(a)"
   ]
  },
  {
   "cell_type": "code",
   "execution_count": 10,
   "id": "daff88a0",
   "metadata": {},
   "outputs": [
    {
     "name": "stdout",
     "output_type": "stream",
     "text": [
      "Hi\n"
     ]
    }
   ],
   "source": [
    "#입력값이 없는 함수\n",
    "\n",
    "def say():\n",
    "    return \"Hi\"\n",
    "a=say()\n",
    "print(a)"
   ]
  },
  {
   "cell_type": "markdown",
   "id": "47576405",
   "metadata": {},
   "source": [
    "위 함수를 쓰기 위해서는 say()처럼 괄호 안에 아무런 값도 넣지 않아야 한다. 이 함수는 입력값은 없지만, 리턴값으로 \"Hi\"라는 문자열을 리턴한다. 즉, a = say()처럼 작성하면 a에 \"Hi\"라는 문자열이 대입되는 것이다.\n",
    "\n",
    "이처럼 입력값이 없고 리턴값만 있는 함수는 다음과 같이 사용한다.\n",
    "\n",
    "리턴값을_받을_변수 = 함수_이름()"
   ]
  },
  {
   "cell_type": "code",
   "execution_count": 24,
   "id": "44f1a5b7",
   "metadata": {},
   "outputs": [
    {
     "name": "stdout",
     "output_type": "stream",
     "text": [
      "3, 4의 합은 7입니다.\n"
     ]
    }
   ],
   "source": [
    "#리턴값이 없는 함수\n",
    "\n",
    "def add(a,b):\n",
    "    print(\"%d, %d의 합은 %d입니다.\" % (a, b, a+b))\n",
    "add(3,4)"
   ]
  },
  {
   "cell_type": "markdown",
   "id": "ffe7881d",
   "metadata": {},
   "source": [
    "즉, 리턴값이 없는 함수는 다음과 같이 사용한다.\n",
    "\n",
    "함수_이름(입력_인수1, 입력_인수2, ...)\n",
    "\n",
    "###### print 문은 함수의 구성 요소 중 하나인 ‘수행할_문장’에 해당하는 부분일 뿐이다. 리턴값은 당연히 없다. 리턴값은 오직 return 명령어로만 돌려받을 수 있다."
   ]
  },
  {
   "cell_type": "code",
   "execution_count": 26,
   "id": "1c699a8a",
   "metadata": {},
   "outputs": [
    {
     "name": "stdout",
     "output_type": "stream",
     "text": [
      "3, 4의 합은 7입니다.\n",
      "None\n"
     ]
    }
   ],
   "source": [
    "a= add (3,4)\n",
    "print(a)"
   ]
  },
  {
   "cell_type": "markdown",
   "id": "87258b82",
   "metadata": {},
   "source": [
    "a 값으로 None이 출력되었다. None이란 ‘거짓을 나타내는 자료형’이라고 언급한 적이 있다. add 함수처럼 리턴값이 없을 때 a = add(3, 4)처럼 쓰면 함수 add는 리턴값으로 a 변수에 None을 리턴한다. None을 리턴한다는 것은 리턴값이 없다는 것이다."
   ]
  },
  {
   "cell_type": "code",
   "execution_count": 28,
   "id": "7a339e21",
   "metadata": {},
   "outputs": [
    {
     "name": "stdout",
     "output_type": "stream",
     "text": [
      "Hi\n"
     ]
    }
   ],
   "source": [
    "#입력값도, 리턴값도 없는 함수\n",
    ">>> def say(): \n",
    "...     print('Hi')\n",
    "##입력 인수를 받는 매개변수도 없고 return 문도 없으니 입력값도, 리턴값도 없는 함수이다.\n",
    "say()\n",
    "##함수_이름()"
   ]
  },
  {
   "cell_type": "markdown",
   "id": "dded7558",
   "metadata": {},
   "source": [
    "### 매개변수를 지정하여 호출하기"
   ]
  },
  {
   "cell_type": "code",
   "execution_count": 29,
   "id": "a6a9f5d4",
   "metadata": {},
   "outputs": [
    {
     "name": "stdout",
     "output_type": "stream",
     "text": [
      "4\n"
     ]
    }
   ],
   "source": [
    "def sub(a,b):\n",
    "    return a-b\n",
    "result = sub(a=7, b=3) # a에 7, b에 3을 전달\n",
    "print(result)"
   ]
  },
  {
   "cell_type": "code",
   "execution_count": 31,
   "id": "2f5160bc",
   "metadata": {},
   "outputs": [
    {
     "name": "stdout",
     "output_type": "stream",
     "text": [
      "1\n"
     ]
    }
   ],
   "source": [
    "#순서에 상관없이 사용할 수 있다는 장점이 있다.\n",
    "result = sub(b=7, a=8)\n",
    "print(result)"
   ]
  },
  {
   "cell_type": "markdown",
   "id": "b11b7918",
   "metadata": {},
   "source": [
    "### 입력값이 몇 개가 될지 모를 때는 어떻게 해야 할까?"
   ]
  },
  {
   "cell_type": "code",
   "execution_count": 33,
   "id": "49e91b88",
   "metadata": {},
   "outputs": [],
   "source": [
    "#입력값이 여러 개일 때 그 입력값을 모두 더해 주는 함수\n",
    "def 함수_이름(*매개변수):\n",
    "    수행할_문장\n",
    "    ...\n",
    "##매개변수 부분이 *매개변수로 바뀌었다."
   ]
  },
  {
   "cell_type": "markdown",
   "id": "bb76d920",
   "metadata": {},
   "source": [
    "#### - 여러 개의 입력값을 받는 함수 만들기\n",
    "다음 예를 통해 여러 개의 입력값을 모두 더하는 함수를 직접 만들어 보자.   \n",
    "예를 들어 add_many(1, 2)이면 3, add_many(1, 2, 3)이면 6,   \n",
    "add_many(1, 2, 3, 4, 5, 6, 7, 8, 9, 10)이면 55를 리턴하는 함수를 만들어 보자."
   ]
  },
  {
   "cell_type": "code",
   "execution_count": 34,
   "id": "f255cc43",
   "metadata": {},
   "outputs": [],
   "source": [
    "def add_many(*args):\n",
    "    result = 0\n",
    "    for i in args:\n",
    "        result = result + i #*args에 입력받은 모든 값을 더한다.\n",
    "    return result"
   ]
  },
  {
   "cell_type": "markdown",
   "id": "f705f972",
   "metadata": {},
   "source": [
    "###### add_many 함수는 입력값이 몇 개이든 상관없다.   \n",
    "###### *args처럼 매개변수 이름 앞에 *을 붙이면 입력값을 전부 모아 튜플로 만들어 주기 때문이다"
   ]
  },
  {
   "cell_type": "code",
   "execution_count": 35,
   "id": "a2fc5854",
   "metadata": {},
   "outputs": [
    {
     "name": "stdout",
     "output_type": "stream",
     "text": [
      "6\n"
     ]
    }
   ],
   "source": [
    "result = add_many(1,2,3)\n",
    "print(result)"
   ]
  },
  {
   "cell_type": "code",
   "execution_count": 39,
   "id": "d13b250b",
   "metadata": {},
   "outputs": [
    {
     "name": "stdout",
     "output_type": "stream",
     "text": [
      "55\n"
     ]
    }
   ],
   "source": [
    "result = add_many(1,2,3,4,5,6,7,8,9,10)\n",
    "print(result)"
   ]
  },
  {
   "cell_type": "markdown",
   "id": "7b6c755f",
   "metadata": {},
   "source": [
    "여러 개의 입력을 처리할 때 def add_many(*args)처럼   \n",
    "함수의 매개변수로 *args 하나만 사용할 수 있는 것은 아니다."
   ]
  },
  {
   "cell_type": "code",
   "execution_count": 57,
   "id": "4f956661",
   "metadata": {},
   "outputs": [],
   "source": [
    ">>> def add_mul(choice, *args): \n",
    "...     if choice == \"add\":   # 매개변수 choice에 \"add\"를 입력받았을 때\n",
    "...         result = 0 \n",
    "...         for i in args: \n",
    "...             result = result + i \n",
    "...     elif choice == \"mul\":   # 매개변수 choice에 \"mul\"을 입력받았을 때\n",
    "...         result = 1 \n",
    "...         for i in args: \n",
    "...             result = result * i \n",
    "...     return result"
   ]
  },
  {
   "cell_type": "code",
   "execution_count": 61,
   "id": "b3bbe8ec",
   "metadata": {},
   "outputs": [
    {
     "name": "stdout",
     "output_type": "stream",
     "text": [
      "15\n"
     ]
    }
   ],
   "source": [
    "result = add_mul(\"add\", 1,2,3,4,5)\n",
    "print(result)"
   ]
  },
  {
   "cell_type": "code",
   "execution_count": 62,
   "id": "5f7de044",
   "metadata": {},
   "outputs": [
    {
     "name": "stdout",
     "output_type": "stream",
     "text": [
      "120\n"
     ]
    }
   ],
   "source": [
    "result = add_mul(\"mul\", 1,2,3,4,5)\n",
    "print(result)"
   ]
  },
  {
   "cell_type": "markdown",
   "id": "2caa5aeb",
   "metadata": {},
   "source": [
    "#### - 키워드 매개변수, kwargs\n"
   ]
  },
  {
   "cell_type": "code",
   "execution_count": 63,
   "id": "0ca1e142",
   "metadata": {},
   "outputs": [],
   "source": [
    "def print_kwargs(**kwargs):\n",
    "    print(kwargs)"
   ]
  },
  {
   "cell_type": "code",
   "execution_count": 64,
   "id": "435f0c06",
   "metadata": {},
   "outputs": [
    {
     "name": "stdout",
     "output_type": "stream",
     "text": [
      "{'a': 1}\n"
     ]
    }
   ],
   "source": [
    "print_kwargs(a=1)"
   ]
  },
  {
   "cell_type": "code",
   "execution_count": 65,
   "id": "84a1831c",
   "metadata": {},
   "outputs": [
    {
     "name": "stdout",
     "output_type": "stream",
     "text": [
      "{'name': 'foo', 'age': 3}\n"
     ]
    }
   ],
   "source": [
    "print_kwargs(name=\"foo\", age=3)"
   ]
  },
  {
   "cell_type": "markdown",
   "id": "79a15bd8",
   "metadata": {},
   "source": [
    "함수의 입력값으로 a=1이 사용되면 kwargs는 {'a': 1}이라는 딕셔너리가 되고 입력값으로 name='foo', age=3이 사용되면 kwargs는 {'age': 3, 'name': 'foo'}라는 딕셔너리가 된다.   \n",
    "즉, **kwargs처럼 매개변수 이름 앞에 **을 붙이면 매개변수 kwargs는 딕셔너리가 되고 모든 Key=Value 형태의 입력값이 그 딕셔너리에 저장된다는 것을 알 수 있다."
   ]
  },
  {
   "cell_type": "markdown",
   "id": "af10bfc6",
   "metadata": {},
   "source": [
    "### 함수의 리턴값은 언제나 하나이다"
   ]
  },
  {
   "cell_type": "code",
   "execution_count": 72,
   "id": "4ce4802d",
   "metadata": {},
   "outputs": [
    {
     "name": "stdout",
     "output_type": "stream",
     "text": [
      "(7, 12)\n"
     ]
    }
   ],
   "source": [
    "def add_and_mul(a,b):\n",
    "    return a+b, a*b\n",
    "result = add_and_mul(3,4)\n",
    "print(result)"
   ]
  },
  {
   "cell_type": "markdown",
   "id": "521ee992",
   "metadata": {},
   "source": [
    "결괏값으로 (7, 12)라는 하나의 튜플 값을 가지게 되는 것이다.   \n",
    "하나의 튜플 값을 2개의 값으로 분리하여 받고 싶다면 함수를 다음과 같이 호출하면 된다."
   ]
  },
  {
   "cell_type": "code",
   "execution_count": 76,
   "id": "7f9a30ee",
   "metadata": {},
   "outputs": [
    {
     "name": "stdout",
     "output_type": "stream",
     "text": [
      "7 12\n"
     ]
    }
   ],
   "source": [
    "result1, result2 = add_and_mul(3,4)\n",
    "print(result1, result2)"
   ]
  },
  {
   "cell_type": "markdown",
   "id": "52a4e3a4",
   "metadata": {},
   "source": [
    "### - return의 또 다른 쓰임새   \n",
    "특별한 상황일 때 함수를 빠져나가고 싶다면 return을 단독으로 써서 함수를 즉시 빠져나갈 수 있다. "
   ]
  },
  {
   "cell_type": "code",
   "execution_count": 77,
   "id": "a952f4b7",
   "metadata": {},
   "outputs": [],
   "source": [
    ">>> def say_nick(nick): \n",
    "...     if nick == \"바보\": \n",
    "...         return \n",
    "...     print(\"나의 별명은 %s 입니다.\" % nick)"
   ]
  },
  {
   "cell_type": "markdown",
   "id": "c3df5986",
   "metadata": {},
   "source": [
    "매개변수 nick으로 별명을 입력받아 출력하는 함수이다. 이 함수 역시 리턴값은 없다   \n",
    "###### 문자열을 출력한다는 것과 리턴값이 있다는 것은 전혀 다른 말이므로 혼동하지 말자.   \n",
    "###### 함수의 리턴값은 오로지 return 문에 의해서만 생성된다."
   ]
  },
  {
   "cell_type": "code",
   "execution_count": 81,
   "id": "2fc3c183",
   "metadata": {},
   "outputs": [
    {
     "name": "stdout",
     "output_type": "stream",
     "text": [
      "나의 별명은 야호 입니다.\n"
     ]
    }
   ],
   "source": [
    "say_nick('야호')"
   ]
  },
  {
   "cell_type": "code",
   "execution_count": 82,
   "id": "59ecb8d9",
   "metadata": {},
   "outputs": [],
   "source": [
    "say_nick('바보')\n",
    "#입력값으로 '바보'라는 값이 들어오면 문자열을 출력하지 않고 함수를 즉시 빠져나간다."
   ]
  },
  {
   "cell_type": "markdown",
   "id": "1bc6b021",
   "metadata": {},
   "source": [
    "### 매개변수에 초깃값 미리 설정하기\n",
    "초기화하고 싶은 매개변수는 항상 뒤쪽에 놓아야 한다는 것을 잊지 말자."
   ]
  },
  {
   "cell_type": "code",
   "execution_count": 83,
   "id": "d714e970",
   "metadata": {},
   "outputs": [],
   "source": [
    "def say_myself(name, age, man=True): \n",
    "    print(\"나의 이름은 %s 입니다.\" % name) \n",
    "    print(\"나이는 %d살입니다.\" % age) \n",
    "    if man: \n",
    "        print(\"남자입니다.\")\n",
    "    else: \n",
    "        print(\"여자입니다.\")"
   ]
  },
  {
   "cell_type": "markdown",
   "id": "404afe1d",
   "metadata": {},
   "source": [
    "위 함수를 보면 매개변수가 name, age, man=True이다. 그런데 낯선 것이 나왔다. man=True처럼 매개변수에 미리 값을 넣어 준 것이다. 이것이 바로 함수의 매개변수에 초깃값을 설정하는 방법이다."
   ]
  },
  {
   "cell_type": "code",
   "execution_count": 84,
   "id": "1bcb3458",
   "metadata": {},
   "outputs": [
    {
     "name": "stdout",
     "output_type": "stream",
     "text": [
      "나의 이름은 박응용 입니다.\n",
      "나이는 27살입니다.\n",
      "남자입니다.\n"
     ]
    }
   ],
   "source": [
    "say_myself(\"박응용\", 27)"
   ]
  },
  {
   "cell_type": "code",
   "execution_count": 98,
   "id": "c85f4601",
   "metadata": {},
   "outputs": [
    {
     "name": "stdout",
     "output_type": "stream",
     "text": [
      "나의 이름은 박응선 입니다.\n",
      "나이는 27살입니다.\n",
      "여자입니다.\n"
     ]
    }
   ],
   "source": [
    "#초깃값이 설정된 부분을 False로 바꿔 호출\n",
    "say_myself(\"박응선\", 27, False)"
   ]
  },
  {
   "cell_type": "markdown",
   "id": "8296cd2f",
   "metadata": {},
   "source": [
    "### 함수 안에서 선언한 변수의 효력 범위"
   ]
  },
  {
   "cell_type": "code",
   "execution_count": 101,
   "id": "86a8d8ea",
   "metadata": {},
   "outputs": [
    {
     "name": "stdout",
     "output_type": "stream",
     "text": [
      "1\n"
     ]
    }
   ],
   "source": [
    "a = 1\n",
    "def vartest(a):\n",
    "    a = a +1\n",
    "\n",
    "vartest(a)\n",
    "print(a)"
   ]
  },
  {
   "cell_type": "markdown",
   "id": "5015f078",
   "metadata": {},
   "source": [
    "def vartest(a)에서 입력값을 전달받는 매개변수 a는 함수 안에서만 사용하는 변수일 뿐, 함수 밖의 변수 a와는 전혀 상관없다는 뜻이다."
   ]
  },
  {
   "cell_type": "markdown",
   "id": "8a0aa011",
   "metadata": {},
   "source": [
    "### 함수 안에서 함수 밖의 변수를 변경하는 방법"
   ]
  },
  {
   "cell_type": "markdown",
   "id": "08db1729",
   "metadata": {},
   "source": [
    "#### 1. return 사용하기"
   ]
  },
  {
   "cell_type": "code",
   "execution_count": 104,
   "id": "47fce987",
   "metadata": {},
   "outputs": [
    {
     "name": "stdout",
     "output_type": "stream",
     "text": [
      "2\n"
     ]
    }
   ],
   "source": [
    "a = 1 \n",
    "def vartest(a): \n",
    "    a = a +1 \n",
    "    return a\n",
    "\n",
    "a = vartest(a) \n",
    "print(a)"
   ]
  },
  {
   "cell_type": "markdown",
   "id": "f0cafd52",
   "metadata": {},
   "source": [
    "첫 번째 방법은 return을 사용하는 방법이다.   \n",
    "vartest 함수는 입력으로 들어온 값에 1을 더한 값을 리턴하도록 변경했다.   \n",
    "따라서 a = vartest(a)라고 작성하면 a에는 vartest 함수의 리턴값이 대입된다."
   ]
  },
  {
   "cell_type": "markdown",
   "id": "b1ffa723",
   "metadata": {},
   "source": [
    "#### 2. global 명령어 사용하기"
   ]
  },
  {
   "cell_type": "code",
   "execution_count": 105,
   "id": "ad101ae6",
   "metadata": {},
   "outputs": [
    {
     "name": "stdout",
     "output_type": "stream",
     "text": [
      "2\n"
     ]
    }
   ],
   "source": [
    "a = 1 \n",
    "def vartest(): \n",
    "    global a \n",
    "    a = a+1\n",
    "\n",
    "vartest() \n",
    "print(a)"
   ]
  },
  {
   "cell_type": "markdown",
   "id": "1fadce21",
   "metadata": {},
   "source": [
    "######  함수 안에서 함수 밖의 a 변수를 직접 사용하겠다는 뜻이다. 하지만 프로그래밍을 할 때 global 명령어는 사용하지 않는 것이 좋다. 함수는 독립적으로 존재하는 것이 좋기 때문이다"
   ]
  },
  {
   "cell_type": "markdown",
   "id": "1fa4cf85",
   "metadata": {},
   "source": [
    "### lambda 예약어\n",
    "lambda는 함수를 생성할 때 사용하는 예약어로, def와 동일한 역할을 한다."
   ]
  },
  {
   "cell_type": "code",
   "execution_count": 108,
   "id": "9ae40038",
   "metadata": {},
   "outputs": [
    {
     "name": "stdout",
     "output_type": "stream",
     "text": [
      "7\n"
     ]
    }
   ],
   "source": [
    ">>> add = lambda a, b: a+b\n",
    ">>> result = add(3, 4)\n",
    ">>> print(result)\n",
    "#lambda로 만든 함수는 return 명령어가 없어도 표현식의 결괏값을 리턴한다."
   ]
  },
  {
   "cell_type": "code",
   "execution_count": 109,
   "id": "882baf7e",
   "metadata": {},
   "outputs": [
    {
     "name": "stdout",
     "output_type": "stream",
     "text": [
      "7\n"
     ]
    }
   ],
   "source": [
    ">>> def add(a, b):\n",
    "...     return a+b\n",
    "...\n",
    ">>> result = add(3, 4)\n",
    ">>> print(result)"
   ]
  },
  {
   "cell_type": "markdown",
   "id": "a7f88754",
   "metadata": {},
   "source": [
    "add는 2개의 인수를 받아 서로 더한 값을 리턴하는 lambda 함수이다.   \n",
    "위 예제는 def를 사용한 다음 함수와 하는 일이 완전히 동일하다."
   ]
  },
  {
   "cell_type": "markdown",
   "id": "fae295f5",
   "metadata": {},
   "source": [
    "## 사용자와 입출력"
   ]
  },
  {
   "cell_type": "markdown",
   "id": "17efa951",
   "metadata": {},
   "source": [
    "### 사용자 입력 활용하기"
   ]
  },
  {
   "cell_type": "markdown",
   "id": "aff393bf",
   "metadata": {},
   "source": [
    "#### - input 사용하기"
   ]
  },
  {
   "cell_type": "code",
   "execution_count": 123,
   "id": "b527341c",
   "metadata": {},
   "outputs": [
    {
     "name": "stdout",
     "output_type": "stream",
     "text": [
      "a\n"
     ]
    },
    {
     "data": {
      "text/plain": [
       "'Life is too short, you need python'"
      ]
     },
     "execution_count": 123,
     "metadata": {},
     "output_type": "execute_result"
    }
   ],
   "source": [
    ">>> a = input()\n",
    "'Life is too short, you need python'"
   ]
  },
  {
   "cell_type": "markdown",
   "id": "84236c77",
   "metadata": {},
   "source": [
    "#### - 프롬프트를 띄워 사용자 입력받기\n",
    "사용자에게 입력받을 때 ‘숫자를 입력하세요’나 ‘이름을 입력하세요’라는 안내 문구 또는 질문을 보여 주고 싶을 때가 있다.   \n",
    "그럴 때는 input()의 괄호 안에 안내 문구를 입력하여 프롬프트를 띄워 주면 된다."
   ]
  },
  {
   "cell_type": "code",
   "execution_count": 126,
   "id": "a315518c",
   "metadata": {},
   "outputs": [
    {
     "name": "stdout",
     "output_type": "stream",
     "text": [
      "숫자를 입력하세요: 1\n"
     ]
    }
   ],
   "source": [
    "number = input(\"숫자를 입력하세요: \")"
   ]
  },
  {
   "cell_type": "markdown",
   "id": "a042c04f",
   "metadata": {},
   "source": [
    "##### input은 입력되는 모든 것을 문자열로 취급하기 때문에 number는 숫자가 아닌 문자열이라는 것에 주의하자."
   ]
  },
  {
   "cell_type": "markdown",
   "id": "92e96b59",
   "metadata": {},
   "source": [
    "### print 자세히 알기"
   ]
  },
  {
   "cell_type": "markdown",
   "id": "b8c0f1df",
   "metadata": {},
   "source": [
    "#### - 문자열 띄어쓰기는 쉼표로 한다"
   ]
  },
  {
   "cell_type": "code",
   "execution_count": 128,
   "id": "94c4d5cc",
   "metadata": {},
   "outputs": [
    {
     "name": "stdout",
     "output_type": "stream",
     "text": [
      "life is too short\n"
     ]
    }
   ],
   "source": [
    "print(\"life\", \"is\", \"too short\")"
   ]
  },
  {
   "cell_type": "markdown",
   "id": "2194b4db",
   "metadata": {},
   "source": [
    "#### - 한 줄에 결괏값 출력하기\n",
    "한 줄에 결괏값을 계속 이어서 출력하려면 매개변수 end를 사용해 끝 문자를 지정해야 한다."
   ]
  },
  {
   "cell_type": "code",
   "execution_count": 129,
   "id": "4a182a54",
   "metadata": {},
   "outputs": [
    {
     "name": "stdout",
     "output_type": "stream",
     "text": [
      "0 1 2 3 4 5 6 7 8 9 "
     ]
    }
   ],
   "source": [
    "for i in range(10):\n",
    "    print(i, end=\" \")"
   ]
  },
  {
   "cell_type": "markdown",
   "id": "582bc84a",
   "metadata": {},
   "source": [
    "## 파일 읽고 쓰기"
   ]
  },
  {
   "cell_type": "markdown",
   "id": "bba2b140",
   "metadata": {},
   "source": [
    "### 파일 생성하기"
   ]
  },
  {
   "cell_type": "code",
   "execution_count": 1,
   "id": "7626befb",
   "metadata": {},
   "outputs": [],
   "source": [
    "f = open(\"새파일.txt\", 'w')\n",
    "f.close()"
   ]
  },
  {
   "cell_type": "markdown",
   "id": "68fc4b50",
   "metadata": {},
   "source": [
    "r\t읽기 모드: 파일을 읽기만 할 때 사용한다.   \n",
    "w\t쓰기 모드: 파일에 내용을 쓸 때 사용한다.   \n",
    "a\t추가 모드: 파일의 마지막에 새로운 내용을 추가할 때 사용한다."
   ]
  },
  {
   "cell_type": "markdown",
   "id": "80cc5a7a",
   "metadata": {},
   "source": [
    "### 파일을 쓰기 모드로 열어 내용 쓰기"
   ]
  },
  {
   "cell_type": "code",
   "execution_count": 2,
   "id": "19a11516",
   "metadata": {},
   "outputs": [],
   "source": [
    "f = open(\"새파일.txt\", 'w')\n",
    "for i in range(1, 11):\n",
    "    data = \"%d번째 줄입니다.\\n\" % i\n",
    "    f.write(data)\n",
    "f.close()"
   ]
  },
  {
   "cell_type": "markdown",
   "id": "245460a8",
   "metadata": {},
   "source": [
    "### 파일을 읽는 여러 가지 방법"
   ]
  },
  {
   "cell_type": "markdown",
   "id": "52bee605",
   "metadata": {},
   "source": [
    "- readline 함수 이용하기"
   ]
  },
  {
   "cell_type": "code",
   "execution_count": 6,
   "id": "4f099057",
   "metadata": {},
   "outputs": [
    {
     "name": "stdout",
     "output_type": "stream",
     "text": [
      "1번째 줄입니다.\n",
      "\n"
     ]
    }
   ],
   "source": [
    "##첫째 줄\n",
    "f = open(\"새파일.txt\", 'r')\n",
    "line = f.readline()\n",
    "print(line)\n",
    "f.close()"
   ]
  },
  {
   "cell_type": "code",
   "execution_count": 7,
   "id": "307caefc",
   "metadata": {},
   "outputs": [
    {
     "name": "stdout",
     "output_type": "stream",
     "text": [
      "1번째 줄입니다.\n",
      "\n",
      "2번째 줄입니다.\n",
      "\n",
      "3번째 줄입니다.\n",
      "\n",
      "4번째 줄입니다.\n",
      "\n",
      "5번째 줄입니다.\n",
      "\n",
      "6번째 줄입니다.\n",
      "\n",
      "7번째 줄입니다.\n",
      "\n",
      "8번째 줄입니다.\n",
      "\n",
      "9번째 줄입니다.\n",
      "\n",
      "10번째 줄입니다.\n",
      "\n"
     ]
    }
   ],
   "source": [
    "##모든 줄\n",
    "f = open(\"새파일.txt\", 'r')\n",
    "while True:\n",
    "    line = f.readline()\n",
    "    if not line: break\n",
    "    print(line)\n",
    "f.close()"
   ]
  },
  {
   "cell_type": "markdown",
   "id": "7d2fd261",
   "metadata": {},
   "source": [
    "while True: 무한 루프 안에서 f.readline()을 사용해 파일을 계속 한 줄씩 읽어 들인다.   \n",
    "만약 더 이상 읽을 줄이 없으면 break를 수행한다(readline()은 더 이상 읽을 줄이 없을 경우, 빈 문자열('')을 리턴한다)."
   ]
  },
  {
   "cell_type": "markdown",
   "id": "80a640af",
   "metadata": {},
   "source": [
    "- readlines 함수 사용하기"
   ]
  },
  {
   "cell_type": "code",
   "execution_count": 12,
   "id": "0dbe1775",
   "metadata": {},
   "outputs": [
    {
     "name": "stdout",
     "output_type": "stream",
     "text": [
      "1번째 줄입니다.\n",
      "\n",
      "2번째 줄입니다.\n",
      "\n",
      "3번째 줄입니다.\n",
      "\n",
      "4번째 줄입니다.\n",
      "\n",
      "5번째 줄입니다.\n",
      "\n",
      "6번째 줄입니다.\n",
      "\n",
      "7번째 줄입니다.\n",
      "\n",
      "8번째 줄입니다.\n",
      "\n",
      "9번째 줄입니다.\n",
      "\n",
      "10번째 줄입니다.\n",
      "\n"
     ]
    }
   ],
   "source": [
    "## 모든 줄\n",
    "f = open(\"새파일.txt\", 'r')\n",
    "lines = f.readlines()\n",
    "for line in lines:\n",
    "    print(line)\n",
    "f.close()"
   ]
  },
  {
   "cell_type": "markdown",
   "id": "84cfd30b",
   "metadata": {},
   "source": [
    "- read 함수 사용하기"
   ]
  },
  {
   "cell_type": "code",
   "execution_count": 14,
   "id": "41395fb3",
   "metadata": {
    "scrolled": true
   },
   "outputs": [
    {
     "name": "stdout",
     "output_type": "stream",
     "text": [
      "1번째 줄입니다.\n",
      "2번째 줄입니다.\n",
      "3번째 줄입니다.\n",
      "4번째 줄입니다.\n",
      "5번째 줄입니다.\n",
      "6번째 줄입니다.\n",
      "7번째 줄입니다.\n",
      "8번째 줄입니다.\n",
      "9번째 줄입니다.\n",
      "10번째 줄입니다.\n",
      "\n"
     ]
    }
   ],
   "source": [
    "## f.read()는 파일의 내용 전체를 문자열로 리턴한다.\n",
    "f = open(\"새파일.txt\", 'r')\n",
    "data = f.read()\n",
    "print(data)\n",
    "f.close()"
   ]
  },
  {
   "cell_type": "markdown",
   "id": "faff057b",
   "metadata": {},
   "source": [
    "- 파일 객체를 for 문과 함께 사용하기"
   ]
  },
  {
   "cell_type": "code",
   "execution_count": 16,
   "id": "66e00cfa",
   "metadata": {},
   "outputs": [
    {
     "name": "stdout",
     "output_type": "stream",
     "text": [
      "1번째 줄입니다.\n",
      "\n",
      "2번째 줄입니다.\n",
      "\n",
      "3번째 줄입니다.\n",
      "\n",
      "4번째 줄입니다.\n",
      "\n",
      "5번째 줄입니다.\n",
      "\n",
      "6번째 줄입니다.\n",
      "\n",
      "7번째 줄입니다.\n",
      "\n",
      "8번째 줄입니다.\n",
      "\n",
      "9번째 줄입니다.\n",
      "\n",
      "10번째 줄입니다.\n",
      "\n"
     ]
    }
   ],
   "source": [
    "# 파일 객체(f)는 기본적으로 위와 같이 for 문과 함께 사용하여 파일을 줄 단위로 읽을 수 있다.\n",
    "f = open(\"새파일.txt\", 'r')\n",
    "for line in f:\n",
    "    print(line)\n",
    "f.close()"
   ]
  },
  {
   "cell_type": "markdown",
   "id": "022c726c",
   "metadata": {},
   "source": [
    "### 파일에 새로운 내용 추가하기"
   ]
  },
  {
   "cell_type": "code",
   "execution_count": 17,
   "id": "6234a764",
   "metadata": {},
   "outputs": [],
   "source": [
    "f = open(\"새파일.txt\", 'a')\n",
    "for i in range(11, 20):\n",
    "    data = \"%d번째 줄입니다.\\n\" % i\n",
    "    f.write(data)\n",
    "f.close()"
   ]
  },
  {
   "cell_type": "markdown",
   "id": "2048dadc",
   "metadata": {},
   "source": [
    "### with 문과 함께 사용하기"
   ]
  },
  {
   "cell_type": "code",
   "execution_count": 24,
   "id": "38160b98",
   "metadata": {},
   "outputs": [],
   "source": [
    "## 파일을 열고 닫는 것을 자동으로 처리해주는 with문\n",
    "with open(\"새파일.txt\", 'a')as f:\n",
    "    f.write(\"Life is too short, you need python\")"
   ]
  },
  {
   "cell_type": "code",
   "execution_count": null,
   "id": "a3462fb0",
   "metadata": {},
   "outputs": [],
   "source": []
  }
 ],
 "metadata": {
  "kernelspec": {
   "display_name": "Python 3 (ipykernel)",
   "language": "python",
   "name": "python3"
  },
  "language_info": {
   "codemirror_mode": {
    "name": "ipython",
    "version": 3
   },
   "file_extension": ".py",
   "mimetype": "text/x-python",
   "name": "python",
   "nbconvert_exporter": "python",
   "pygments_lexer": "ipython3",
   "version": "3.11.5"
  }
 },
 "nbformat": 4,
 "nbformat_minor": 5
}
