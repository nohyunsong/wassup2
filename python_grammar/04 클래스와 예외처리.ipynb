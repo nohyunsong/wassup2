{
 "cells": [
  {
   "cell_type": "markdown",
   "id": "04e9b9fd",
   "metadata": {},
   "source": [
    "# 클래스"
   ]
  },
  {
   "cell_type": "markdown",
   "id": "4153d48a",
   "metadata": {},
   "source": [
    "### 계산기 프로그램을 만들며 클래스 알아보기\n",
    "##### 계산기는 이전에 계산한 결괏값을 기억하고 있어야 한다."
   ]
  },
  {
   "cell_type": "code",
   "execution_count": 3,
   "id": "14df9e9f",
   "metadata": {},
   "outputs": [
    {
     "name": "stdout",
     "output_type": "stream",
     "text": [
      "3\n",
      "7\n"
     ]
    }
   ],
   "source": [
    "# calculator.py\n",
    "result = 0\n",
    "\n",
    "def add(num):\n",
    "    global result\n",
    "    result += num  # 결괏값(result)에 입력값(num) 더하기\n",
    "    return result  # 결괏값 리턴\n",
    "\n",
    "print(add(3))\n",
    "print(add(4))"
   ]
  },
  {
   "cell_type": "code",
   "execution_count": 4,
   "id": "6a2d2e7a",
   "metadata": {},
   "outputs": [
    {
     "name": "stdout",
     "output_type": "stream",
     "text": [
      "3\n",
      "7\n",
      "3\n",
      "10\n"
     ]
    }
   ],
   "source": [
    "# calculator2.py ##만약 한플로그램에서 2대의 계산기가 필요하다면?\n",
    "result1 = 0\n",
    "result2 = 0\n",
    "\n",
    "def add1(num):  # 계산기1\n",
    "    global result1\n",
    "    result1 += num\n",
    "    return result1\n",
    "\n",
    "def add2(num):  # 계산기2\n",
    "    global result2\n",
    "    result2 += num\n",
    "    return result2\n",
    "\n",
    "print(add1(3))\n",
    "print(add1(4))\n",
    "print(add2(3))\n",
    "print(add2(7))"
   ]
  },
  {
   "cell_type": "markdown",
   "id": "df449029",
   "metadata": {},
   "source": [
    "지금은 하나씩 독립적, 함수를 수억개를 만들것은 아니다. 그래서 클래스를 배운다."
   ]
  },
  {
   "cell_type": "code",
   "execution_count": 5,
   "id": "8ca9da0f",
   "metadata": {},
   "outputs": [
    {
     "name": "stdout",
     "output_type": "stream",
     "text": [
      "3\n",
      "7\n",
      "3\n",
      "10\n"
     ]
    }
   ],
   "source": [
    "class Calculator:\n",
    "    def __init__(self):\n",
    "        self.result = 0\n",
    "\n",
    "    def add(self, num):\n",
    "        self.result += num\n",
    "        return self.result\n",
    "\n",
    "cal1 = Calculator() #<<cal1,2 가 인스턴스\n",
    "cal2 = Calculator()\n",
    "\n",
    "print(cal1.add(3))\n",
    "print(cal1.add(4))\n",
    "print(cal2.add(3))\n",
    "print(cal2.add(7))"
   ]
  },
  {
   "cell_type": "markdown",
   "id": "b693589c",
   "metadata": {},
   "source": [
    "클래스는 과자틀, 객체는 과자틀로 찍어낸 과자"
   ]
  },
  {
   "cell_type": "markdown",
   "id": "54d64d86",
   "metadata": {},
   "source": [
    "## 클래스와 객체\n",
    "구조는 동일하나 데이터가 다르다. 객체마다 고유한 성격을 가진다"
   ]
  },
  {
   "cell_type": "code",
   "execution_count": 6,
   "id": "28968605",
   "metadata": {},
   "outputs": [],
   "source": [
    " class Cookie:\n",
    "    pass"
   ]
  },
  {
   "cell_type": "code",
   "execution_count": 7,
   "id": "7590abf9",
   "metadata": {},
   "outputs": [
    {
     "data": {
      "text/plain": [
       "<__main__.Cookie at 0x1c0dc60e150>"
      ]
     },
     "execution_count": 7,
     "metadata": {},
     "output_type": "execute_result"
    }
   ],
   "source": [
    "a = Cookie()\n",
    "a"
   ]
  },
  {
   "cell_type": "markdown",
   "id": "8f2feae1",
   "metadata": {},
   "source": [
    "객체와 인스턴스의 차이:\n",
    "클래스로 만든 객체를 ‘인스턴스’라고도 한다"
   ]
  },
  {
   "cell_type": "markdown",
   "id": "90ab56c2",
   "metadata": {},
   "source": [
    "### 사칙 연산 클래스 만들기"
   ]
  },
  {
   "cell_type": "code",
   "execution_count": 8,
   "id": "3eee7a89",
   "metadata": {},
   "outputs": [],
   "source": [
    "#클래스 구조 만들기\n",
    "\n",
    "class Fourcal:\n",
    "    pass"
   ]
  },
  {
   "cell_type": "code",
   "execution_count": 9,
   "id": "466a20ab",
   "metadata": {},
   "outputs": [
    {
     "data": {
      "text/plain": [
       "(<__main__.Fourcal at 0x1c0dc664ad0>, __main__.Fourcal)"
      ]
     },
     "execution_count": 9,
     "metadata": {},
     "output_type": "execute_result"
    }
   ],
   "source": [
    "a=Fourcal()\n",
    "a, type(a)"
   ]
  },
  {
   "cell_type": "markdown",
   "id": "61a44008",
   "metadata": {},
   "source": [
    "- 객체에 연산할 숫자 지정하기"
   ]
  },
  {
   "cell_type": "markdown",
   "id": "f97db590",
   "metadata": {},
   "source": [
    "def setdata(self, first, second):   # 메서드의 매개변수\n",
    "    self.first = first              # 메서드의 수행문 ##기능,매서드 > 함수로 정의\n",
    "    self.second = second            # 메서드의 수행문"
   ]
  },
  {
   "cell_type": "code",
   "execution_count": 48,
   "id": "8557c7fb",
   "metadata": {},
   "outputs": [],
   "source": [
    "class Fourcal:\n",
    "    def setdata(self, first, second): \n",
    "        self.first = first\n",
    "        self.second = second"
   ]
  },
  {
   "cell_type": "code",
   "execution_count": 49,
   "id": "02cc3889",
   "metadata": {},
   "outputs": [],
   "source": [
    "a = Fourcal()\n",
    "Fourcal.setdata(a, 4, 2)"
   ]
  },
  {
   "cell_type": "code",
   "execution_count": 50,
   "id": "ac1275c8",
   "metadata": {},
   "outputs": [
    {
     "data": {
      "text/plain": [
       "4"
      ]
     },
     "execution_count": 50,
     "metadata": {},
     "output_type": "execute_result"
    }
   ],
   "source": [
    "a.first"
   ]
  },
  {
   "cell_type": "code",
   "execution_count": 51,
   "id": "6ceeac13",
   "metadata": {},
   "outputs": [
    {
     "data": {
      "text/plain": [
       "2"
      ]
     },
     "execution_count": 51,
     "metadata": {},
     "output_type": "execute_result"
    }
   ],
   "source": [
    "a.second"
   ]
  },
  {
   "cell_type": "code",
   "execution_count": 52,
   "id": "0a3969cc",
   "metadata": {},
   "outputs": [],
   "source": [
    "a = Fourcal()\n",
    "b = Fourcal()"
   ]
  },
  {
   "cell_type": "code",
   "execution_count": 53,
   "id": "7ac81a27",
   "metadata": {},
   "outputs": [
    {
     "data": {
      "text/plain": [
       "4"
      ]
     },
     "execution_count": 53,
     "metadata": {},
     "output_type": "execute_result"
    }
   ],
   "source": [
    "a.setdata(4,2)\n",
    "a.first"
   ]
  },
  {
   "cell_type": "code",
   "execution_count": 54,
   "id": "b95bf9c5",
   "metadata": {},
   "outputs": [
    {
     "data": {
      "text/plain": [
       "3"
      ]
     },
     "execution_count": 54,
     "metadata": {},
     "output_type": "execute_result"
    }
   ],
   "source": [
    "b.setdata(3,7)\n",
    "b.first"
   ]
  },
  {
   "cell_type": "markdown",
   "id": "39286a3a",
   "metadata": {},
   "source": [
    "- 더하기, 곱하기, 빼기, 나누기 기능 만들기"
   ]
  },
  {
   "cell_type": "code",
   "execution_count": 55,
   "id": "84024e5f",
   "metadata": {},
   "outputs": [],
   "source": [
    "class FourCal:\n",
    "    def setdata(self, first, second):\n",
    "        self.first = first\n",
    "        self.second = second\n",
    "    def add(self):\n",
    "        result = self.first + self.second\n",
    "        return result\n",
    "    def mul(self):\n",
    "        result = self.first * self.second\n",
    "        return result\n",
    "    def sub(self):\n",
    "        result = self.first - self.second\n",
    "        return result\n",
    "    def div(self):\n",
    "        result = self.first / self.second\n",
    "        return result"
   ]
  },
  {
   "cell_type": "code",
   "execution_count": 56,
   "id": "c967f9cf",
   "metadata": {},
   "outputs": [
    {
     "name": "stdout",
     "output_type": "stream",
     "text": [
      "6 8 2 2.0\n"
     ]
    }
   ],
   "source": [
    "a = FourCal()\n",
    "a.setdata(4, 2)\n",
    "print(a.add(), a.mul(), a.sub(), a.div())"
   ]
  },
  {
   "cell_type": "markdown",
   "id": "1709a31c",
   "metadata": {},
   "source": [
    "### 생성자"
   ]
  },
  {
   "cell_type": "markdown",
   "id": "7f970936",
   "metadata": {},
   "source": [
    "생성자(constructor)란 객체가 생성될 때 자동으로 호출되는 메서드를 의미한다.   \n",
    "파이썬 메서드명으로 __init__를 사용하면 이 메서드는 생성자가 된다."
   ]
  },
  {
   "cell_type": "markdown",
   "id": "f1593ce7",
   "metadata": {},
   "source": [
    "__init__ 메서드는 setdata 메서드와 이름만 다르고 모든 게 동일하다.   \n",
    "단, 메서드 이름을 __init__로 했기 때문에 생성자로 인식되어 객체가 생성되는 시점에 자동으로 호출된다는 차이가 있다."
   ]
  },
  {
   "cell_type": "code",
   "execution_count": 57,
   "id": "159444f4",
   "metadata": {},
   "outputs": [],
   "source": [
    "class Fourcal:\n",
    "...     def __init__(self, first, second):\n",
    "...         self.first = first\n",
    "...         self.second = second\n",
    "...     def setdata(self, first, second):\n",
    "...         self.first = first\n",
    "...         self.second = second\n",
    "...     def add(self):\n",
    "...         result = self.first + self.second\n",
    "...         return result\n",
    "...     def mul(self):\n",
    "...         result = self.first * self.second\n",
    "...         return result\n",
    "...     def sub(self):\n",
    "...         result = self.first - self.second\n",
    "...         return result\n",
    "...     def div(self):\n",
    "...         result = self.first / self.second\n",
    "...         return result"
   ]
  },
  {
   "cell_type": "code",
   "execution_count": 59,
   "id": "06131ea7",
   "metadata": {},
   "outputs": [],
   "source": [
    "a = Fourcal(4,2)\n",
    "#a.setdata(4,2) << 안해도 됌"
   ]
  },
  {
   "cell_type": "code",
   "execution_count": 60,
   "id": "c5aea8a1",
   "metadata": {},
   "outputs": [
    {
     "data": {
      "text/plain": [
       "4"
      ]
     },
     "execution_count": 60,
     "metadata": {},
     "output_type": "execute_result"
    }
   ],
   "source": [
    "a.first"
   ]
  },
  {
   "cell_type": "markdown",
   "id": "cb69c2c1",
   "metadata": {},
   "source": [
    "__init__ 메서드도 다른 메서드와 마찬가지로 첫 번째 매개변수 self에   \n",
    "생성되는 객체가 자동으로 전달된다는 점을 기억하자."
   ]
  },
  {
   "cell_type": "markdown",
   "id": "57480324",
   "metadata": {},
   "source": [
    "### 클래스의 상속\n",
    "어떤 클래스를 만들 때 다른 클래스의 기능을 물려받을 수 있게 만드는 것이다."
   ]
  },
  {
   "cell_type": "code",
   "execution_count": 61,
   "id": "c4791d65",
   "metadata": {},
   "outputs": [],
   "source": [
    "class MoreFourcal(Fourcal):\n",
    "    pass"
   ]
  },
  {
   "cell_type": "code",
   "execution_count": 62,
   "id": "e4ff2999",
   "metadata": {},
   "outputs": [
    {
     "name": "stdout",
     "output_type": "stream",
     "text": [
      "6 8 2 2.0\n"
     ]
    }
   ],
   "source": [
    "a=MoreFourcal(4,2)\n",
    "print(a.add(), a.mul(), a.sub(), a.div())"
   ]
  },
  {
   "cell_type": "markdown",
   "id": "201cb014",
   "metadata": {},
   "source": [
    "- 제곱 기능"
   ]
  },
  {
   "cell_type": "code",
   "execution_count": 63,
   "id": "2315494c",
   "metadata": {},
   "outputs": [],
   "source": [
    "class MoreFourcal(Fourcal):\n",
    "    def pow(self):\n",
    "        result = self.first ** self.second\n",
    "        return result"
   ]
  },
  {
   "cell_type": "code",
   "execution_count": 64,
   "id": "1fc4e5b7",
   "metadata": {},
   "outputs": [
    {
     "data": {
      "text/plain": [
       "16"
      ]
     },
     "execution_count": 64,
     "metadata": {},
     "output_type": "execute_result"
    }
   ],
   "source": [
    "a=MoreFourcal(4,2)\n",
    "a.pow()"
   ]
  },
  {
   "cell_type": "markdown",
   "id": "29352ba7",
   "metadata": {},
   "source": [
    "### 매서드 오버라이딩"
   ]
  },
  {
   "cell_type": "code",
   "execution_count": 65,
   "id": "970ae326",
   "metadata": {},
   "outputs": [
    {
     "ename": "TypeError",
     "evalue": "FourCal() takes no arguments",
     "output_type": "error",
     "traceback": [
      "\u001b[1;31m---------------------------------------------------------------------------\u001b[0m",
      "\u001b[1;31mTypeError\u001b[0m                                 Traceback (most recent call last)",
      "Cell \u001b[1;32mIn[65], line 1\u001b[0m\n\u001b[1;32m----> 1\u001b[0m a \u001b[38;5;241m=\u001b[39m FourCal(\u001b[38;5;241m4\u001b[39m, \u001b[38;5;241m0\u001b[39m)\n\u001b[0;32m      2\u001b[0m a\u001b[38;5;241m.\u001b[39mdiv()\n",
      "\u001b[1;31mTypeError\u001b[0m: FourCal() takes no arguments"
     ]
    }
   ],
   "source": [
    ">>> a = FourCal(4, 0)\n",
    ">>> a.div()"
   ]
  },
  {
   "cell_type": "code",
   "execution_count": 68,
   "id": "604afd87",
   "metadata": {},
   "outputs": [],
   "source": [
    "class SafeFourcal(Fourcal):\n",
    "...     def div(self):\n",
    "...         if self.second == 0:  # 나누는 값이 0인 경우 0을 리턴하도록 수정\n",
    "...             return 0\n",
    "...         else:\n",
    "...             return self.first / self.second"
   ]
  },
  {
   "cell_type": "code",
   "execution_count": 69,
   "id": "ac0897ef",
   "metadata": {},
   "outputs": [
    {
     "data": {
      "text/plain": [
       "0"
      ]
     },
     "execution_count": 69,
     "metadata": {},
     "output_type": "execute_result"
    }
   ],
   "source": [
    ">>> a = SafeFourcal(4, 0)\n",
    ">>> a.div()"
   ]
  },
  {
   "cell_type": "markdown",
   "id": "ada56835",
   "metadata": {},
   "source": [
    "### 클래스 변수\n",
    "클래스변수는 위 예와 같이 클래스_이름.클래스변수로 사용할 수 있다."
   ]
  },
  {
   "cell_type": "code",
   "execution_count": 77,
   "id": "a1fbe2ef",
   "metadata": {},
   "outputs": [],
   "source": [
    ">>> class Family:\n",
    "...     lastname = \"김\""
   ]
  },
  {
   "cell_type": "code",
   "execution_count": 78,
   "id": "1eb63651",
   "metadata": {},
   "outputs": [
    {
     "data": {
      "text/plain": [
       "'김'"
      ]
     },
     "execution_count": 78,
     "metadata": {},
     "output_type": "execute_result"
    }
   ],
   "source": [
    ">>> a = Family()\n",
    ">>> b = Family()\n",
    "a.lastname"
   ]
  },
  {
   "cell_type": "code",
   "execution_count": 79,
   "id": "a6c2198f",
   "metadata": {},
   "outputs": [
    {
     "data": {
      "text/plain": [
       "'김'"
      ]
     },
     "execution_count": 79,
     "metadata": {},
     "output_type": "execute_result"
    }
   ],
   "source": [
    "b.lastname"
   ]
  },
  {
   "cell_type": "code",
   "execution_count": 80,
   "id": "c20f29cc",
   "metadata": {},
   "outputs": [],
   "source": [
    "Family.lastname = \"박\""
   ]
  },
  {
   "cell_type": "code",
   "execution_count": 81,
   "id": "e76ac67f",
   "metadata": {},
   "outputs": [
    {
     "data": {
      "text/plain": [
       "'박'"
      ]
     },
     "execution_count": 81,
     "metadata": {},
     "output_type": "execute_result"
    }
   ],
   "source": [
    "a.lastname"
   ]
  },
  {
   "cell_type": "code",
   "execution_count": 83,
   "id": "c9a2c7ea",
   "metadata": {},
   "outputs": [
    {
     "data": {
      "text/plain": [
       "'박'"
      ]
     },
     "execution_count": 83,
     "metadata": {},
     "output_type": "execute_result"
    }
   ],
   "source": [
    "b.lastname"
   ]
  },
  {
   "cell_type": "code",
   "execution_count": 85,
   "id": "619fe1ea",
   "metadata": {},
   "outputs": [
    {
     "data": {
      "text/plain": [
       "'최'"
      ]
     },
     "execution_count": 85,
     "metadata": {},
     "output_type": "execute_result"
    }
   ],
   "source": [
    "a.lastname = \"최\"\n",
    "a.lastname"
   ]
  },
  {
   "cell_type": "code",
   "execution_count": 86,
   "id": "aadd1f36",
   "metadata": {},
   "outputs": [
    {
     "data": {
      "text/plain": [
       "'박'"
      ]
     },
     "execution_count": 86,
     "metadata": {},
     "output_type": "execute_result"
    }
   ],
   "source": [
    "Family.lastname"
   ]
  },
  {
   "cell_type": "code",
   "execution_count": 87,
   "id": "c2f37eeb",
   "metadata": {},
   "outputs": [
    {
     "data": {
      "text/plain": [
       "'박'"
      ]
     },
     "execution_count": 87,
     "metadata": {},
     "output_type": "execute_result"
    }
   ],
   "source": [
    "b.lastname"
   ]
  },
  {
   "cell_type": "markdown",
   "id": "86a9882a",
   "metadata": {},
   "source": [
    "Family 클래스의 lastname 값은 변하지 않았다."
   ]
  },
  {
   "cell_type": "code",
   "execution_count": null,
   "id": "50ac1488",
   "metadata": {},
   "outputs": [],
   "source": []
  }
 ],
 "metadata": {
  "kernelspec": {
   "display_name": "Python 3 (ipykernel)",
   "language": "python",
   "name": "python3"
  },
  "language_info": {
   "codemirror_mode": {
    "name": "ipython",
    "version": 3
   },
   "file_extension": ".py",
   "mimetype": "text/x-python",
   "name": "python",
   "nbconvert_exporter": "python",
   "pygments_lexer": "ipython3",
   "version": "3.11.5"
  }
 },
 "nbformat": 4,
 "nbformat_minor": 5
}
