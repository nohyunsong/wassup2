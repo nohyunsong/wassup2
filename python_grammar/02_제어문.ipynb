{
 "cells": [
  {
   "cell_type": "markdown",
   "id": "d9dff4f6",
   "metadata": {},
   "source": [
    "# if"
   ]
  },
  {
   "cell_type": "code",
   "execution_count": 2,
   "id": "5ce261b3",
   "metadata": {
    "scrolled": true
   },
   "outputs": [
    {
     "name": "stdout",
     "output_type": "stream",
     "text": [
      "택시를 타고 가라\n"
     ]
    }
   ],
   "source": [
    ">>> money = True\n",
    ">>> if money:\n",
    "...     print(\"택시를 타고 가라\")\n",
    "... else:\n",
    "...     print(\"걸어 가라\")\n",
    "..."
   ]
  },
  {
   "cell_type": "code",
   "execution_count": 5,
   "id": "4b98a1d7",
   "metadata": {},
   "outputs": [
    {
     "ename": "IndentationError",
     "evalue": "unexpected indent (3548834574.py, line 6)",
     "output_type": "error",
     "traceback": [
      "\u001b[1;36m  Cell \u001b[1;32mIn[5], line 6\u001b[1;36m\u001b[0m\n\u001b[1;33m    print(\"가라\")\u001b[0m\n\u001b[1;37m    ^\u001b[0m\n\u001b[1;31mIndentationError\u001b[0m\u001b[1;31m:\u001b[0m unexpected indent\n"
     ]
    }
   ],
   "source": [
    "# indent_error.py\n",
    "money = True\n",
    "if money:\n",
    "    print(\"택시를\")\n",
    "print(\"타고\")\n",
    "    print(\"가라\")"
   ]
  },
  {
   "cell_type": "markdown",
   "id": "96dca0ee",
   "metadata": {},
   "source": [
    "## 조건문이란\n",
    "if 조건문에서 ‘조건문’이란 참과 거짓을 판단하는 문장을 말한다.   \n",
    "앞에서 살펴본 택시 예제에서 조건문은 money가 된다."
   ]
  },
  {
   "cell_type": "markdown",
   "id": "4d5f9aa9",
   "metadata": {},
   "source": [
    "### 비교연산자"
   ]
  },
  {
   "cell_type": "code",
   "execution_count": 21,
   "id": "26eb6649",
   "metadata": {},
   "outputs": [
    {
     "data": {
      "text/plain": [
       "True"
      ]
     },
     "execution_count": 21,
     "metadata": {},
     "output_type": "execute_result"
    }
   ],
   "source": [
    ">>> x = 3\n",
    ">>> y = 2\n",
    ">>> x > y"
   ]
  },
  {
   "cell_type": "markdown",
   "id": "a26e8de9",
   "metadata": {},
   "source": [
    "만약 3000원 이상의 돈을 가지고 있으면 택시를 타고 가고, 그렇지 않으면 걸어가라."
   ]
  },
  {
   "cell_type": "code",
   "execution_count": 22,
   "id": "3867d59d",
   "metadata": {},
   "outputs": [
    {
     "name": "stdout",
     "output_type": "stream",
     "text": [
      "걸어가라\n"
     ]
    }
   ],
   "source": [
    "money = 2000\n",
    "if money >= 3000:\n",
    "     print(\"택시를 타고 가라\")\n",
    "else:\n",
    "     print(\"걸어가라\")"
   ]
  },
  {
   "cell_type": "markdown",
   "id": "857d4c8b",
   "metadata": {},
   "source": [
    "### and, or, not"
   ]
  },
  {
   "cell_type": "markdown",
   "id": "728689a2",
   "metadata": {},
   "source": [
    "돈이 3000원 이상 있거나 카드가 있다면 택시를 타고 가고, 그렇지 않으면 걸어가라."
   ]
  },
  {
   "cell_type": "code",
   "execution_count": 23,
   "id": "ac8673b7",
   "metadata": {},
   "outputs": [
    {
     "name": "stdout",
     "output_type": "stream",
     "text": [
      "택시 타\n"
     ]
    }
   ],
   "source": [
    "money = 2000\n",
    "card = True\n",
    "if money >=3000 or card:\n",
    "    print(\"택시 타\")\n",
    "else:\n",
    "    print(\"걸어가\")"
   ]
  },
  {
   "cell_type": "markdown",
   "id": "765665b7",
   "metadata": {},
   "source": [
    "### in, not in"
   ]
  },
  {
   "cell_type": "code",
   "execution_count": 24,
   "id": "b6c2e31f",
   "metadata": {},
   "outputs": [
    {
     "data": {
      "text/plain": [
       "True"
      ]
     },
     "execution_count": 24,
     "metadata": {},
     "output_type": "execute_result"
    }
   ],
   "source": [
    "1 in [1, 2, 3]"
   ]
  },
  {
   "cell_type": "code",
   "execution_count": 25,
   "id": "52c3ff3c",
   "metadata": {},
   "outputs": [
    {
     "data": {
      "text/plain": [
       "False"
      ]
     },
     "execution_count": 25,
     "metadata": {},
     "output_type": "execute_result"
    }
   ],
   "source": [
    " 1 not in [1, 2, 3]"
   ]
  },
  {
   "cell_type": "markdown",
   "id": "fc2a7d82",
   "metadata": {},
   "source": [
    "만약 주머니에 돈이 있으면 택시를 타고 가고, 없으면 걸어가라."
   ]
  },
  {
   "cell_type": "code",
   "execution_count": 26,
   "id": "7e35be54",
   "metadata": {},
   "outputs": [
    {
     "name": "stdout",
     "output_type": "stream",
     "text": [
      "택시 타\n"
     ]
    }
   ],
   "source": [
    "pocket = ['paper', 'cellphone', 'money']\n",
    "if 'money' in pocket:\n",
    "    print(\"택시 타\")\n",
    "else:\n",
    "    print(\"걸어 가\")"
   ]
  },
  {
   "cell_type": "markdown",
   "id": "796daa0b",
   "metadata": {},
   "source": [
    "##### 조건문에서 아무 일도 하지 않게 설정하고 싶다면? 이럴 때 사용하는 것이 바로 pass이다."
   ]
  },
  {
   "cell_type": "markdown",
   "id": "395f3c4a",
   "metadata": {},
   "source": [
    "주머니에 돈이 있으면 가만히 있고, 주머니에 돈이 없으면 카드를 꺼내라."
   ]
  },
  {
   "cell_type": "code",
   "execution_count": 27,
   "id": "e3fc0524",
   "metadata": {},
   "outputs": [],
   "source": [
    ">>> pocket = ['paper', 'money', 'cellphone']\n",
    ">>> if 'money' in pocket:\n",
    "...     pass \n",
    "... else:\n",
    "...     print(\"카드를 꺼내라\")\n",
    "..."
   ]
  },
  {
   "cell_type": "markdown",
   "id": "e7a91ef4",
   "metadata": {},
   "source": [
    "## 다양한 조건을 판단하는 elif\n",
    "##### if와 else만으로는 다양한 조건을 판단하기 어렵다."
   ]
  },
  {
   "cell_type": "markdown",
   "id": "32ce8466",
   "metadata": {},
   "source": [
    "주머니에 돈이 있으면 택시를 타고 가고, 주머니에 돈은 없지만 카드가 있으면 택시를 타고 가고, 돈도 없고 카드도 없으면 걸어가라."
   ]
  },
  {
   "cell_type": "code",
   "execution_count": 29,
   "id": "f9ce4c32",
   "metadata": {},
   "outputs": [
    {
     "name": "stdout",
     "output_type": "stream",
     "text": [
      "택시를 타고가라\n"
     ]
    }
   ],
   "source": [
    ">>> pocket = ['paper', 'cellphone']\n",
    ">>> card = True\n",
    ">>> if 'money' in pocket:\n",
    "...     print(\"택시를 타고가라\")\n",
    "... else:\n",
    "...     if card:\n",
    "...         print(\"택시를 타고가라\")\n",
    "...     else:\n",
    "...         print(\"걸어가라\")"
   ]
  },
  {
   "cell_type": "markdown",
   "id": "0f294ccf",
   "metadata": {},
   "source": [
    "##### 다중 조건 판단을 가능하게 하는 elif를 사용\n",
    "즉, elif는 이전 조건문이 거짓일 때 수행된다"
   ]
  },
  {
   "cell_type": "code",
   "execution_count": 30,
   "id": "7bba7fca",
   "metadata": {},
   "outputs": [
    {
     "name": "stdout",
     "output_type": "stream",
     "text": [
      "택시를 타고가라\n"
     ]
    }
   ],
   "source": [
    ">>> pocket = ['paper', 'cellphone']\n",
    ">>> card = True\n",
    ">>> if 'money' in pocket:\n",
    "...      print(\"택시를 타고가라\")\n",
    "... elif card: \n",
    "...      print(\"택시를 타고가라\")\n",
    "... else:\n",
    "...      print(\"걸어가라\")"
   ]
  },
  {
   "cell_type": "markdown",
   "id": "1f0fc982",
   "metadata": {},
   "source": [
    "### 조건부 표현식"
   ]
  },
  {
   "cell_type": "code",
   "execution_count": 31,
   "id": "ade8826b",
   "metadata": {},
   "outputs": [],
   "source": [
    "score = 0\n",
    "if score >= 60:\n",
    "    message = \"success\"\n",
    "else:\n",
    "    message = \"failure\""
   ]
  },
  {
   "cell_type": "markdown",
   "id": "9d256a94",
   "metadata": {},
   "source": [
    "조건부 표현식:   \n",
    "변수 = 조건문이_참인_경우의_값 if 조건문 else 조건문이_거짓인_경우의_값"
   ]
  },
  {
   "cell_type": "code",
   "execution_count": 32,
   "id": "aa1c6770",
   "metadata": {},
   "outputs": [],
   "source": [
    "message = \"success\" if score >= 60 else \"failure\""
   ]
  },
  {
   "cell_type": "markdown",
   "id": "f3538c35",
   "metadata": {},
   "source": [
    "----"
   ]
  },
  {
   "cell_type": "markdown",
   "id": "65e66443",
   "metadata": {},
   "source": [
    "# while문"
   ]
  },
  {
   "cell_type": "markdown",
   "id": "0b19f9f1",
   "metadata": {},
   "source": [
    "## while 문의 기본 구조\n",
    "while 문은 조건문이 참인 동안 while 문에 속한 문장들이 반복해서 수행된다."
   ]
  },
  {
   "cell_type": "code",
   "execution_count": 34,
   "id": "27f1ee7c",
   "metadata": {},
   "outputs": [
    {
     "name": "stdout",
     "output_type": "stream",
     "text": [
      "나무를 1번 찍었습니다.\n",
      "나무를 2번 찍었습니다.\n",
      "나무를 3번 찍었습니다.\n",
      "나무를 4번 찍었습니다.\n",
      "나무를 5번 찍었습니다.\n",
      "나무를 6번 찍었습니다.\n",
      "나무를 7번 찍었습니다.\n",
      "나무를 8번 찍었습니다.\n",
      "나무를 9번 찍었습니다.\n",
      "나무를 10번 찍었습니다.\n",
      "나무 넘어갑니다.\n"
     ]
    }
   ],
   "source": [
    "treeHit = 0\n",
    "while treeHit < 10:\n",
    "    treeHit = treeHit +1\n",
    "    print(\"나무를 %d번 찍었습니다.\" % treeHit)\n",
    "    if treeHit == 10:\n",
    "        print(\"나무 넘어갑니다.\")"
   ]
  },
  {
   "cell_type": "markdown",
   "id": "89b44651",
   "metadata": {},
   "source": [
    "treeHit = treeHit + 1은 프로그래밍을 할 때 매우 자주 사용하는 기법이다. treeHit 값을 1만큼씩 증가시킬 목적으로 사용하며 treeHit += 1처럼 작성해도 된다."
   ]
  },
  {
   "cell_type": "markdown",
   "id": "3b0a9e01",
   "metadata": {},
   "source": [
    "## while 문 만들기"
   ]
  },
  {
   "cell_type": "code",
   "execution_count": 35,
   "id": "bb882218",
   "metadata": {},
   "outputs": [],
   "source": [
    ">>> prompt = \"\"\"\n",
    "... 1. Add\n",
    "... 2. Del\n",
    "... 3. List\n",
    "... 4. Quit\n",
    "...\n",
    "... Enter number: \"\"\"\n",
    ">>>"
   ]
  },
  {
   "cell_type": "code",
   "execution_count": 38,
   "id": "60d83923",
   "metadata": {},
   "outputs": [
    {
     "name": "stdout",
     "output_type": "stream",
     "text": [
      "\n",
      "1. Add\n",
      "2. Del\n",
      "3. List\n",
      "4. Quit\n",
      "\n",
      "Enter number: \n",
      "4\n"
     ]
    }
   ],
   "source": [
    ">>> number = 0\n",
    ">>> while number != 4:\n",
    "...     print(prompt)\n",
    "...     number = int(input()) ##숫자가 아니어도 되고 입력을 받는다\n",
    "..."
   ]
  },
  {
   "cell_type": "markdown",
   "id": "e89f092f",
   "metadata": {},
   "source": [
    "## while 문 강제로 빠져나가기 break 문\n",
    "coffee = coffee - 1에 의해 coffee의 개수가 1개씩 줄어든다."
   ]
  },
  {
   "cell_type": "code",
   "execution_count": 39,
   "id": "caee2d24",
   "metadata": {
    "scrolled": true
   },
   "outputs": [
    {
     "name": "stdout",
     "output_type": "stream",
     "text": [
      "돈을 받았으니 커피를 줍니다.\n",
      "남은 커피의 양은 9개입니다.\n",
      "돈을 받았으니 커피를 줍니다.\n",
      "남은 커피의 양은 8개입니다.\n",
      "돈을 받았으니 커피를 줍니다.\n",
      "남은 커피의 양은 7개입니다.\n",
      "돈을 받았으니 커피를 줍니다.\n",
      "남은 커피의 양은 6개입니다.\n",
      "돈을 받았으니 커피를 줍니다.\n",
      "남은 커피의 양은 5개입니다.\n",
      "돈을 받았으니 커피를 줍니다.\n",
      "남은 커피의 양은 4개입니다.\n",
      "돈을 받았으니 커피를 줍니다.\n",
      "남은 커피의 양은 3개입니다.\n",
      "돈을 받았으니 커피를 줍니다.\n",
      "남은 커피의 양은 2개입니다.\n",
      "돈을 받았으니 커피를 줍니다.\n",
      "남은 커피의 양은 1개입니다.\n",
      "돈을 받았으니 커피를 줍니다.\n",
      "남은 커피의 양은 0개입니다.\n",
      "커피가 다 떨어졌습니다. 판매를 중지합니다.\n"
     ]
    }
   ],
   "source": [
    ">>> coffee = 10\n",
    ">>> money = 300\n",
    ">>> while money:\n",
    "...     print(\"돈을 받았으니 커피를 줍니다.\")\n",
    "...     coffee = coffee -1\n",
    "...     print(\"남은 커피의 양은 %d개입니다.\" % coffee)\n",
    "...     if coffee == 0:\n",
    "...         print(\"커피가 다 떨어졌습니다. 판매를 중지합니다.\")\n",
    "...         break\n",
    "..."
   ]
  },
  {
   "cell_type": "code",
   "execution_count": 43,
   "id": "3482edfb",
   "metadata": {},
   "outputs": [
    {
     "name": "stdout",
     "output_type": "stream",
     "text": [
      "돈을 넣어 주세요: 300\n",
      "커피를 줍니다.\n",
      "남은 커피의 양은 9개 입니다.\n",
      "돈을 넣어 주세요: 300\n",
      "커피를 줍니다.\n",
      "남은 커피의 양은 8개 입니다.\n",
      "돈을 넣어 주세요: 300\n",
      "커피를 줍니다.\n",
      "남은 커피의 양은 7개 입니다.\n",
      "돈을 넣어 주세요: 300\n",
      "커피를 줍니다.\n",
      "남은 커피의 양은 6개 입니다.\n",
      "돈을 넣어 주세요: 300\n",
      "커피를 줍니다.\n",
      "남은 커피의 양은 5개 입니다.\n",
      "돈을 넣어 주세요: 300\n",
      "커피를 줍니다.\n",
      "남은 커피의 양은 4개 입니다.\n",
      "돈을 넣어 주세요: 300\n",
      "커피를 줍니다.\n",
      "남은 커피의 양은 3개 입니다.\n",
      "돈을 넣어 주세요: 300\n",
      "커피를 줍니다.\n",
      "남은 커피의 양은 2개 입니다.\n",
      "돈을 넣어 주세요: 300\n",
      "커피를 줍니다.\n",
      "남은 커피의 양은 1개 입니다.\n",
      "돈을 넣어 주세요: 300\n",
      "커피를 줍니다.\n",
      "남은 커피의 양은 0개 입니다.\n",
      "커피가 다 떨어졌습니다. 판매를 중지 합니다.\n"
     ]
    }
   ],
   "source": [
    "### coffee.py\n",
    "coffee = 10\n",
    "while True:\n",
    "    money = int(input(\"돈을 넣어 주세요: \"))\n",
    "    if money == 300:\n",
    "        print(\"커피를 줍니다.\")\n",
    "        coffee = coffee -1\n",
    "        print(\"남은 커피의 양은 %d개 입니다.\" % coffee)\n",
    "    elif money > 300:\n",
    "        print(\"거스름돈 %d를 주고 커피를 줍니다.\" % (money -300))\n",
    "        coffee = coffee -1\n",
    "        print(\"남은 커피의 양은 %d개 입니다.\" % coffee)\n",
    "    else:\n",
    "        print(\"돈을 다시 돌려주고 커피를 주지 않습니다.\")\n",
    "        print(\"남은 커피의 양은 %d개 입니다.\" % coffee)\n",
    "    if coffee == 0:\n",
    "        print(\"커피가 다 떨어졌습니다. 판매를 중지 합니다.\")\n",
    "        break"
   ]
  },
  {
   "cell_type": "markdown",
   "id": "606ffd0d",
   "metadata": {},
   "source": [
    "## while 문의 맨 처음으로 돌아가기\n",
    "while 문 안의 문장을 수행할 때 입력 조건을 검사해서 조건에 맞지 않으면 while 문을 빠져나간다. 그런데 프로그래밍을 하다 보면 while 문을 빠져나가지 않고 while 문의 맨 처음(조건문)으로 다시 돌아가게 만들고 싶은 경우가 생기게 된다. 이때 사용하는 것이 바로 continue 문이다."
   ]
  },
  {
   "cell_type": "code",
   "execution_count": 46,
   "id": "2427587f",
   "metadata": {},
   "outputs": [
    {
     "name": "stdout",
     "output_type": "stream",
     "text": [
      "1\n",
      "3\n",
      "5\n",
      "7\n",
      "9\n"
     ]
    }
   ],
   "source": [
    ">>> a = 0\n",
    ">>> while a < 10:\n",
    "...     a = a + 1 #a += 1\n",
    "...     if a % 2 == 0: continue\n",
    "...     print(a)"
   ]
  },
  {
   "cell_type": "markdown",
   "id": "874e5e00",
   "metadata": {},
   "source": [
    "# for문"
   ]
  },
  {
   "cell_type": "markdown",
   "id": "cce39a62",
   "metadata": {},
   "source": [
    "## for 문의 기본 구조\n",
    "리스트나 튜플, 문자열의 첫 번째 요소부터 마지막 요소까지 차례로 변수에 대입되어 ‘수행할_문장1’, ‘수행할_문장2’ 등이 수행된다."
   ]
  },
  {
   "cell_type": "code",
   "execution_count": 53,
   "id": "c64c0eb6",
   "metadata": {},
   "outputs": [],
   "source": [
    "### for 변수 in 리스트(또는 튜플, 문자열):\n",
    "  # 수행할_문장1\n",
    "    # 수행할_문장2"
   ]
  },
  {
   "cell_type": "markdown",
   "id": "d17884ed",
   "metadata": {},
   "source": [
    "## 예제를 통해 for 문 이해하기"
   ]
  },
  {
   "cell_type": "code",
   "execution_count": 61,
   "id": "2e49d218",
   "metadata": {},
   "outputs": [
    {
     "name": "stdout",
     "output_type": "stream",
     "text": [
      "one\n",
      "two\n",
      "three\n"
     ]
    }
   ],
   "source": [
    "#1. 전형적인 for 문\n",
    "\n",
    "test_list = ['one', 'two', 'three'] \n",
    "for i in test_list: \n",
    "    print(i)"
   ]
  },
  {
   "cell_type": "code",
   "execution_count": 63,
   "id": "a590a458",
   "metadata": {},
   "outputs": [
    {
     "name": "stdout",
     "output_type": "stream",
     "text": [
      "3\n",
      "7\n",
      "11\n"
     ]
    }
   ],
   "source": [
    "#2. 다양한 for 문의 사용\n",
    "\n",
    "a = [(1,2), (3,4), (5,6)]\n",
    "for (first, last) in a:\n",
    "    print(first + last)"
   ]
  },
  {
   "cell_type": "code",
   "execution_count": null,
   "id": "569ac76c",
   "metadata": {},
   "outputs": [],
   "source": [
    "#3. for 문의 응용"
   ]
  },
  {
   "cell_type": "markdown",
   "id": "b6435434",
   "metadata": {},
   "source": [
    "총 5명의 학생이 시험을 보았는데 시험 점수가 60점 이상이면 합격이고 그렇지 않으면 불합격이다. 합격인지, 불합격인지 결과를 보여 주시오."
   ]
  },
  {
   "cell_type": "code",
   "execution_count": 74,
   "id": "4524b2c8",
   "metadata": {},
   "outputs": [],
   "source": [
    "scores = [90, 25, 67, 45, 80]"
   ]
  },
  {
   "cell_type": "code",
   "execution_count": 79,
   "id": "a1a1c730",
   "metadata": {},
   "outputs": [
    {
     "name": "stdout",
     "output_type": "stream",
     "text": [
      "20 90\n",
      "20번 학생의 점수는 90 이므로 합격입니다.\n",
      "21 25\n",
      "21번 학생의 점수는 25 이므로 불합격입니다.\n",
      "22 67\n",
      "22번 학생의 점수는 67 이므로 합격입니다.\n",
      "23 45\n",
      "23번 학생의 점수는 45 이므로 불합격입니다.\n",
      "24 80\n",
      "24번 학생의 점수는 80 이므로 합격입니다.\n"
     ]
    }
   ],
   "source": [
    "for score in scores :\n",
    "    number += 1\n",
    "    print(number, score)\n",
    "    if score >= 60:\n",
    "        print(f'{number}번 학생의 점수는 {score} 이므로 합격입니다.')\n",
    "    else:\n",
    "        print(f'{number}번 학생의 점수는 {score} 이므로 불합격입니다.')"
   ]
  },
  {
   "cell_type": "markdown",
   "id": "1f54799d",
   "metadata": {},
   "source": [
    "## for 문과 continue 문"
   ]
  },
  {
   "cell_type": "code",
   "execution_count": 80,
   "id": "01a6f984",
   "metadata": {},
   "outputs": [
    {
     "name": "stdout",
     "output_type": "stream",
     "text": [
      "1번 학생 축하합니다. 합격입니다. \n",
      "3번 학생 축하합니다. 합격입니다. \n",
      "5번 학생 축하합니다. 합격입니다. \n"
     ]
    }
   ],
   "source": [
    "# marks2.py\n",
    "marks = [90, 25, 67, 45, 80]\n",
    "\n",
    "number = 0 \n",
    "for mark in marks: \n",
    "    number = number +1 \n",
    "    if mark < 60:\n",
    "        continue \n",
    "    print(\"%d번 학생 축하합니다. 합격입니다. \" % number)"
   ]
  },
  {
   "cell_type": "markdown",
   "id": "b6c5cc9f",
   "metadata": {},
   "source": [
    "## for 문과 함께 자주 사용하는 range 함수"
   ]
  },
  {
   "cell_type": "code",
   "execution_count": 81,
   "id": "f64a8ee3",
   "metadata": {},
   "outputs": [
    {
     "data": {
      "text/plain": [
       "range(0, 10)"
      ]
     },
     "execution_count": 81,
     "metadata": {},
     "output_type": "execute_result"
    }
   ],
   "source": [
    ">>> a = range(10)\n",
    ">>> a\n",
    "range(0, 10)"
   ]
  },
  {
   "cell_type": "code",
   "execution_count": 90,
   "id": "9b848c25",
   "metadata": {},
   "outputs": [
    {
     "name": "stdout",
     "output_type": "stream",
     "text": [
      "1\n",
      "2\n",
      "3\n",
      "4\n",
      "5\n",
      "6\n",
      "7\n",
      "8\n",
      "9\n",
      "10\n",
      "55\n"
     ]
    }
   ],
   "source": [
    "add = 0 \n",
    "for i in range(1, 11):\n",
    "        print(i)\n",
    "        add = add + i \n",
    "\n",
    "print(add)"
   ]
  },
  {
   "cell_type": "code",
   "execution_count": 87,
   "id": "fd53810d",
   "metadata": {},
   "outputs": [
    {
     "name": "stdout",
     "output_type": "stream",
     "text": [
      "1번 학생 축하합니다. 합격입니다.\n",
      "3번 학생 축하합니다. 합격입니다.\n",
      "5번 학생 축하합니다. 합격입니다.\n"
     ]
    }
   ],
   "source": [
    "# marks3.py\n",
    "marks = [90, 25, 67, 45, 80]\n",
    "for number in range(len(marks)):\n",
    "    if marks[number] < 60: \n",
    "        continue\n",
    "    print(\"%d번 학생 축하합니다. 합격입니다.\" % (number+1))"
   ]
  },
  {
   "cell_type": "markdown",
   "id": "e09c2a2d",
   "metadata": {},
   "source": [
    "### for와 range를 이용한 구구단"
   ]
  },
  {
   "cell_type": "code",
   "execution_count": 1,
   "id": "0959ab1f",
   "metadata": {},
   "outputs": [
    {
     "name": "stdout",
     "output_type": "stream",
     "text": [
      "2 4 6 8 10 12 14 16 18 \n",
      "3 6 9 12 15 18 21 24 27 \n",
      "4 8 12 16 20 24 28 32 36 \n",
      "5 10 15 20 25 30 35 40 45 \n",
      "6 12 18 24 30 36 42 48 54 \n",
      "7 14 21 28 35 42 49 56 63 \n",
      "8 16 24 32 40 48 56 64 72 \n",
      "9 18 27 36 45 54 63 72 81 \n"
     ]
    }
   ],
   "source": [
    "for i in range(2,10):\n",
    "    for j in range(1,10):\n",
    "        print(i*j, end=\" \")\n",
    "    print('')"
   ]
  },
  {
   "cell_type": "markdown",
   "id": "1d9a96e0",
   "metadata": {},
   "source": [
    "## 리스트 컴프리헨션 사용하기\n",
    "표현식 for 항목 in 반복_가능_객체 if 조건문"
   ]
  },
  {
   "cell_type": "code",
   "execution_count": 4,
   "id": "ae17200f",
   "metadata": {},
   "outputs": [
    {
     "name": "stdout",
     "output_type": "stream",
     "text": [
      "[3, 6, 9, 12]\n"
     ]
    }
   ],
   "source": [
    ">>> a = [1,2,3,4]\n",
    ">>> result = []\n",
    ">>> for num in a:\n",
    "...     result.append(num*3)\n",
    "...\n",
    ">>> print(result)"
   ]
  },
  {
   "cell_type": "code",
   "execution_count": 6,
   "id": "7ff0d17c",
   "metadata": {},
   "outputs": [
    {
     "name": "stdout",
     "output_type": "stream",
     "text": [
      "[3, 6, 9, 12]\n"
     ]
    }
   ],
   "source": [
    ">>> a = [1,2,3,4]\n",
    ">>> result = [num * 3 for num in a]\n",
    ">>> print(result)"
   ]
  },
  {
   "cell_type": "code",
   "execution_count": 7,
   "id": "3389d203",
   "metadata": {},
   "outputs": [
    {
     "name": "stdout",
     "output_type": "stream",
     "text": [
      "[6, 12]\n"
     ]
    }
   ],
   "source": [
    ">>> a = [1,2,3,4]\n",
    ">>> result = [num * 3 for num in a if num % 2 == 0]\n",
    ">>> print(result)"
   ]
  },
  {
   "cell_type": "code",
   "execution_count": null,
   "id": "5a2769a4",
   "metadata": {},
   "outputs": [],
   "source": []
  }
 ],
 "metadata": {
  "kernelspec": {
   "display_name": "Python 3 (ipykernel)",
   "language": "python",
   "name": "python3"
  },
  "language_info": {
   "codemirror_mode": {
    "name": "ipython",
    "version": 3
   },
   "file_extension": ".py",
   "mimetype": "text/x-python",
   "name": "python",
   "nbconvert_exporter": "python",
   "pygments_lexer": "ipython3",
   "version": "3.11.5"
  }
 },
 "nbformat": 4,
 "nbformat_minor": 5
}
