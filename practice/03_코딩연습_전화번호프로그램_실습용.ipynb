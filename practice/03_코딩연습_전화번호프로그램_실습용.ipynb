{
 "cells": [
  {
   "cell_type": "markdown",
   "metadata": {},
   "source": [
    "# 전화번호 프로그램 만들기\n",
    "\n",
    "* 홍길동 010-123-4567\n",
    "* 기능1 : 연락처 추가\n",
    "* 기능2 : 연락처 전체 보기\n",
    "* 기능3 : 검색, 이름을 입력받아서 전화번호 조회\n",
    "* 기능4 : 수정, 이름을 입력받아서 전화번호 입력수정\n",
    "* 기능5 : 삭제, 이름 입력받아서 삭제\n",
    "* 기능6 : 프로그램 종료"
   ]
  },
  {
   "cell_type": "markdown",
   "metadata": {},
   "source": [
    "요구사항 분석 및 설계\n",
    "- 인풋과 아웃풋, 데이터\n",
    "- 홍길동 010-123-4567 > 딕셔너리 K:V 뮤터블한 객체를 써야 수정이 가능\n",
    "- 사용자 입력을 받아야 되겠구나 input()\n",
    "- 프로그램 while 문\n",
    "- 기능 if 분기문, 숫자를 입력햇을 때 동작 > 인터페이스 정책\n",
    "- 기능1: dict[key] = value\n",
    "- 기능2: print(dict)\n",
    "- 기능3: dict[key]\n",
    "- 기능4: dict[key] = value\n",
    "- 기능5: del\n",
    "- 기능6: break"
   ]
  },
  {
   "cell_type": "code",
   "execution_count": 17,
   "metadata": {},
   "outputs": [
    {
     "name": "stdout",
     "output_type": "stream",
     "text": [
      "1.추가 2.보기 3.검색 4.수정 5.삭제 9. 종료\n",
      "메뉴 선택 (숫자only) 1\n",
      "연락처 추가\n",
      "이름: 노\n",
      "번호: 010\n",
      "노 010\n",
      "==========\n",
      "{'노': '010'}\n",
      "1.추가 2.보기 3.검색 4.수정 5.삭제 9. 종료\n",
      "메뉴 선택 (숫자only) 5\n",
      "연락처 삭제\n",
      "삭제 이름: 노\n",
      "1.추가 2.보기 3.검색 4.수정 5.삭제 9. 종료\n",
      "메뉴 선택 (숫자only) 9\n",
      "종료\n"
     ]
    }
   ],
   "source": [
    "contact = {}\n",
    "while True:\n",
    "    print('1.추가 2.보기 3.검색 4.수정 5.삭제 9. 종료')\n",
    "    \n",
    "    menu = int(input('메뉴 선택 (숫자only) '))\n",
    "    \n",
    "    if menu == 1:\n",
    "        print('연락처 추가')\n",
    "        new_name = input('이름: ')\n",
    "        new_tel = input('번호: ')\n",
    "        print(new_name, new_tel)\n",
    "        contact[new_name] = new_tel\n",
    "        print('='*10)\n",
    "        print(contact)\n",
    "        \n",
    "    elif menu == 2:\n",
    "        print('연락처 조회')\n",
    "        for name, tel in contact.items():\n",
    "            print(name, ':', tel)\n",
    "            print('='*10)\n",
    "    elif menu == 3:\n",
    "        print('연락처 검색')\n",
    "        se_name = input('검색 이름: ')\n",
    "        print(contact.get(se_name,'없는 연락처'))\n",
    "        \n",
    "    elif menu == 4:\n",
    "        print('연락처 수정')\n",
    "        mod_name = input('수정 이름: ')\n",
    "        if mod_name in contact:\n",
    "            mod_tel = input('새 전화번호: ')\n",
    "            contact[mod_name] = mod_tel\n",
    "        else:\n",
    "            print('등록되지 않은 이름')\n",
    "        \n",
    "        \n",
    "    elif menu == 5:\n",
    "        print('연락처 삭제')\n",
    "        del_name = input('삭제 이름: ')\n",
    "        if del_name in contact:\n",
    "            del contact[del_name]\n",
    "        else:\n",
    "            print('등록되지 않은 이름')\n",
    "    \n",
    "    elif menu == 9:\n",
    "        print('종료')\n",
    "        break\n",
    "    \n",
    "    else:\n",
    "        print('잘못된 입력입니다.')"
   ]
  },
  {
   "cell_type": "code",
   "execution_count": null,
   "metadata": {},
   "outputs": [],
   "source": []
  },
  {
   "cell_type": "code",
   "execution_count": null,
   "metadata": {},
   "outputs": [],
   "source": []
  }
 ],
 "metadata": {
  "kernelspec": {
   "display_name": "Python 3 (ipykernel)",
   "language": "python",
   "name": "python3"
  },
  "language_info": {
   "codemirror_mode": {
    "name": "ipython",
    "version": 3
   },
   "file_extension": ".py",
   "mimetype": "text/x-python",
   "name": "python",
   "nbconvert_exporter": "python",
   "pygments_lexer": "ipython3",
   "version": "3.11.5"
  },
  "toc": {
   "base_numbering": 1,
   "nav_menu": {},
   "number_sections": true,
   "sideBar": true,
   "skip_h1_title": false,
   "title_cell": "Table of Contents",
   "title_sidebar": "Contents",
   "toc_cell": false,
   "toc_position": {},
   "toc_section_display": true,
   "toc_window_display": false
  },
  "varInspector": {
   "cols": {
    "lenName": 16,
    "lenType": 16,
    "lenVar": 40
   },
   "kernels_config": {
    "python": {
     "delete_cmd_postfix": "",
     "delete_cmd_prefix": "del ",
     "library": "var_list.py",
     "varRefreshCmd": "print(var_dic_list())"
    },
    "r": {
     "delete_cmd_postfix": ") ",
     "delete_cmd_prefix": "rm(",
     "library": "var_list.r",
     "varRefreshCmd": "cat(var_dic_list()) "
    }
   },
   "types_to_exclude": [
    "module",
    "function",
    "builtin_function_or_method",
    "instance",
    "_Feature"
   ],
   "window_display": false
  }
 },
 "nbformat": 4,
 "nbformat_minor": 2
}
