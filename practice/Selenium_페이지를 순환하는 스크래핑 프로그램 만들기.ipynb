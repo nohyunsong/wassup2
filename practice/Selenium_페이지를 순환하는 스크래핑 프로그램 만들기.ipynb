{
 "cells": [
  {
   "cell_type": "markdown",
   "id": "72346127",
   "metadata": {},
   "source": [
    "## 대한민국 여행사이트에서 페이지를 순환하는 스크래핑 프로그램 만들기"
   ]
  },
  {
   "cell_type": "code",
   "execution_count": 49,
   "id": "26177a82",
   "metadata": {
    "ExecuteTime": {
     "end_time": "2023-12-13T02:11:15.769547Z",
     "start_time": "2023-12-13T02:11:15.765593Z"
    }
   },
   "outputs": [],
   "source": [
    "from selenium import webdriver\n",
    "from selenium.webdriver.common.by import By\n",
    "from selenium.webdriver.chrome.options import Options\n",
    "import math, time\n",
    "\n",
    "options = Options()\n",
    "options.add_argument('--window-size=974,1047')\n",
    "options.add_argument('--window-position=-7,0')\n",
    "options.add_experimental_option(\"detach\", True)"
   ]
  },
  {
   "cell_type": "code",
   "execution_count": 50,
   "id": "709f9cae",
   "metadata": {},
   "outputs": [
    {
     "name": "stdout",
     "output_type": "stream",
     "text": [
      "검색어를 입력하세요.제주도\n"
     ]
    }
   ],
   "source": [
    "search = input('검색어를 입력하세요.')"
   ]
  },
  {
   "cell_type": "code",
   "execution_count": 51,
   "id": "20a78ee7",
   "metadata": {},
   "outputs": [],
   "source": [
    "URL = 'https://korean.visitkorea.or.kr/search/search_list.do?keyword='+search\n",
    "\n",
    "driver = webdriver.Chrome(options=options)\n",
    "driver.get(URL)\n",
    "time.sleep(3)"
   ]
  },
  {
   "cell_type": "code",
   "execution_count": 52,
   "id": "74b8cec7",
   "metadata": {},
   "outputs": [],
   "source": [
    "# 여행기사 더보기 클릭\n",
    "# driver.find_element(By.CSS_SELECTOR, \".more_view > a\").click()\n",
    "driver.find_element(By.CSS_SELECTOR, \"#s_recommend > .more_view > a\").click()"
   ]
  },
  {
   "cell_type": "markdown",
   "id": "26869609",
   "metadata": {},
   "source": [
    "## 페이지 이동\n",
    "```\n",
    "1 : 수집 갯수를 입력받는다.\n",
    "2 : 수집 갯수에 따라 페이지를 이동한다.\n",
    "3 : 각 페이지별 데이터를 수집한다. (타이틀 텍스트)\n",
    "4 : 출력\n",
    "```"
   ]
  },
  {
   "cell_type": "code",
   "execution_count": 90,
   "id": "72ad513a",
   "metadata": {
    "ExecuteTime": {
     "end_time": "2023-12-13T02:11:01.792142Z",
     "start_time": "2023-12-13T02:11:01.500618Z"
    }
   },
   "outputs": [],
   "source": [
    "# 페이지 버튼 클릭\n",
    "driver.find_element(By.XPATH, '/html/body/div[3]/div/div[1]/div[14]/a[2]').click()"
   ]
  },
  {
   "cell_type": "code",
   "execution_count": 95,
   "id": "c047787a",
   "metadata": {
    "ExecuteTime": {
     "end_time": "2023-12-13T02:11:52.562758Z",
     "start_time": "2023-12-13T02:11:51.507610Z"
    }
   },
   "outputs": [
    {
     "name": "stdout",
     "output_type": "stream",
     "text": [
      "크롤링 할 건수는 몇건입니까?: 11\n"
     ]
    },
    {
     "data": {
      "text/plain": [
       "11"
      ]
     },
     "execution_count": 95,
     "metadata": {},
     "output_type": "execute_result"
    }
   ],
   "source": [
    "cnt = int(input('크롤링 할 건수는 몇건입니까?: '))\n",
    "cnt"
   ]
  },
  {
   "cell_type": "code",
   "execution_count": 96,
   "id": "eadfa696",
   "metadata": {
    "ExecuteTime": {
     "end_time": "2023-12-13T02:11:53.119748Z",
     "start_time": "2023-12-13T02:11:53.116310Z"
    }
   },
   "outputs": [
    {
     "name": "stdout",
     "output_type": "stream",
     "text": [
      "2\n"
     ]
    }
   ],
   "source": [
    "page_cnt = math.ceil(cnt / 10) # 크롤링 할 전체 페이지 수 (올림)\n",
    "print(page_cnt)"
   ]
  },
  {
   "cell_type": "code",
   "execution_count": 105,
   "id": "5b4701dd",
   "metadata": {
    "ExecuteTime": {
     "end_time": "2023-12-13T02:11:09.518698Z",
     "start_time": "2023-12-13T02:11:06.734637Z"
    },
    "scrolled": true
   },
   "outputs": [
    {
     "name": "stdout",
     "output_type": "stream",
     "text": [
      "========= 1 페이지 작업 =========\n",
      "1 [행정안전부 x 한국섬진흥원] 2023 찾아가고 싶은 가을섬 5 : 강화 교동도, 안산 대부도, 제주 추자도, 여수 금오도, 남해 조도 · 호도\n",
      "2 겨울의 끝자락에서 봄꽃을 미리봄\n",
      "3 가을은 코스모스만? 형형색색 품은 가을 모음\n",
      "4 [여행 카드] 명절증후군이시군요? 당신께 풀빌라를 처방합니다! 럭셔리하고 저렴한 남해&제주 풀빌라5\n",
      "========= 2 페이지 작업 =========\n",
      "5 바닷가 앞 꽃을 피우다, 김녕금속공예벽화마을 고장난길\n",
      "6 서지현 님의 우리 가족을 위한 유쾌한 여행 (맞춤형 힐링여행 프로젝트)\n",
      "7 치유의 숲으로 초대합니다, 한라산 둘레길\n",
      "8 [제주] 제주 정원 곁에서 온전하게 휴식하고 싶다면, 꿈꾸는 노마드\n",
      "9 어둠의 벙커에서 빛과 음악의 궁전으로, 서귀포 빛의벙커\n",
      "10 파랗게 파랗게 물들었네~ 여름 제주 엿보기!\n",
      "11 나를 설레게 하는 제주 추자도 여행코스\n",
      "========= 작업 완료 =========\n"
     ]
    }
   ],
   "source": [
    "tit_xpath = '//*[@id=\"search_result\"]/ul/li[*]/div[1]/div[1]/a'\n",
    "no = 0\n",
    "\n",
    "for x in range(1, page_cnt+1):\n",
    "    print(f'========= {x} 페이지 작업 =========')\n",
    "    mylist = driver.find_elements(By.XPATH, tit_xpath)\n",
    "    \n",
    "    for item in mylist:\n",
    "        no += 1\n",
    "        if no > cnt:\n",
    "            break\n",
    "        print(no, item.text)\n",
    "    \n",
    "    if no <= cnt:\n",
    "        a = f'/html/body/div[3]/div/div[1]/div[14]/a[{x+1}]'\n",
    "        driver.find_element(By.XPATH, a).click()\n",
    "#         next_button = driver.find_element(By.CSS_SELECTOR, f\"a[id='{x+1}']\")\n",
    "#         driver.execute_script(\"arguments[0].click();\", next_button)\n",
    "        time.sleep(2)\n",
    "    \n",
    "print('========= 작업 완료 =========')\n",
    "# driver.close()"
   ]
  },
  {
   "cell_type": "code",
   "execution_count": 106,
   "id": "d968eb4b",
   "metadata": {
    "ExecuteTime": {
     "end_time": "2023-12-13T02:12:39.076977Z",
     "start_time": "2023-12-13T02:12:36.515857Z"
    },
    "scrolled": false
   },
   "outputs": [
    {
     "name": "stdout",
     "output_type": "stream",
     "text": [
      "========= 1 페이지 작업 =========\n",
      "1 바닷가 앞 꽃을 피우다, 김녕금속공예벽화마을 고장난길\n",
      "2 서지현 님의 우리 가족을 위한 유쾌한 여행 (맞춤형 힐링여행 프로젝트)\n",
      "3 치유의 숲으로 초대합니다, 한라산 둘레길\n",
      "4 [제주] 제주 정원 곁에서 온전하게 휴식하고 싶다면, 꿈꾸는 노마드\n",
      "5 어둠의 벙커에서 빛과 음악의 궁전으로, 서귀포 빛의벙커\n",
      "6 파랗게 파랗게 물들었네~ 여름 제주 엿보기!\n",
      "7 나를 설레게 하는 제주 추자도 여행코스\n",
      "8 2021 생활관광 공모전 포토에세이 장려상 - 조아현\n",
      "9 수국이 수국수국 제주 수국 스팟 모음\n",
      "10 아시아 최대규모 제주항공우주박물관\n"
     ]
    },
    {
     "ename": "NoSuchElementException",
     "evalue": "Message: no such element: Unable to locate element: {\"method\":\"css selector\",\"selector\":\"a[id='2']\"}\n  (Session info: chrome=122.0.6261.129); For documentation on this error, please visit: https://www.selenium.dev/documentation/webdriver/troubleshooting/errors#no-such-element-exception\nStacktrace:\n\tGetHandleVerifier [0x00007FF62FCDAD02+56930]\n\t(No symbol) [0x00007FF62FC4F602]\n\t(No symbol) [0x00007FF62FB042E5]\n\t(No symbol) [0x00007FF62FB498ED]\n\t(No symbol) [0x00007FF62FB49A2C]\n\t(No symbol) [0x00007FF62FB8A967]\n\t(No symbol) [0x00007FF62FB6BCDF]\n\t(No symbol) [0x00007FF62FB881E2]\n\t(No symbol) [0x00007FF62FB6BA43]\n\t(No symbol) [0x00007FF62FB3D438]\n\t(No symbol) [0x00007FF62FB3E4D1]\n\tGetHandleVerifier [0x00007FF630056F8D+3711213]\n\tGetHandleVerifier [0x00007FF6300B04CD+4077101]\n\tGetHandleVerifier [0x00007FF6300A865F+4044735]\n\tGetHandleVerifier [0x00007FF62FD79736+706710]\n\t(No symbol) [0x00007FF62FC5B8DF]\n\t(No symbol) [0x00007FF62FC56AC4]\n\t(No symbol) [0x00007FF62FC56C1C]\n\t(No symbol) [0x00007FF62FC468D4]\n\tBaseThreadInitThunk [0x00007FFE8FD37344+20]\n\tRtlUserThreadStart [0x00007FFE903226B1+33]\n",
     "output_type": "error",
     "traceback": [
      "\u001b[1;31m---------------------------------------------------------------------------\u001b[0m",
      "\u001b[1;31mNoSuchElementException\u001b[0m                    Traceback (most recent call last)",
      "Cell \u001b[1;32mIn[106], line 16\u001b[0m\n\u001b[0;32m     13\u001b[0m     \u001b[38;5;28mprint\u001b[39m(no, item\u001b[38;5;241m.\u001b[39mtext)\n\u001b[0;32m     15\u001b[0m \u001b[38;5;28;01mif\u001b[39;00m no \u001b[38;5;241m<\u001b[39m\u001b[38;5;241m=\u001b[39m cnt:\n\u001b[1;32m---> 16\u001b[0m     next_button \u001b[38;5;241m=\u001b[39m driver\u001b[38;5;241m.\u001b[39mfind_element(By\u001b[38;5;241m.\u001b[39mCSS_SELECTOR, \u001b[38;5;124mf\u001b[39m\u001b[38;5;124m\"\u001b[39m\u001b[38;5;124ma[id=\u001b[39m\u001b[38;5;124m'\u001b[39m\u001b[38;5;132;01m{\u001b[39;00mx\u001b[38;5;241m+\u001b[39m\u001b[38;5;241m1\u001b[39m\u001b[38;5;132;01m}\u001b[39;00m\u001b[38;5;124m'\u001b[39m\u001b[38;5;124m]\u001b[39m\u001b[38;5;124m\"\u001b[39m)\n\u001b[0;32m     17\u001b[0m     driver\u001b[38;5;241m.\u001b[39mexecute_script(\u001b[38;5;124m\"\u001b[39m\u001b[38;5;124marguments[0].click();\u001b[39m\u001b[38;5;124m\"\u001b[39m, next_button)\n\u001b[0;32m     18\u001b[0m     time\u001b[38;5;241m.\u001b[39msleep(\u001b[38;5;241m2\u001b[39m)\n",
      "File \u001b[1;32m~\\anaconda3\\Lib\\site-packages\\selenium\\webdriver\\remote\\webdriver.py:741\u001b[0m, in \u001b[0;36mWebDriver.find_element\u001b[1;34m(self, by, value)\u001b[0m\n\u001b[0;32m    738\u001b[0m     by \u001b[38;5;241m=\u001b[39m By\u001b[38;5;241m.\u001b[39mCSS_SELECTOR\n\u001b[0;32m    739\u001b[0m     value \u001b[38;5;241m=\u001b[39m \u001b[38;5;124mf\u001b[39m\u001b[38;5;124m'\u001b[39m\u001b[38;5;124m[name=\u001b[39m\u001b[38;5;124m\"\u001b[39m\u001b[38;5;132;01m{\u001b[39;00mvalue\u001b[38;5;132;01m}\u001b[39;00m\u001b[38;5;124m\"\u001b[39m\u001b[38;5;124m]\u001b[39m\u001b[38;5;124m'\u001b[39m\n\u001b[1;32m--> 741\u001b[0m \u001b[38;5;28;01mreturn\u001b[39;00m \u001b[38;5;28mself\u001b[39m\u001b[38;5;241m.\u001b[39mexecute(Command\u001b[38;5;241m.\u001b[39mFIND_ELEMENT, {\u001b[38;5;124m\"\u001b[39m\u001b[38;5;124musing\u001b[39m\u001b[38;5;124m\"\u001b[39m: by, \u001b[38;5;124m\"\u001b[39m\u001b[38;5;124mvalue\u001b[39m\u001b[38;5;124m\"\u001b[39m: value})[\u001b[38;5;124m\"\u001b[39m\u001b[38;5;124mvalue\u001b[39m\u001b[38;5;124m\"\u001b[39m]\n",
      "File \u001b[1;32m~\\anaconda3\\Lib\\site-packages\\selenium\\webdriver\\remote\\webdriver.py:347\u001b[0m, in \u001b[0;36mWebDriver.execute\u001b[1;34m(self, driver_command, params)\u001b[0m\n\u001b[0;32m    345\u001b[0m response \u001b[38;5;241m=\u001b[39m \u001b[38;5;28mself\u001b[39m\u001b[38;5;241m.\u001b[39mcommand_executor\u001b[38;5;241m.\u001b[39mexecute(driver_command, params)\n\u001b[0;32m    346\u001b[0m \u001b[38;5;28;01mif\u001b[39;00m response:\n\u001b[1;32m--> 347\u001b[0m     \u001b[38;5;28mself\u001b[39m\u001b[38;5;241m.\u001b[39merror_handler\u001b[38;5;241m.\u001b[39mcheck_response(response)\n\u001b[0;32m    348\u001b[0m     response[\u001b[38;5;124m\"\u001b[39m\u001b[38;5;124mvalue\u001b[39m\u001b[38;5;124m\"\u001b[39m] \u001b[38;5;241m=\u001b[39m \u001b[38;5;28mself\u001b[39m\u001b[38;5;241m.\u001b[39m_unwrap_value(response\u001b[38;5;241m.\u001b[39mget(\u001b[38;5;124m\"\u001b[39m\u001b[38;5;124mvalue\u001b[39m\u001b[38;5;124m\"\u001b[39m, \u001b[38;5;28;01mNone\u001b[39;00m))\n\u001b[0;32m    349\u001b[0m     \u001b[38;5;28;01mreturn\u001b[39;00m response\n",
      "File \u001b[1;32m~\\anaconda3\\Lib\\site-packages\\selenium\\webdriver\\remote\\errorhandler.py:229\u001b[0m, in \u001b[0;36mErrorHandler.check_response\u001b[1;34m(self, response)\u001b[0m\n\u001b[0;32m    227\u001b[0m         alert_text \u001b[38;5;241m=\u001b[39m value[\u001b[38;5;124m\"\u001b[39m\u001b[38;5;124malert\u001b[39m\u001b[38;5;124m\"\u001b[39m]\u001b[38;5;241m.\u001b[39mget(\u001b[38;5;124m\"\u001b[39m\u001b[38;5;124mtext\u001b[39m\u001b[38;5;124m\"\u001b[39m)\n\u001b[0;32m    228\u001b[0m     \u001b[38;5;28;01mraise\u001b[39;00m exception_class(message, screen, stacktrace, alert_text)  \u001b[38;5;66;03m# type: ignore[call-arg]  # mypy is not smart enough here\u001b[39;00m\n\u001b[1;32m--> 229\u001b[0m \u001b[38;5;28;01mraise\u001b[39;00m exception_class(message, screen, stacktrace)\n",
      "\u001b[1;31mNoSuchElementException\u001b[0m: Message: no such element: Unable to locate element: {\"method\":\"css selector\",\"selector\":\"a[id='2']\"}\n  (Session info: chrome=122.0.6261.129); For documentation on this error, please visit: https://www.selenium.dev/documentation/webdriver/troubleshooting/errors#no-such-element-exception\nStacktrace:\n\tGetHandleVerifier [0x00007FF62FCDAD02+56930]\n\t(No symbol) [0x00007FF62FC4F602]\n\t(No symbol) [0x00007FF62FB042E5]\n\t(No symbol) [0x00007FF62FB498ED]\n\t(No symbol) [0x00007FF62FB49A2C]\n\t(No symbol) [0x00007FF62FB8A967]\n\t(No symbol) [0x00007FF62FB6BCDF]\n\t(No symbol) [0x00007FF62FB881E2]\n\t(No symbol) [0x00007FF62FB6BA43]\n\t(No symbol) [0x00007FF62FB3D438]\n\t(No symbol) [0x00007FF62FB3E4D1]\n\tGetHandleVerifier [0x00007FF630056F8D+3711213]\n\tGetHandleVerifier [0x00007FF6300B04CD+4077101]\n\tGetHandleVerifier [0x00007FF6300A865F+4044735]\n\tGetHandleVerifier [0x00007FF62FD79736+706710]\n\t(No symbol) [0x00007FF62FC5B8DF]\n\t(No symbol) [0x00007FF62FC56AC4]\n\t(No symbol) [0x00007FF62FC56C1C]\n\t(No symbol) [0x00007FF62FC468D4]\n\tBaseThreadInitThunk [0x00007FFE8FD37344+20]\n\tRtlUserThreadStart [0x00007FFE903226B1+33]\n"
     ]
    }
   ],
   "source": [
    "# xpath대신 execute_script함수 사용\n",
    "tit_xpath = '//*[@id=\"search_result\"]/ul/li[*]/div[1]/div[1]/a'\n",
    "no = 0\n",
    "\n",
    "for x in range(1, page_cnt+1):\n",
    "    print(f'========= {x} 페이지 작업 =========')\n",
    "    mylist = driver.find_elements(By.XPATH, tit_xpath)\n",
    "    \n",
    "    for item in mylist:\n",
    "        no += 1\n",
    "        if no > cnt:\n",
    "            break\n",
    "        print(no, item.text)\n",
    "    \n",
    "    if no <= cnt:\n",
    "        next_button = driver.find_element(By.CSS_SELECTOR, f\"a[id='{x+1}']\")\n",
    "        driver.execute_script(\"arguments[0].click();\", next_button)\n",
    "        time.sleep(2)\n",
    "        \n",
    "print('========= 작업 완료 =========')"
   ]
  },
  {
   "cell_type": "code",
   "execution_count": null,
   "id": "697243e2",
   "metadata": {},
   "outputs": [],
   "source": []
  }
 ],
 "metadata": {
  "kernelspec": {
   "display_name": "Python 3 (ipykernel)",
   "language": "python",
   "name": "python3"
  },
  "language_info": {
   "codemirror_mode": {
    "name": "ipython",
    "version": 3
   },
   "file_extension": ".py",
   "mimetype": "text/x-python",
   "name": "python",
   "nbconvert_exporter": "python",
   "pygments_lexer": "ipython3",
   "version": "3.11.5"
  }
 },
 "nbformat": 4,
 "nbformat_minor": 5
}
